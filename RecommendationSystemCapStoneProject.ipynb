{
 "cells": [
  {
   "cell_type": "markdown",
   "metadata": {},
   "source": [
    "## Problem Statement"
   ]
  },
  {
   "cell_type": "markdown",
   "metadata": {},
   "source": [
    "The e-commerce business is quite popular today. Here, you do not need to take orders by going to each customer. A company launches its website to sell the items to the end consumer, and customers can order the products that they require from the same website. Famous examples of such e-commerce companies are Amazon, Flipkart, Myntra, Paytm and Snapdeal.\n",
    "Suppose you are working as a Machine Learning Engineer in an e-commerce company named 'Ebuss'. Ebuss has captured a huge market share in many fields, and it sells the products in various categories such as household essentials, books, personal care products, medicines, cosmetic items, beauty products, electrical appliances, kitchen and dining products and health care products.\n",
    "With the advancement in technology, it is imperative for Ebuss to grow quickly in the e-commerce market to become a major leader in the market because it has to compete with the likes of Amazon, Flipkart, etc., which are already market leaders.\n",
    "As a senior ML Engineer, you are asked to build a model that will improve the recommendations given to the users given their past reviews and ratings. \n",
    "In order to do this, you planned to build a sentiment-based product recommendation system, which includes the following tasks.\n",
    "-Data sourcing and sentiment analysis\n",
    "In this task, you have to analyse product reviews after some text preprocessing steps and build an ML model to get the sentiments corresponding to the users' reviews and ratings for multiple products.This dataset consists of 30,000 reviews for more than 200 different products. The reviews and ratings are given by more than 20,000 users. The steps to be performed for the first task are given below.\n",
    "Exploratory data analysis\n",
    "Data cleaning\n",
    "Text preprocessing\n",
    "Feature extraction: In order to extract features from the text data, you may choose from any of the methods, including bag-of-words, TF-IDF vectorization or word embedding.\n",
    "Training a text classification model: You need to build at least three ML models. You then need to analyse the performance of each of these models and choose the best model. At least three out of the following four models need to be built (Do not forget, if required, handle the class imbalance and perform hyperparameter tuning.). \n",
    "1. Logistic regression\n",
    "2. Random forest\n",
    "3. XGBoost\n",
    "4. Naive Bayes\n",
    "\n",
    "Out of these four models, you need to select one classification model based on its performance.\n",
    "\n",
    "-Building a recommendation system\n",
    "As you learnt earlier, you can use the following types of recommendation systems.\n",
    "1. User-based recommendation system\n",
    "2. Item-based recommendation system\n",
    "Your task is to analyse the recommendation systems and select the one that is best suited in this case. \n",
    "Once you get the best-suited recommendation system, the next task is to recommend 20 products that a user is most likely to purchase based on the ratings. You can use the 'reviews_username' (one of the columns in the dataset) to identify your user. \n",
    "\n",
    "-Improving the recommendations using the sentiment analysis model\n",
    "Now, the next task is to link this recommendation system with the sentiment analysis model that was built earlier (recall that we asked you to select one ML model out of the four options). Once you recommend 20 products to a particular user using the recommendation engine, you need to filter out the 5 best products based on the sentiments of the 20 recommended product reviews. \n",
    "In this way, you will get an ML model (for sentiments) and the best-suited recommendation system. Next, you need to deploy the entire project publically.\n",
    "\n",
    "-Deploying the end-to-end project with a user interface\n",
    "Once you get the ML model and the best-suited recommendation system, you will deploy the end-to-end project. You need to use the Flask framework, which is majorly used to create web applications to deploy machine learning models.\n",
    "To make the web application public, you need to use Heroku, which works as the platform as a service (PaaS) that helps developers build, run and operate applications entirely on the cloud.\n",
    "Next, you need to include the following features in the user interface.\n",
    "Take any of the existing usernames as input.\n",
    "Create a submit button to submit the username.\n",
    "Once you press the submit button, it should recommend 5 products based on the entered username.\n",
    "\n",
    "\n",
    " "
   ]
  },
  {
   "cell_type": "code",
   "execution_count": 1,
   "metadata": {},
   "outputs": [],
   "source": [
    "# importing the libraries \n",
    "import pandas as pd\n",
    "import numpy as np\n",
    "import matplotlib.pyplot as plt\n",
    "import seaborn as sns\n",
    "import datetime as dt\n",
    "\n",
    "#--- StopWords\n",
    "import nltk\n",
    "# nltk.download('wordnet')\n",
    "from nltk.stem import WordNetLemmatizer\n",
    "from nltk.tokenize import word_tokenize\n",
    "import spacy\n",
    "import en_core_web_sm\n",
    "nlp = en_core_web_sm.load()\n",
    "import re\n",
    "from wordcloud import WordCloud, STOPWORDS\n",
    "import pickle\n",
    "import warnings\n",
    "warnings.filterwarnings(\"ignore\")"
   ]
  },
  {
   "cell_type": "markdown",
   "metadata": {},
   "source": [
    "#### Reading and understanding the data"
   ]
  },
  {
   "cell_type": "code",
   "execution_count": 2,
   "metadata": {},
   "outputs": [],
   "source": [
    "df = pd.read_csv(\"sample30.csv\")"
   ]
  },
  {
   "cell_type": "code",
   "execution_count": 3,
   "metadata": {},
   "outputs": [
    {
     "data": {
      "text/html": [
       "<div>\n",
       "<style scoped>\n",
       "    .dataframe tbody tr th:only-of-type {\n",
       "        vertical-align: middle;\n",
       "    }\n",
       "\n",
       "    .dataframe tbody tr th {\n",
       "        vertical-align: top;\n",
       "    }\n",
       "\n",
       "    .dataframe thead th {\n",
       "        text-align: right;\n",
       "    }\n",
       "</style>\n",
       "<table border=\"1\" class=\"dataframe\">\n",
       "  <thead>\n",
       "    <tr style=\"text-align: right;\">\n",
       "      <th></th>\n",
       "      <th>id</th>\n",
       "      <th>brand</th>\n",
       "      <th>categories</th>\n",
       "      <th>manufacturer</th>\n",
       "      <th>name</th>\n",
       "      <th>reviews_date</th>\n",
       "      <th>reviews_didPurchase</th>\n",
       "      <th>reviews_doRecommend</th>\n",
       "      <th>reviews_rating</th>\n",
       "      <th>reviews_text</th>\n",
       "      <th>reviews_title</th>\n",
       "      <th>reviews_userCity</th>\n",
       "      <th>reviews_userProvince</th>\n",
       "      <th>reviews_username</th>\n",
       "      <th>user_sentiment</th>\n",
       "    </tr>\n",
       "  </thead>\n",
       "  <tbody>\n",
       "    <tr>\n",
       "      <td>0</td>\n",
       "      <td>AV13O1A8GV-KLJ3akUyj</td>\n",
       "      <td>Universal Music</td>\n",
       "      <td>Movies, Music &amp; Books,Music,R&amp;b,Movies &amp; TV,Mo...</td>\n",
       "      <td>Universal Music Group / Cash Money</td>\n",
       "      <td>Pink Friday: Roman Reloaded Re-Up (w/dvd)</td>\n",
       "      <td>2012-11-30T06:21:45.000Z</td>\n",
       "      <td>NaN</td>\n",
       "      <td>NaN</td>\n",
       "      <td>5</td>\n",
       "      <td>i love this album. it's very good. more to the...</td>\n",
       "      <td>Just Awesome</td>\n",
       "      <td>Los Angeles</td>\n",
       "      <td>NaN</td>\n",
       "      <td>joshua</td>\n",
       "      <td>Positive</td>\n",
       "    </tr>\n",
       "    <tr>\n",
       "      <td>1</td>\n",
       "      <td>AV14LG0R-jtxr-f38QfS</td>\n",
       "      <td>Lundberg</td>\n",
       "      <td>Food,Packaged Foods,Snacks,Crackers,Snacks, Co...</td>\n",
       "      <td>Lundberg</td>\n",
       "      <td>Lundberg Organic Cinnamon Toast Rice Cakes</td>\n",
       "      <td>2017-07-09T00:00:00.000Z</td>\n",
       "      <td>True</td>\n",
       "      <td>NaN</td>\n",
       "      <td>5</td>\n",
       "      <td>Good flavor. This review was collected as part...</td>\n",
       "      <td>Good</td>\n",
       "      <td>NaN</td>\n",
       "      <td>NaN</td>\n",
       "      <td>dorothy w</td>\n",
       "      <td>Positive</td>\n",
       "    </tr>\n",
       "    <tr>\n",
       "      <td>2</td>\n",
       "      <td>AV14LG0R-jtxr-f38QfS</td>\n",
       "      <td>Lundberg</td>\n",
       "      <td>Food,Packaged Foods,Snacks,Crackers,Snacks, Co...</td>\n",
       "      <td>Lundberg</td>\n",
       "      <td>Lundberg Organic Cinnamon Toast Rice Cakes</td>\n",
       "      <td>2017-07-09T00:00:00.000Z</td>\n",
       "      <td>True</td>\n",
       "      <td>NaN</td>\n",
       "      <td>5</td>\n",
       "      <td>Good flavor.</td>\n",
       "      <td>Good</td>\n",
       "      <td>NaN</td>\n",
       "      <td>NaN</td>\n",
       "      <td>dorothy w</td>\n",
       "      <td>Positive</td>\n",
       "    </tr>\n",
       "    <tr>\n",
       "      <td>3</td>\n",
       "      <td>AV16khLE-jtxr-f38VFn</td>\n",
       "      <td>K-Y</td>\n",
       "      <td>Personal Care,Medicine Cabinet,Lubricant/Sperm...</td>\n",
       "      <td>K-Y</td>\n",
       "      <td>K-Y Love Sensuality Pleasure Gel</td>\n",
       "      <td>2016-01-06T00:00:00.000Z</td>\n",
       "      <td>False</td>\n",
       "      <td>False</td>\n",
       "      <td>1</td>\n",
       "      <td>I read through the reviews on here before look...</td>\n",
       "      <td>Disappointed</td>\n",
       "      <td>NaN</td>\n",
       "      <td>NaN</td>\n",
       "      <td>rebecca</td>\n",
       "      <td>Negative</td>\n",
       "    </tr>\n",
       "    <tr>\n",
       "      <td>4</td>\n",
       "      <td>AV16khLE-jtxr-f38VFn</td>\n",
       "      <td>K-Y</td>\n",
       "      <td>Personal Care,Medicine Cabinet,Lubricant/Sperm...</td>\n",
       "      <td>K-Y</td>\n",
       "      <td>K-Y Love Sensuality Pleasure Gel</td>\n",
       "      <td>2016-12-21T00:00:00.000Z</td>\n",
       "      <td>False</td>\n",
       "      <td>False</td>\n",
       "      <td>1</td>\n",
       "      <td>My husband bought this gel for us. The gel cau...</td>\n",
       "      <td>Irritation</td>\n",
       "      <td>NaN</td>\n",
       "      <td>NaN</td>\n",
       "      <td>walker557</td>\n",
       "      <td>Negative</td>\n",
       "    </tr>\n",
       "  </tbody>\n",
       "</table>\n",
       "</div>"
      ],
      "text/plain": [
       "                     id            brand  \\\n",
       "0  AV13O1A8GV-KLJ3akUyj  Universal Music   \n",
       "1  AV14LG0R-jtxr-f38QfS         Lundberg   \n",
       "2  AV14LG0R-jtxr-f38QfS         Lundberg   \n",
       "3  AV16khLE-jtxr-f38VFn              K-Y   \n",
       "4  AV16khLE-jtxr-f38VFn              K-Y   \n",
       "\n",
       "                                          categories  \\\n",
       "0  Movies, Music & Books,Music,R&b,Movies & TV,Mo...   \n",
       "1  Food,Packaged Foods,Snacks,Crackers,Snacks, Co...   \n",
       "2  Food,Packaged Foods,Snacks,Crackers,Snacks, Co...   \n",
       "3  Personal Care,Medicine Cabinet,Lubricant/Sperm...   \n",
       "4  Personal Care,Medicine Cabinet,Lubricant/Sperm...   \n",
       "\n",
       "                         manufacturer  \\\n",
       "0  Universal Music Group / Cash Money   \n",
       "1                            Lundberg   \n",
       "2                            Lundberg   \n",
       "3                                 K-Y   \n",
       "4                                 K-Y   \n",
       "\n",
       "                                         name              reviews_date  \\\n",
       "0   Pink Friday: Roman Reloaded Re-Up (w/dvd)  2012-11-30T06:21:45.000Z   \n",
       "1  Lundberg Organic Cinnamon Toast Rice Cakes  2017-07-09T00:00:00.000Z   \n",
       "2  Lundberg Organic Cinnamon Toast Rice Cakes  2017-07-09T00:00:00.000Z   \n",
       "3            K-Y Love Sensuality Pleasure Gel  2016-01-06T00:00:00.000Z   \n",
       "4            K-Y Love Sensuality Pleasure Gel  2016-12-21T00:00:00.000Z   \n",
       "\n",
       "  reviews_didPurchase reviews_doRecommend  reviews_rating  \\\n",
       "0                 NaN                 NaN               5   \n",
       "1                True                 NaN               5   \n",
       "2                True                 NaN               5   \n",
       "3               False               False               1   \n",
       "4               False               False               1   \n",
       "\n",
       "                                        reviews_text reviews_title  \\\n",
       "0  i love this album. it's very good. more to the...  Just Awesome   \n",
       "1  Good flavor. This review was collected as part...          Good   \n",
       "2                                       Good flavor.          Good   \n",
       "3  I read through the reviews on here before look...  Disappointed   \n",
       "4  My husband bought this gel for us. The gel cau...    Irritation   \n",
       "\n",
       "  reviews_userCity reviews_userProvince reviews_username user_sentiment  \n",
       "0      Los Angeles                  NaN           joshua       Positive  \n",
       "1              NaN                  NaN        dorothy w       Positive  \n",
       "2              NaN                  NaN        dorothy w       Positive  \n",
       "3              NaN                  NaN          rebecca       Negative  \n",
       "4              NaN                  NaN        walker557       Negative  "
      ]
     },
     "execution_count": 3,
     "metadata": {},
     "output_type": "execute_result"
    }
   ],
   "source": [
    "df.head()"
   ]
  },
  {
   "cell_type": "code",
   "execution_count": 4,
   "metadata": {},
   "outputs": [
    {
     "data": {
      "text/plain": [
       "(30000, 15)"
      ]
     },
     "execution_count": 4,
     "metadata": {},
     "output_type": "execute_result"
    }
   ],
   "source": [
    "df.shape"
   ]
  },
  {
   "cell_type": "code",
   "execution_count": 5,
   "metadata": {},
   "outputs": [
    {
     "name": "stdout",
     "output_type": "stream",
     "text": [
      "<class 'pandas.core.frame.DataFrame'>\n",
      "RangeIndex: 30000 entries, 0 to 29999\n",
      "Data columns (total 15 columns):\n",
      "id                      30000 non-null object\n",
      "brand                   30000 non-null object\n",
      "categories              30000 non-null object\n",
      "manufacturer            29859 non-null object\n",
      "name                    30000 non-null object\n",
      "reviews_date            29954 non-null object\n",
      "reviews_didPurchase     15932 non-null object\n",
      "reviews_doRecommend     27430 non-null object\n",
      "reviews_rating          30000 non-null int64\n",
      "reviews_text            30000 non-null object\n",
      "reviews_title           29810 non-null object\n",
      "reviews_userCity        1929 non-null object\n",
      "reviews_userProvince    170 non-null object\n",
      "reviews_username        29937 non-null object\n",
      "user_sentiment          29999 non-null object\n",
      "dtypes: int64(1), object(14)\n",
      "memory usage: 3.4+ MB\n"
     ]
    }
   ],
   "source": [
    "df.info()"
   ]
  },
  {
   "cell_type": "markdown",
   "metadata": {},
   "source": [
    "#### Data Cleaning"
   ]
  },
  {
   "cell_type": "code",
   "execution_count": 6,
   "metadata": {},
   "outputs": [
    {
     "data": {
      "text/plain": [
       "manufacturer             0.470000\n",
       "reviews_date             0.153333\n",
       "reviews_didPurchase     46.893333\n",
       "reviews_doRecommend      8.566667\n",
       "reviews_title            0.633333\n",
       "reviews_userCity        93.570000\n",
       "reviews_userProvince    99.433333\n",
       "reviews_username         0.210000\n",
       "user_sentiment           0.003333\n",
       "dtype: float64"
      ]
     },
     "execution_count": 6,
     "metadata": {},
     "output_type": "execute_result"
    }
   ],
   "source": [
    "#Checking Null precentage\n",
    "na_col = (df.isna().sum()/df.shape[0])*100\n",
    "na_col=na_col[na_col.values>0]\n",
    "na_col"
   ]
  },
  {
   "cell_type": "code",
   "execution_count": 7,
   "metadata": {},
   "outputs": [],
   "source": [
    "# Removing all columns with more than 50% null values\n",
    "na_col = list(na_col[na_col.values>=50].index)\n",
    "df.drop(labels=na_col,axis=1,inplace=True)"
   ]
  },
  {
   "cell_type": "code",
   "execution_count": 8,
   "metadata": {},
   "outputs": [
    {
     "data": {
      "text/plain": [
       "manufacturer            0.470000\n",
       "reviews_date            0.153333\n",
       "reviews_didPurchase    46.893333\n",
       "reviews_doRecommend     8.566667\n",
       "reviews_title           0.633333\n",
       "reviews_username        0.210000\n",
       "user_sentiment          0.003333\n",
       "dtype: float64"
      ]
     },
     "execution_count": 8,
     "metadata": {},
     "output_type": "execute_result"
    }
   ],
   "source": [
    "na_col = (df.isna().sum()/df.shape[0])*100\n",
    "na_col=na_col[na_col.values>0]\n",
    "na_col"
   ]
  },
  {
   "cell_type": "code",
   "execution_count": 9,
   "metadata": {},
   "outputs": [
    {
     "data": {
      "text/plain": [
       "byamazon customer    39\n",
       "mike                 24\n",
       "chris                19\n",
       "tony                  7\n",
       "scott                 6\n",
       "                     ..\n",
       "billybob789           1\n",
       "klh392                1\n",
       "macdaddy3409          1\n",
       "marciejo              1\n",
       "katrina               1\n",
       "Name: reviews_username, Length: 2116, dtype: int64"
      ]
     },
     "execution_count": 9,
     "metadata": {},
     "output_type": "execute_result"
    }
   ],
   "source": [
    "# Checking duplicates which have same id and username\n",
    "df_duplicates = df[df.duplicated(subset={\"reviews_username\",\"id\"})]\n",
    "df_duplicates.reviews_username.value_counts()"
   ]
  },
  {
   "cell_type": "code",
   "execution_count": 10,
   "metadata": {},
   "outputs": [],
   "source": [
    "#Deleting all the duplicates having the same product id and username.\n",
    "df = df.drop_duplicates(subset={\"reviews_username\",\"id\"},keep=\"first\")"
   ]
  },
  {
   "cell_type": "code",
   "execution_count": 162,
   "metadata": {},
   "outputs": [],
   "source": [
    "pickle.dump(df, open('data','wb'))"
   ]
  },
  {
   "cell_type": "markdown",
   "metadata": {},
   "source": [
    "## EDA"
   ]
  },
  {
   "cell_type": "code",
   "execution_count": 12,
   "metadata": {},
   "outputs": [
    {
     "data": {
      "text/plain": [
       "False    13575\n",
       "True      1423\n",
       "Name: reviews_didPurchase, dtype: int64"
      ]
     },
     "execution_count": 12,
     "metadata": {},
     "output_type": "execute_result"
    }
   ],
   "source": [
    "df['reviews_didPurchase'].value_counts()"
   ]
  },
  {
   "cell_type": "code",
   "execution_count": 13,
   "metadata": {},
   "outputs": [],
   "source": [
    "df['reviews_didPurchase'].fillna('Null', inplace=True)"
   ]
  },
  {
   "cell_type": "code",
   "execution_count": 14,
   "metadata": {},
   "outputs": [
    {
     "data": {
      "image/png": "[encoded data removed]",
      "text/plain": [
       "<Figure size 720x576 with 1 Axes>"
      ]
     },
     "metadata": {
      "needs_background": "light"
     },
     "output_type": "display_data"
    }
   ],
   "source": [
    "plt.figure(figsize=(10,8))\n",
    "ax = sns.countplot(df['reviews_didPurchase'])\n",
    "ax.set_xlabel(xlabel=\"Shoppers who purchased the product\", fontsize=17)\n",
    "ax.set_ylabel(ylabel='Count of Reviews', fontsize=17)\n",
    "ax.axes.set_title('Number of Purchased products', fontsize=17)\n",
    "ax.tick_params(labelsize=13)\n",
    "plt.show()"
   ]
  },
  {
   "cell_type": "markdown",
   "metadata": {},
   "source": [
    "Inference:- We can the people have pruchased the products are vert less when compared to people who haven't"
   ]
  },
  {
   "cell_type": "code",
   "execution_count": 15,
   "metadata": {},
   "outputs": [
    {
     "data": {
      "text/plain": [
       "True     24087\n",
       "False     1506\n",
       "Name: reviews_doRecommend, dtype: int64"
      ]
     },
     "execution_count": 15,
     "metadata": {},
     "output_type": "execute_result"
    }
   ],
   "source": [
    "df['reviews_doRecommend'].value_counts()"
   ]
  },
  {
   "cell_type": "code",
   "execution_count": 16,
   "metadata": {},
   "outputs": [],
   "source": [
    "df['reviews_doRecommend'].fillna('Null', inplace=True)"
   ]
  },
  {
   "cell_type": "code",
   "execution_count": 17,
   "metadata": {},
   "outputs": [
    {
     "data": {
      "image/png": "[encoded data removed]",
      "text/plain": [
       "<Figure size 720x576 with 1 Axes>"
      ]
     },
     "metadata": {
      "needs_background": "light"
     },
     "output_type": "display_data"
    }
   ],
   "source": [
    "plt.figure(figsize=(10,8))\n",
    "ax = sns.countplot(df['reviews_doRecommend'])\n",
    "ax.set_xlabel(xlabel=\"Shoppers who recommend the product\", fontsize=17)\n",
    "ax.set_ylabel(ylabel='Count of Reviews', fontsize=17)\n",
    "ax.axes.set_title('Number of recommended products', fontsize=17)\n",
    "ax.tick_params(labelsize=13)\n",
    "plt.show()"
   ]
  },
  {
   "cell_type": "markdown",
   "metadata": {},
   "source": [
    "Inference:- We can see the number of people who have recommended the projet are higher than people who haven't"
   ]
  },
  {
   "cell_type": "code",
   "execution_count": 18,
   "metadata": {},
   "outputs": [
    {
     "data": {
      "image/png": "[encoded data removed]",
      "text/plain": [
       "<Figure size 1080x720 with 1 Axes>"
      ]
     },
     "metadata": {
      "needs_background": "light"
     },
     "output_type": "display_data"
    }
   ],
   "source": [
    "#Checking top 10 most purchased product\n",
    "result = df[df['reviews_didPurchase'] == True]\n",
    "result['name'].value_counts()[0:10].plot(kind = 'barh', figsize=[15,10], fontsize=15).invert_yaxis()"
   ]
  },
  {
   "cell_type": "markdown",
   "metadata": {},
   "source": [
    "Inference:- Hormel Chill,No beans is the product which was purchased the most. "
   ]
  },
  {
   "cell_type": "code",
   "execution_count": 19,
   "metadata": {},
   "outputs": [
    {
     "data": {
      "image/png": "[encoded data removed]",
      "text/plain": [
       "<Figure size 1080x720 with 1 Axes>"
      ]
     },
     "metadata": {
      "needs_background": "light"
     },
     "output_type": "display_data"
    }
   ],
   "source": [
    "#Checking top 10 most Trusted Brand\n",
    "result = df[(df['reviews_didPurchase'] == True) & (df.user_sentiment==\"Positive\")]\n",
    "result['brand'].value_counts()[0:10].plot(kind = 'barh', figsize=[15,10], fontsize=15).invert_yaxis()"
   ]
  },
  {
   "cell_type": "markdown",
   "metadata": {},
   "source": [
    "Inference:- Hormel is the Most Trusted brand with positive setiments "
   ]
  },
  {
   "cell_type": "code",
   "execution_count": 20,
   "metadata": {},
   "outputs": [
    {
     "data": {
      "image/png": "[encoded data removed]",
      "text/plain": [
       "<Figure size 1080x720 with 1 Axes>"
      ]
     },
     "metadata": {
      "needs_background": "light"
     },
     "output_type": "display_data"
    }
   ],
   "source": [
    "#Checking Least Trusted Brand\n",
    "result = df[(df['reviews_didPurchase'] == True) & (df.user_sentiment==\"Negative\")]\n",
    "result['brand'].value_counts()[0:10].plot(kind = 'barh', figsize=[15,10], fontsize=15).invert_yaxis()"
   ]
  },
  {
   "cell_type": "markdown",
   "metadata": {},
   "source": [
    "Inference:- Chester's is the least trusted brand with negative user sentiments "
   ]
  },
  {
   "cell_type": "code",
   "execution_count": 21,
   "metadata": {},
   "outputs": [
    {
     "data": {
      "image/png": "[encoded data removed]",
      "text/plain": [
       "<Figure size 1080x720 with 1 Axes>"
      ]
     },
     "metadata": {
      "needs_background": "light"
     },
     "output_type": "display_data"
    }
   ],
   "source": [
    "#Checking top 10 most Recommeded Brand with Positive user sentiment \n",
    "result = df[(df['reviews_doRecommend'] == True) & (df.user_sentiment==\"Positive\")]\n",
    "result['brand'].value_counts()[0:10].plot(kind = 'barh', figsize=[15,10], fontsize=15).invert_yaxis()"
   ]
  },
  {
   "cell_type": "markdown",
   "metadata": {},
   "source": [
    "Inference:- Clorox is the most recommended brand with positive user sentiments"
   ]
  },
  {
   "cell_type": "code",
   "execution_count": 22,
   "metadata": {},
   "outputs": [
    {
     "data": {
      "image/png": "[encoded data removed]",
      "text/plain": [
       "<Figure size 1080x720 with 1 Axes>"
      ]
     },
     "metadata": {
      "needs_background": "light"
     },
     "output_type": "display_data"
    }
   ],
   "source": [
    "#Checking top 10 Least Recommeded Brand with Positive user sentiment \n",
    "result = df[(df['reviews_doRecommend'] == False) & (df.user_sentiment==\"Negative\")]\n",
    "result['brand'].value_counts()[0:10].plot(kind = 'barh', figsize=[15,10], fontsize=15).invert_yaxis()"
   ]
  },
  {
   "cell_type": "markdown",
   "metadata": {},
   "source": [
    "Inference:- Nexxus is the least recommended brand with negative user sentiments"
   ]
  },
  {
   "cell_type": "code",
   "execution_count": 23,
   "metadata": {},
   "outputs": [
    {
     "data": {
      "text/plain": [
       "2012-01-26T00:00:00.000Z    975\n",
       "2014-12-03T00:00:00.000Z    470\n",
       "2014-09-19T00:00:00.000Z    389\n",
       "2014-12-05T00:00:00.000Z    320\n",
       "2012-01-27T00:00:00.000Z    281\n",
       "                           ... \n",
       "2014-12-05T14:56:48.000Z      1\n",
       "2011-04-20T07:00:00.000Z      1\n",
       "2015-02-25T14:30:32.000Z      1\n",
       "2010-03-21T00:00:00.000Z      1\n",
       "2016-12-20T13:23:03.000Z      1\n",
       "Name: reviews_date, Length: 5860, dtype: int64"
      ]
     },
     "execution_count": 23,
     "metadata": {},
     "output_type": "execute_result"
    }
   ],
   "source": [
    "# Seprating Year from reviews date\n",
    "df['reviews_date'].value_counts()"
   ]
  },
  {
   "cell_type": "code",
   "execution_count": 24,
   "metadata": {},
   "outputs": [],
   "source": [
    "df['reviews_date'] = df['reviews_date'].str[:10]"
   ]
  },
  {
   "cell_type": "code",
   "execution_count": 25,
   "metadata": {},
   "outputs": [
    {
     "data": {
      "text/plain": [
       "43"
      ]
     },
     "execution_count": 25,
     "metadata": {},
     "output_type": "execute_result"
    }
   ],
   "source": [
    "# Checking for null values in review date\n",
    "df['reviews_date'].isna().sum()"
   ]
  },
  {
   "cell_type": "code",
   "execution_count": 26,
   "metadata": {},
   "outputs": [],
   "source": [
    "df['reviews_date'] = pd.to_datetime(df['reviews_date'], errors='coerce')"
   ]
  },
  {
   "cell_type": "code",
   "execution_count": 27,
   "metadata": {},
   "outputs": [
    {
     "data": {
      "text/plain": [
       "51"
      ]
     },
     "execution_count": 27,
     "metadata": {},
     "output_type": "execute_result"
    }
   ],
   "source": [
    "df['reviews_date'].isna().sum()"
   ]
  },
  {
   "cell_type": "code",
   "execution_count": 28,
   "metadata": {},
   "outputs": [],
   "source": [
    "# Assigning year to year column in dataframe df\n",
    "df['year'] = df['reviews_date'].dt.year"
   ]
  },
  {
   "cell_type": "code",
   "execution_count": 29,
   "metadata": {},
   "outputs": [
    {
     "data": {
      "text/plain": [
       "51"
      ]
     },
     "execution_count": 29,
     "metadata": {},
     "output_type": "execute_result"
    }
   ],
   "source": [
    "df['year'].isna().sum()"
   ]
  },
  {
   "cell_type": "code",
   "execution_count": 30,
   "metadata": {},
   "outputs": [
    {
     "data": {
      "text/plain": [
       "2014.0    7851\n",
       "2015.0    5973\n",
       "2016.0    4497\n",
       "2012.0    3952\n",
       "2017.0    2731\n",
       "2013.0    1284\n",
       "2009.0     445\n",
       "2011.0     438\n",
       "2010.0     351\n",
       "2008.0      19\n",
       "2007.0      10\n",
       "2018.0       3\n",
       "Name: year, dtype: int64"
      ]
     },
     "execution_count": 30,
     "metadata": {},
     "output_type": "execute_result"
    }
   ],
   "source": [
    "df['year'].value_counts()"
   ]
  },
  {
   "cell_type": "code",
   "execution_count": 31,
   "metadata": {},
   "outputs": [],
   "source": [
    "# Filling Null Values with 2014.0\n",
    "df['year'] = df['year'].fillna(2014.0)"
   ]
  },
  {
   "cell_type": "code",
   "execution_count": 32,
   "metadata": {},
   "outputs": [
    {
     "data": {
      "text/plain": [
       "0"
      ]
     },
     "execution_count": 32,
     "metadata": {},
     "output_type": "execute_result"
    }
   ],
   "source": [
    "df['year'].isna().sum()"
   ]
  },
  {
   "cell_type": "code",
   "execution_count": 33,
   "metadata": {},
   "outputs": [],
   "source": [
    "# Converting year column to type int\n",
    "df['year'] = df['year'].astype(int)"
   ]
  },
  {
   "cell_type": "code",
   "execution_count": 34,
   "metadata": {},
   "outputs": [
    {
     "data": {
      "text/plain": [
       "<matplotlib.axes._subplots.AxesSubplot at 0x26f99537dc8>"
      ]
     },
     "execution_count": 34,
     "metadata": {},
     "output_type": "execute_result"
    },
    {
     "data": {
      "image/png": "[encoded data removed]",
      "text/plain": [
       "<Figure size 432x288 with 1 Axes>"
      ]
     },
     "metadata": {
      "needs_background": "light"
     },
     "output_type": "display_data"
    }
   ],
   "source": [
    "sns.lineplot(data=df['year'].value_counts())"
   ]
  },
  {
   "cell_type": "markdown",
   "metadata": {},
   "source": [
    "Inference:- 2014 was the year people most gave reviews in and then we can see the steady decline till year 2018"
   ]
  },
  {
   "cell_type": "code",
   "execution_count": 35,
   "metadata": {},
   "outputs": [],
   "source": [
    "df['month'] = df['reviews_date'].dt.month"
   ]
  },
  {
   "cell_type": "code",
   "execution_count": 36,
   "metadata": {},
   "outputs": [
    {
     "data": {
      "text/plain": [
       "51"
      ]
     },
     "execution_count": 36,
     "metadata": {},
     "output_type": "execute_result"
    }
   ],
   "source": [
    "df['month'].isna().sum()"
   ]
  },
  {
   "cell_type": "code",
   "execution_count": 37,
   "metadata": {},
   "outputs": [
    {
     "data": {
      "text/plain": [
       "1.0     6642\n",
       "12.0    5444\n",
       "2.0     2751\n",
       "10.0    1882\n",
       "11.0    1811\n",
       "9.0     1746\n",
       "3.0     1389\n",
       "8.0     1290\n",
       "5.0     1244\n",
       "4.0     1193\n",
       "6.0     1133\n",
       "7.0     1029\n",
       "Name: month, dtype: int64"
      ]
     },
     "execution_count": 37,
     "metadata": {},
     "output_type": "execute_result"
    }
   ],
   "source": [
    "df['month'].value_counts()"
   ]
  },
  {
   "cell_type": "code",
   "execution_count": 38,
   "metadata": {},
   "outputs": [],
   "source": [
    "# Filling null values with 1.0 in month column\n",
    "df['month'] = df['month'].fillna(1.0)"
   ]
  },
  {
   "cell_type": "code",
   "execution_count": 39,
   "metadata": {},
   "outputs": [],
   "source": [
    "# Assigning month to month column in dataframe df\n",
    "df['month'] = df['month'].astype(int)"
   ]
  },
  {
   "cell_type": "code",
   "execution_count": 40,
   "metadata": {},
   "outputs": [
    {
     "data": {
      "text/plain": [
       "<matplotlib.axes._subplots.AxesSubplot at 0x26f97dcb748>"
      ]
     },
     "execution_count": 40,
     "metadata": {},
     "output_type": "execute_result"
    },
    {
     "data": {
      "image/png": "[encoded data removed]",
      "text/plain": [
       "<Figure size 1080x720 with 1 Axes>"
      ]
     },
     "metadata": {
      "needs_background": "light"
     },
     "output_type": "display_data"
    }
   ],
   "source": [
    "df['month'].value_counts().sort_index().plot(kind = 'bar', figsize=[15,10], fontsize=15)"
   ]
  },
  {
   "cell_type": "markdown",
   "metadata": {},
   "source": [
    "Inference:- We can see the highest number of reviews are in month January followed by december "
   ]
  },
  {
   "cell_type": "code",
   "execution_count": 41,
   "metadata": {},
   "outputs": [
    {
     "data": {
      "text/plain": [
       "<matplotlib.axes._subplots.AxesSubplot at 0x26f97e545c8>"
      ]
     },
     "execution_count": 41,
     "metadata": {},
     "output_type": "execute_result"
    },
    {
     "data": {
      "image/png": "[encoded data removed]",
      "text/plain": [
       "<Figure size 1080x720 with 1 Axes>"
      ]
     },
     "metadata": {
      "needs_background": "light"
     },
     "output_type": "display_data"
    }
   ],
   "source": [
    "df['reviews_rating'].value_counts().sort_index().plot(kind = 'bar', figsize=[15,10], fontsize=15)"
   ]
  },
  {
   "cell_type": "markdown",
   "metadata": {},
   "source": [
    "Inference:- We can see the reviews given by people are mostly 5 Star"
   ]
  },
  {
   "cell_type": "markdown",
   "metadata": {},
   "source": [
    "#### Since we are doing sentiment analysis, we just need 3 mst relevant columns from the entire dataset- user_sentiment , reviews_text & reviews_title.Hence we form a new datafrane with these 3 columns only"
   ]
  },
  {
   "cell_type": "code",
   "execution_count": 42,
   "metadata": {},
   "outputs": [],
   "source": [
    "# Assigning useful columns in dffinal dataframe  \n",
    "dfFinal = df[['reviews_text','reviews_title','user_sentiment']]"
   ]
  },
  {
   "cell_type": "code",
   "execution_count": 43,
   "metadata": {},
   "outputs": [
    {
     "data": {
      "text/plain": [
       "(27605, 3)"
      ]
     },
     "execution_count": 43,
     "metadata": {},
     "output_type": "execute_result"
    }
   ],
   "source": [
    "dfFinal.shape"
   ]
  },
  {
   "cell_type": "code",
   "execution_count": 44,
   "metadata": {},
   "outputs": [
    {
     "data": {
      "text/html": [
       "<div>\n",
       "<style scoped>\n",
       "    .dataframe tbody tr th:only-of-type {\n",
       "        vertical-align: middle;\n",
       "    }\n",
       "\n",
       "    .dataframe tbody tr th {\n",
       "        vertical-align: top;\n",
       "    }\n",
       "\n",
       "    .dataframe thead th {\n",
       "        text-align: right;\n",
       "    }\n",
       "</style>\n",
       "<table border=\"1\" class=\"dataframe\">\n",
       "  <thead>\n",
       "    <tr style=\"text-align: right;\">\n",
       "      <th></th>\n",
       "      <th>reviews_text</th>\n",
       "      <th>reviews_title</th>\n",
       "      <th>user_sentiment</th>\n",
       "    </tr>\n",
       "  </thead>\n",
       "  <tbody>\n",
       "    <tr>\n",
       "      <td>0</td>\n",
       "      <td>i love this album. it's very good. more to the...</td>\n",
       "      <td>Just Awesome</td>\n",
       "      <td>Positive</td>\n",
       "    </tr>\n",
       "    <tr>\n",
       "      <td>1</td>\n",
       "      <td>Good flavor. This review was collected as part...</td>\n",
       "      <td>Good</td>\n",
       "      <td>Positive</td>\n",
       "    </tr>\n",
       "    <tr>\n",
       "      <td>3</td>\n",
       "      <td>I read through the reviews on here before look...</td>\n",
       "      <td>Disappointed</td>\n",
       "      <td>Negative</td>\n",
       "    </tr>\n",
       "    <tr>\n",
       "      <td>4</td>\n",
       "      <td>My husband bought this gel for us. The gel cau...</td>\n",
       "      <td>Irritation</td>\n",
       "      <td>Negative</td>\n",
       "    </tr>\n",
       "    <tr>\n",
       "      <td>5</td>\n",
       "      <td>My boyfriend and I bought this to spice things...</td>\n",
       "      <td>Not worth it</td>\n",
       "      <td>Negative</td>\n",
       "    </tr>\n",
       "  </tbody>\n",
       "</table>\n",
       "</div>"
      ],
      "text/plain": [
       "                                        reviews_text reviews_title  \\\n",
       "0  i love this album. it's very good. more to the...  Just Awesome   \n",
       "1  Good flavor. This review was collected as part...          Good   \n",
       "3  I read through the reviews on here before look...  Disappointed   \n",
       "4  My husband bought this gel for us. The gel cau...    Irritation   \n",
       "5  My boyfriend and I bought this to spice things...  Not worth it   \n",
       "\n",
       "  user_sentiment  \n",
       "0       Positive  \n",
       "1       Positive  \n",
       "3       Negative  \n",
       "4       Negative  \n",
       "5       Negative  "
      ]
     },
     "execution_count": 44,
     "metadata": {},
     "output_type": "execute_result"
    }
   ],
   "source": [
    "dfFinal.head()"
   ]
  },
  {
   "cell_type": "code",
   "execution_count": 45,
   "metadata": {},
   "outputs": [
    {
     "data": {
      "text/html": [
       "<div>\n",
       "<style scoped>\n",
       "    .dataframe tbody tr th:only-of-type {\n",
       "        vertical-align: middle;\n",
       "    }\n",
       "\n",
       "    .dataframe tbody tr th {\n",
       "        vertical-align: top;\n",
       "    }\n",
       "\n",
       "    .dataframe thead th {\n",
       "        text-align: right;\n",
       "    }\n",
       "</style>\n",
       "<table border=\"1\" class=\"dataframe\">\n",
       "  <thead>\n",
       "    <tr style=\"text-align: right;\">\n",
       "      <th></th>\n",
       "      <th>reviews_title</th>\n",
       "      <th>reviews_text</th>\n",
       "      <th>user_reviews</th>\n",
       "    </tr>\n",
       "  </thead>\n",
       "  <tbody>\n",
       "    <tr>\n",
       "      <td>0</td>\n",
       "      <td>Just Awesome</td>\n",
       "      <td>i love this album. it's very good. more to the...</td>\n",
       "      <td>Just Awesome i love this album. it's very good...</td>\n",
       "    </tr>\n",
       "    <tr>\n",
       "      <td>1</td>\n",
       "      <td>Good</td>\n",
       "      <td>Good flavor. This review was collected as part...</td>\n",
       "      <td>Good Good flavor. This review was collected as...</td>\n",
       "    </tr>\n",
       "    <tr>\n",
       "      <td>3</td>\n",
       "      <td>Disappointed</td>\n",
       "      <td>I read through the reviews on here before look...</td>\n",
       "      <td>Disappointed I read through the reviews on her...</td>\n",
       "    </tr>\n",
       "    <tr>\n",
       "      <td>4</td>\n",
       "      <td>Irritation</td>\n",
       "      <td>My husband bought this gel for us. The gel cau...</td>\n",
       "      <td>Irritation My husband bought this gel for us. ...</td>\n",
       "    </tr>\n",
       "    <tr>\n",
       "      <td>5</td>\n",
       "      <td>Not worth it</td>\n",
       "      <td>My boyfriend and I bought this to spice things...</td>\n",
       "      <td>Not worth it My boyfriend and I bought this to...</td>\n",
       "    </tr>\n",
       "    <tr>\n",
       "      <td>...</td>\n",
       "      <td>...</td>\n",
       "      <td>...</td>\n",
       "      <td>...</td>\n",
       "    </tr>\n",
       "    <tr>\n",
       "      <td>29995</td>\n",
       "      <td>Softness!!</td>\n",
       "      <td>I got this conditioner with Influenster to try...</td>\n",
       "      <td>Softness!! I got this conditioner with Influen...</td>\n",
       "    </tr>\n",
       "    <tr>\n",
       "      <td>29996</td>\n",
       "      <td>I love it</td>\n",
       "      <td>I love it , I received this for review purpose...</td>\n",
       "      <td>I love it I love it , I received this for revi...</td>\n",
       "    </tr>\n",
       "    <tr>\n",
       "      <td>29997</td>\n",
       "      <td>Hair is so smooth after use</td>\n",
       "      <td>First of all I love the smell of this product....</td>\n",
       "      <td>Hair is so smooth after use First of all I lov...</td>\n",
       "    </tr>\n",
       "    <tr>\n",
       "      <td>29998</td>\n",
       "      <td>Perfect for my oily hair!</td>\n",
       "      <td>I received this through Influenster and will n...</td>\n",
       "      <td>Perfect for my oily hair! I received this thro...</td>\n",
       "    </tr>\n",
       "    <tr>\n",
       "      <td>29999</td>\n",
       "      <td>Conditioned into healthy</td>\n",
       "      <td>I received this product complimentary from inf...</td>\n",
       "      <td>Conditioned into healthy I received this produ...</td>\n",
       "    </tr>\n",
       "  </tbody>\n",
       "</table>\n",
       "<p>27605 rows × 3 columns</p>\n",
       "</div>"
      ],
      "text/plain": [
       "                     reviews_title  \\\n",
       "0                     Just Awesome   \n",
       "1                             Good   \n",
       "3                     Disappointed   \n",
       "4                       Irritation   \n",
       "5                     Not worth it   \n",
       "...                            ...   \n",
       "29995                   Softness!!   \n",
       "29996                    I love it   \n",
       "29997  Hair is so smooth after use   \n",
       "29998    Perfect for my oily hair!   \n",
       "29999     Conditioned into healthy   \n",
       "\n",
       "                                            reviews_text  \\\n",
       "0      i love this album. it's very good. more to the...   \n",
       "1      Good flavor. This review was collected as part...   \n",
       "3      I read through the reviews on here before look...   \n",
       "4      My husband bought this gel for us. The gel cau...   \n",
       "5      My boyfriend and I bought this to spice things...   \n",
       "...                                                  ...   \n",
       "29995  I got this conditioner with Influenster to try...   \n",
       "29996  I love it , I received this for review purpose...   \n",
       "29997  First of all I love the smell of this product....   \n",
       "29998  I received this through Influenster and will n...   \n",
       "29999  I received this product complimentary from inf...   \n",
       "\n",
       "                                            user_reviews  \n",
       "0      Just Awesome i love this album. it's very good...  \n",
       "1      Good Good flavor. This review was collected as...  \n",
       "3      Disappointed I read through the reviews on her...  \n",
       "4      Irritation My husband bought this gel for us. ...  \n",
       "5      Not worth it My boyfriend and I bought this to...  \n",
       "...                                                  ...  \n",
       "29995  Softness!! I got this conditioner with Influen...  \n",
       "29996  I love it I love it , I received this for revi...  \n",
       "29997  Hair is so smooth after use First of all I lov...  \n",
       "29998  Perfect for my oily hair! I received this thro...  \n",
       "29999  Conditioned into healthy I received this produ...  \n",
       "\n",
       "[27605 rows x 3 columns]"
      ]
     },
     "execution_count": 45,
     "metadata": {},
     "output_type": "execute_result"
    }
   ],
   "source": [
    "#concatenate user_text and user_title\n",
    "# Filling missing values in Reviews title with blank space\n",
    "dfFinal['reviews_title'] = dfFinal['reviews_title'].fillna('')\n",
    "dfFinal['user_reviews'] = dfFinal[['reviews_title', 'reviews_text']].agg(' '.join, axis=1).str.lstrip('. ')\n",
    "dfFinal[['reviews_title','reviews_text','user_reviews']]"
   ]
  },
  {
   "cell_type": "code",
   "execution_count": 46,
   "metadata": {},
   "outputs": [],
   "source": [
    "def strippunc(data):\n",
    "    p = re.compile(r'[?|!|\\'|\"|#|.|,|)|(|\\|/|~|%|*]')\n",
    "    return p.sub('',data)"
   ]
  },
  {
   "cell_type": "code",
   "execution_count": 47,
   "metadata": {},
   "outputs": [],
   "source": [
    "# Removing stopwords\n",
    "def remove_stopwords(text):    \n",
    "    return \" \".join([word for word in text.split(\" \") if word not in nltk.corpus.stopwords.words('english')])"
   ]
  },
  {
   "cell_type": "code",
   "execution_count": 48,
   "metadata": {},
   "outputs": [],
   "source": [
    "# Lemmatise sentence\n",
    "def lemmatize_sentence(text):\n",
    "    doc = nlp(text)\n",
    "    return \" \".join([token.lemma_ for token in doc])\n"
   ]
  },
  {
   "cell_type": "code",
   "execution_count": 49,
   "metadata": {},
   "outputs": [],
   "source": [
    "#pre-processing output for one Review\n",
    "def preprocessText(text, stem=False):\n",
    "    text= text.lower() #--- transform to lower case\n",
    "    text= remove_stopwords(text) # remove stopwords\n",
    "    text = strippunc(text) #--- remove Punctuation\n",
    "    return lemmatize_sentence(text)"
   ]
  },
  {
   "cell_type": "code",
   "execution_count": 50,
   "metadata": {},
   "outputs": [
    {
     "data": {
      "text/html": [
       "<div>\n",
       "<style scoped>\n",
       "    .dataframe tbody tr th:only-of-type {\n",
       "        vertical-align: middle;\n",
       "    }\n",
       "\n",
       "    .dataframe tbody tr th {\n",
       "        vertical-align: top;\n",
       "    }\n",
       "\n",
       "    .dataframe thead th {\n",
       "        text-align: right;\n",
       "    }\n",
       "</style>\n",
       "<table border=\"1\" class=\"dataframe\">\n",
       "  <thead>\n",
       "    <tr style=\"text-align: right;\">\n",
       "      <th></th>\n",
       "      <th>reviews_text</th>\n",
       "      <th>reviews_title</th>\n",
       "      <th>user_sentiment</th>\n",
       "      <th>user_reviews</th>\n",
       "      <th>Review</th>\n",
       "    </tr>\n",
       "  </thead>\n",
       "  <tbody>\n",
       "    <tr>\n",
       "      <td>0</td>\n",
       "      <td>i love this album. it's very good. more to the...</td>\n",
       "      <td>Just Awesome</td>\n",
       "      <td>Positive</td>\n",
       "      <td>Just Awesome i love this album. it's very good...</td>\n",
       "      <td>awesome love album good hip hop side current p...</td>\n",
       "    </tr>\n",
       "    <tr>\n",
       "      <td>1</td>\n",
       "      <td>Good flavor. This review was collected as part...</td>\n",
       "      <td>Good</td>\n",
       "      <td>Positive</td>\n",
       "      <td>Good Good flavor. This review was collected as...</td>\n",
       "      <td>good good flavor review collect part promotion</td>\n",
       "    </tr>\n",
       "    <tr>\n",
       "      <td>3</td>\n",
       "      <td>I read through the reviews on here before look...</td>\n",
       "      <td>Disappointed</td>\n",
       "      <td>Negative</td>\n",
       "      <td>Disappointed I read through the reviews on her...</td>\n",
       "      <td>disappointed read review look buy one couple l...</td>\n",
       "    </tr>\n",
       "    <tr>\n",
       "      <td>4</td>\n",
       "      <td>My husband bought this gel for us. The gel cau...</td>\n",
       "      <td>Irritation</td>\n",
       "      <td>Negative</td>\n",
       "      <td>Irritation My husband bought this gel for us. ...</td>\n",
       "      <td>irritation husband buy gel we gel cause irrita...</td>\n",
       "    </tr>\n",
       "    <tr>\n",
       "      <td>5</td>\n",
       "      <td>My boyfriend and I bought this to spice things...</td>\n",
       "      <td>Not worth it</td>\n",
       "      <td>Negative</td>\n",
       "      <td>Not worth it My boyfriend and I bought this to...</td>\n",
       "      <td>worth boyfriend buy spice thing bedroom highly...</td>\n",
       "    </tr>\n",
       "  </tbody>\n",
       "</table>\n",
       "</div>"
      ],
      "text/plain": [
       "                                        reviews_text reviews_title  \\\n",
       "0  i love this album. it's very good. more to the...  Just Awesome   \n",
       "1  Good flavor. This review was collected as part...          Good   \n",
       "3  I read through the reviews on here before look...  Disappointed   \n",
       "4  My husband bought this gel for us. The gel cau...    Irritation   \n",
       "5  My boyfriend and I bought this to spice things...  Not worth it   \n",
       "\n",
       "  user_sentiment                                       user_reviews  \\\n",
       "0       Positive  Just Awesome i love this album. it's very good...   \n",
       "1       Positive  Good Good flavor. This review was collected as...   \n",
       "3       Negative  Disappointed I read through the reviews on her...   \n",
       "4       Negative  Irritation My husband bought this gel for us. ...   \n",
       "5       Negative  Not worth it My boyfriend and I bought this to...   \n",
       "\n",
       "                                              Review  \n",
       "0  awesome love album good hip hop side current p...  \n",
       "1     good good flavor review collect part promotion  \n",
       "3  disappointed read review look buy one couple l...  \n",
       "4  irritation husband buy gel we gel cause irrita...  \n",
       "5  worth boyfriend buy spice thing bedroom highly...  "
      ]
     },
     "execution_count": 50,
     "metadata": {},
     "output_type": "execute_result"
    }
   ],
   "source": [
    "# Preprocessing the text:- Removing the \n",
    "df_main = dfFinal.copy(deep = True)\n",
    "df_main['Review'] = df_main['user_reviews'].map(preprocessText)\n",
    "df_main.head()"
   ]
  },
  {
   "cell_type": "code",
   "execution_count": 51,
   "metadata": {},
   "outputs": [
    {
     "data": {
      "text/html": [
       "<div>\n",
       "<style scoped>\n",
       "    .dataframe tbody tr th:only-of-type {\n",
       "        vertical-align: middle;\n",
       "    }\n",
       "\n",
       "    .dataframe tbody tr th {\n",
       "        vertical-align: top;\n",
       "    }\n",
       "\n",
       "    .dataframe thead th {\n",
       "        text-align: right;\n",
       "    }\n",
       "</style>\n",
       "<table border=\"1\" class=\"dataframe\">\n",
       "  <thead>\n",
       "    <tr style=\"text-align: right;\">\n",
       "      <th></th>\n",
       "      <th>reviews_text</th>\n",
       "      <th>reviews_title</th>\n",
       "      <th>user_sentiment</th>\n",
       "      <th>user_reviews</th>\n",
       "      <th>Review</th>\n",
       "    </tr>\n",
       "  </thead>\n",
       "  <tbody>\n",
       "    <tr>\n",
       "      <td>0</td>\n",
       "      <td>i love this album. it's very good. more to the...</td>\n",
       "      <td>Just Awesome</td>\n",
       "      <td>Positive</td>\n",
       "      <td>Just Awesome i love this album. it's very good...</td>\n",
       "      <td>awesome love album good hip hop side current p...</td>\n",
       "    </tr>\n",
       "    <tr>\n",
       "      <td>1</td>\n",
       "      <td>Good flavor. This review was collected as part...</td>\n",
       "      <td>Good</td>\n",
       "      <td>Positive</td>\n",
       "      <td>Good Good flavor. This review was collected as...</td>\n",
       "      <td>good good flavor review collect part promotion</td>\n",
       "    </tr>\n",
       "    <tr>\n",
       "      <td>3</td>\n",
       "      <td>I read through the reviews on here before look...</td>\n",
       "      <td>Disappointed</td>\n",
       "      <td>Negative</td>\n",
       "      <td>Disappointed I read through the reviews on her...</td>\n",
       "      <td>disappointed read review look buy one couple l...</td>\n",
       "    </tr>\n",
       "    <tr>\n",
       "      <td>4</td>\n",
       "      <td>My husband bought this gel for us. The gel cau...</td>\n",
       "      <td>Irritation</td>\n",
       "      <td>Negative</td>\n",
       "      <td>Irritation My husband bought this gel for us. ...</td>\n",
       "      <td>irritation husband buy gel we gel cause irrita...</td>\n",
       "    </tr>\n",
       "    <tr>\n",
       "      <td>5</td>\n",
       "      <td>My boyfriend and I bought this to spice things...</td>\n",
       "      <td>Not worth it</td>\n",
       "      <td>Negative</td>\n",
       "      <td>Not worth it My boyfriend and I bought this to...</td>\n",
       "      <td>worth boyfriend buy spice thing bedroom highly...</td>\n",
       "    </tr>\n",
       "  </tbody>\n",
       "</table>\n",
       "</div>"
      ],
      "text/plain": [
       "                                        reviews_text reviews_title  \\\n",
       "0  i love this album. it's very good. more to the...  Just Awesome   \n",
       "1  Good flavor. This review was collected as part...          Good   \n",
       "3  I read through the reviews on here before look...  Disappointed   \n",
       "4  My husband bought this gel for us. The gel cau...    Irritation   \n",
       "5  My boyfriend and I bought this to spice things...  Not worth it   \n",
       "\n",
       "  user_sentiment                                       user_reviews  \\\n",
       "0       Positive  Just Awesome i love this album. it's very good...   \n",
       "1       Positive  Good Good flavor. This review was collected as...   \n",
       "3       Negative  Disappointed I read through the reviews on her...   \n",
       "4       Negative  Irritation My husband bought this gel for us. ...   \n",
       "5       Negative  Not worth it My boyfriend and I bought this to...   \n",
       "\n",
       "                                              Review  \n",
       "0  awesome love album good hip hop side current p...  \n",
       "1     good good flavor review collect part promotion  \n",
       "3  disappointed read review look buy one couple l...  \n",
       "4  irritation husband buy gel we gel cause irrita...  \n",
       "5  worth boyfriend buy spice thing bedroom highly...  "
      ]
     },
     "execution_count": 51,
     "metadata": {},
     "output_type": "execute_result"
    }
   ],
   "source": [
    "df_main.head()"
   ]
  },
  {
   "cell_type": "code",
   "execution_count": 52,
   "metadata": {},
   "outputs": [],
   "source": [
    "from wordcloud import WordCloud, STOPWORDS"
   ]
  },
  {
   "cell_type": "code",
   "execution_count": 53,
   "metadata": {},
   "outputs": [],
   "source": [
    "stopwords = set(STOPWORDS)"
   ]
  },
  {
   "cell_type": "code",
   "execution_count": 54,
   "metadata": {},
   "outputs": [
    {
     "data": {
      "image/png": "[encoded data removed]",
      "text/plain": [
       "<Figure size 1080x1080 with 1 Axes>"
      ]
     },
     "metadata": {
      "needs_background": "light"
     },
     "output_type": "display_data"
    }
   ],
   "source": [
    "def show_wordcloud(data, title = None):\n",
    "    wordcloud = WordCloud(\n",
    "        background_color='black',\n",
    "        stopwords=stopwords,\n",
    "        max_words=200,\n",
    "        max_font_size=40, \n",
    "        scale=3,\n",
    "        random_state=42 # chosen at random by flipping a coin; it was heads\n",
    ").generate(str(data))\n",
    "\n",
    "    fig = plt.figure(1, figsize=(15, 15))\n",
    "    plt.axis('off')\n",
    "    if title: \n",
    "        fig.suptitle(title, fontsize=20)\n",
    "        fig.subplots_adjust(top=2.3)\n",
    "\n",
    "    plt.imshow(wordcloud)\n",
    "    plt.show()\n",
    "\n",
    "show_wordcloud(df_main['Review'])"
   ]
  },
  {
   "cell_type": "code",
   "execution_count": 55,
   "metadata": {},
   "outputs": [],
   "source": [
    "# saving data for future purpose\n",
    "\n",
    "# pickle.dump(df_main, open(\"data.pkl\",\"wb\"))"
   ]
  },
  {
   "cell_type": "code",
   "execution_count": 56,
   "metadata": {},
   "outputs": [],
   "source": [
    "import pickle as pickle\n",
    "from sklearn.metrics import classification_report\n",
    "from sklearn.metrics import accuracy_score\n",
    "from sklearn.feature_extraction.text import CountVectorizer, TfidfTransformer, TfidfVectorizer\n",
    "from sklearn.model_selection import train_test_split\n",
    "from sklearn.metrics import confusion_matrix\n",
    "from sklearn import metrics"
   ]
  },
  {
   "cell_type": "code",
   "execution_count": 57,
   "metadata": {},
   "outputs": [],
   "source": [
    "data = df_main"
   ]
  },
  {
   "cell_type": "code",
   "execution_count": 58,
   "metadata": {},
   "outputs": [
    {
     "data": {
      "text/html": [
       "<div>\n",
       "<style scoped>\n",
       "    .dataframe tbody tr th:only-of-type {\n",
       "        vertical-align: middle;\n",
       "    }\n",
       "\n",
       "    .dataframe tbody tr th {\n",
       "        vertical-align: top;\n",
       "    }\n",
       "\n",
       "    .dataframe thead th {\n",
       "        text-align: right;\n",
       "    }\n",
       "</style>\n",
       "<table border=\"1\" class=\"dataframe\">\n",
       "  <thead>\n",
       "    <tr style=\"text-align: right;\">\n",
       "      <th></th>\n",
       "      <th>reviews_text</th>\n",
       "      <th>reviews_title</th>\n",
       "      <th>user_reviews</th>\n",
       "      <th>Review</th>\n",
       "    </tr>\n",
       "    <tr>\n",
       "      <th>user_sentiment</th>\n",
       "      <th></th>\n",
       "      <th></th>\n",
       "      <th></th>\n",
       "      <th></th>\n",
       "    </tr>\n",
       "  </thead>\n",
       "  <tbody>\n",
       "    <tr>\n",
       "      <td>Negative</td>\n",
       "      <td>3058</td>\n",
       "      <td>3058</td>\n",
       "      <td>3058</td>\n",
       "      <td>3058</td>\n",
       "    </tr>\n",
       "    <tr>\n",
       "      <td>Positive</td>\n",
       "      <td>24547</td>\n",
       "      <td>24547</td>\n",
       "      <td>24547</td>\n",
       "      <td>24547</td>\n",
       "    </tr>\n",
       "  </tbody>\n",
       "</table>\n",
       "</div>"
      ],
      "text/plain": [
       "                reviews_text  reviews_title  user_reviews  Review\n",
       "user_sentiment                                                   \n",
       "Negative                3058           3058          3058    3058\n",
       "Positive               24547          24547         24547   24547"
      ]
     },
     "execution_count": 58,
     "metadata": {},
     "output_type": "execute_result"
    }
   ],
   "source": [
    "### Class Imbalance check and method to handle it\n",
    "data.groupby(['user_sentiment']).count()"
   ]
  },
  {
   "cell_type": "markdown",
   "metadata": {},
   "source": [
    "## Model Building"
   ]
  },
  {
   "cell_type": "markdown",
   "metadata": {},
   "source": [
    "## Creating the tfidf vectoriser "
   ]
  },
  {
   "cell_type": "code",
   "execution_count": 59,
   "metadata": {},
   "outputs": [],
   "source": [
    "tfidf_vectorizer = TfidfVectorizer(ngram_range=(1,2))\n",
    "tfidf_vectorizer.fit(data['Review'])\n",
    "X = tfidf_vectorizer.transform(data['Review'])\n",
    "y = data['user_sentiment']"
   ]
  },
  {
   "cell_type": "code",
   "execution_count": 161,
   "metadata": {},
   "outputs": [],
   "source": [
    "# Saving TFIDF Vectoriser for future purpose\n",
    "pickle.dump(tfidf_vectorizer, open('tfidf_vectoriser.sav', 'wb'))"
   ]
  },
  {
   "cell_type": "code",
   "execution_count": 61,
   "metadata": {},
   "outputs": [],
   "source": [
    "# Splitting the dataframe into train and test dataset\n",
    "X_train, X_test, y_train, y_test = train_test_split(X, y, train_size=0.75)"
   ]
  },
  {
   "cell_type": "markdown",
   "metadata": {},
   "source": [
    "### Checking for class imbalance "
   ]
  },
  {
   "cell_type": "code",
   "execution_count": 62,
   "metadata": {},
   "outputs": [
    {
     "name": "stdout",
     "output_type": "stream",
     "text": [
      "Before Counter({'Positive': 18397, 'Negative': 2306})\n",
      "After Counter({'Negative': 18397, 'Positive': 18397})\n"
     ]
    }
   ],
   "source": [
    "from collections import Counter\n",
    "from imblearn import over_sampling\n",
    "from imblearn.over_sampling import RandomOverSampler\n",
    "from imblearn.over_sampling import SMOTE\n",
    "counter = Counter(y_train)\n",
    "print(\"Before\", counter)\n",
    "\n",
    "#oversampling using SMOTE\n",
    "smote = SMOTE()\n",
    "X_train_sm, y_train_sm = smote.fit_resample(X_train, y_train)\n",
    "\n",
    "counter = Counter(y_train_sm)\n",
    "print(\"After\", counter)"
   ]
  },
  {
   "cell_type": "code",
   "execution_count": 63,
   "metadata": {},
   "outputs": [],
   "source": [
    "########### Model Building #################"
   ]
  },
  {
   "cell_type": "markdown",
   "metadata": {},
   "source": [
    "We will build 4 models here and assess the performance of each and select the best :\n",
    "\n",
    "- Naive Bayes\n",
    "- Random Forest\n",
    "- Logistic Regression\n",
    "- XgBoost"
   ]
  },
  {
   "cell_type": "code",
   "execution_count": 64,
   "metadata": {},
   "outputs": [],
   "source": [
    "from sklearn.naive_bayes import MultinomialNB\n",
    "from sklearn.linear_model import LogisticRegression\n",
    "from sklearn.ensemble import RandomForestClassifier\n",
    "from xgboost import XGBClassifier\n",
    "from sklearn.metrics import accuracy_score\n",
    "from sklearn.metrics import confusion_matrix\n",
    "from sklearn.metrics import classification_report\n",
    "from sklearn import model_selection"
   ]
  },
  {
   "cell_type": "code",
   "execution_count": 65,
   "metadata": {},
   "outputs": [],
   "source": [
    "def show_metrics(y_true, y_pred):\n",
    "    plt.figure(figsize=(10,6))\n",
    "    cm = confusion_matrix(y_true, y_pred)\n",
    "    g1 = sns.heatmap(cm, annot=True, fmt='.2f', cmap=\"Greens\")\n",
    "    bottom, top = g1.get_ylim() # Since top and bottom lines were not clear\n",
    "    g1.set_ylim(bottom + 0.5, top - 0.5) # setting offset with 0.5 to make them clear\n",
    "    plt.show()\n",
    "    print(\"Accuracy: {}\".format(np.round(accuracy_score(y_true, y_pred)*100,2)))\n"
   ]
  },
  {
   "cell_type": "code",
   "execution_count": 66,
   "metadata": {},
   "outputs": [
    {
     "data": {
      "image/png": "[encoded data removed]",
      "text/plain": [
       "<Figure size 720x432 with 2 Axes>"
      ]
     },
     "metadata": {
      "needs_background": "light"
     },
     "output_type": "display_data"
    },
    {
     "name": "stdout",
     "output_type": "stream",
     "text": [
      "Accuracy: 89.5\n"
     ]
    }
   ],
   "source": [
    "# Logistic Regression Model\n",
    "lr = LogisticRegression()\n",
    "lr.fit(X_train, y_train)\n",
    "y_pred = lr.predict(X_test)\n",
    "show_metrics(y_test, y_pred)"
   ]
  },
  {
   "cell_type": "code",
   "execution_count": 67,
   "metadata": {},
   "outputs": [
    {
     "data": {
      "image/png": "[encoded data removed]",
      "text/plain": [
       "<Figure size 720x432 with 2 Axes>"
      ]
     },
     "metadata": {
      "needs_background": "light"
     },
     "output_type": "display_data"
    },
    {
     "name": "stdout",
     "output_type": "stream",
     "text": [
      "Accuracy: 89.6\n"
     ]
    }
   ],
   "source": [
    "# Random Forest Classifier \n",
    "rf = RandomForestClassifier()\n",
    "rf.fit(X_train, y_train)\n",
    "y_pred = rf.predict(X_test)\n",
    "show_metrics(y_test, y_pred)"
   ]
  },
  {
   "cell_type": "code",
   "execution_count": 68,
   "metadata": {},
   "outputs": [
    {
     "data": {
      "image/png": "[encoded data removed]",
      "text/plain": [
       "<Figure size 720x432 with 2 Axes>"
      ]
     },
     "metadata": {
      "needs_background": "light"
     },
     "output_type": "display_data"
    },
    {
     "name": "stdout",
     "output_type": "stream",
     "text": [
      "Accuracy: 89.1\n"
     ]
    }
   ],
   "source": [
    "# Naive Byes Model\n",
    "nb = MultinomialNB()\n",
    "nb.fit(X_train, y_train)\n",
    "y_pred = nb.predict(X_test)\n",
    "\n",
    "show_metrics(y_test, y_pred)"
   ]
  },
  {
   "cell_type": "code",
   "execution_count": 69,
   "metadata": {},
   "outputs": [
    {
     "name": "stdout",
     "output_type": "stream",
     "text": [
      "[10:33:50] WARNING: C:/Users/Administrator/workspace/xgboost-win64_release_1.5.1/src/learner.cc:1115: Starting in XGBoost 1.3.0, the default evaluation metric used with the objective 'binary:logistic' was changed from 'error' to 'logloss'. Explicitly set eval_metric if you'd like to restore the old behavior.\n"
     ]
    },
    {
     "data": {
      "image/png": "[encoded data removed]",
      "text/plain": [
       "<Figure size 720x432 with 2 Axes>"
      ]
     },
     "metadata": {
      "needs_background": "light"
     },
     "output_type": "display_data"
    },
    {
     "name": "stdout",
     "output_type": "stream",
     "text": [
      "Accuracy: 91.36\n"
     ]
    }
   ],
   "source": [
    "# XGBoost Classifier model\n",
    "xgclf = XGBClassifier()\n",
    "xgclf.fit(X_train, y_train)\n",
    "y_pred = xgclf.predict(X_test)\n",
    "\n",
    "show_metrics(y_test, y_pred)"
   ]
  },
  {
   "cell_type": "markdown",
   "metadata": {},
   "source": [
    "## HyperParemeter tunning "
   ]
  },
  {
   "cell_type": "code",
   "execution_count": 70,
   "metadata": {},
   "outputs": [],
   "source": [
    "# Hyper Parameter tuning the XG boost method gives us the best accuracy "
   ]
  },
  {
   "cell_type": "code",
   "execution_count": 71,
   "metadata": {},
   "outputs": [
    {
     "name": "stdout",
     "output_type": "stream",
     "text": [
      "Fitting 3 folds for each of 16 candidates, totalling 48 fits\n"
     ]
    },
    {
     "name": "stderr",
     "output_type": "stream",
     "text": [
      "[Parallel(n_jobs=2)]: Using backend LokyBackend with 2 concurrent workers.\n",
      "[Parallel(n_jobs=2)]: Done  48 out of  48 | elapsed:  8.9min finished\n"
     ]
    },
    {
     "name": "stdout",
     "output_type": "stream",
     "text": [
      "[10:42:55] WARNING: C:/Users/Administrator/workspace/xgboost-win64_release_1.5.1/src/learner.cc:1115: Starting in XGBoost 1.3.0, the default evaluation metric used with the objective 'binary:logistic' was changed from 'error' to 'logloss'. Explicitly set eval_metric if you'd like to restore the old behavior.\n"
     ]
    },
    {
     "data": {
      "text/plain": [
       "GridSearchCV(cv=3,\n",
       "             estimator=XGBClassifier(base_score=None, booster=None,\n",
       "                                     colsample_bylevel=None,\n",
       "                                     colsample_bynode=None,\n",
       "                                     colsample_bytree=None,\n",
       "                                     enable_categorical=False, gamma=None,\n",
       "                                     gpu_id=None, importance_type=None,\n",
       "                                     interaction_constraints=None,\n",
       "                                     learning_rate=None, max_delta_step=None,\n",
       "                                     max_depth=None, min_child_weight=None,\n",
       "                                     missing=nan, monotone_constraints=None,\n",
       "                                     n_estimators=100, n_jobs=None,\n",
       "                                     num_parallel_tree=None, predictor=None,\n",
       "                                     random_state=None, reg_alpha=None,\n",
       "                                     reg_lambda=None, scale_pos_weight=None,\n",
       "                                     subsample=None, tree_method=None,\n",
       "                                     validate_parameters=None, verbosity=None),\n",
       "             n_jobs=2,\n",
       "             param_grid={'learning_rate': [0.1, 0.2, 0.3, 0.4],\n",
       "                         'max_depth': [5, 10], 'n_estimators': [50, 100]},\n",
       "             return_train_score=True, scoring='accuracy', verbose=1)"
      ]
     },
     "execution_count": 71,
     "metadata": {},
     "output_type": "execute_result"
    }
   ],
   "source": [
    "xgb_model = XGBClassifier()\n",
    "\n",
    "parameters = {'learning_rate': [0.1, 0.2, 0.3, 0.4], 'max_depth':[5, 10],  'n_estimators':[50, 100]}\n",
    "\n",
    "clf_xgb = model_selection.GridSearchCV(estimator=xgb_model,\n",
    "                                       param_grid=parameters,\n",
    "                                       n_jobs=2,\n",
    "                                       cv=3,\n",
    "                                       scoring='accuracy',\n",
    "                                       verbose = 1,\n",
    "                                       return_train_score=True)\n",
    "\n",
    "clf_xgb.fit(X_train, y_train)"
   ]
  },
  {
   "cell_type": "code",
   "execution_count": 72,
   "metadata": {},
   "outputs": [
    {
     "name": "stdout",
     "output_type": "stream",
     "text": [
      "{'learning_rate': 0.2, 'max_depth': 10, 'n_estimators': 100}\n",
      "0.909288508911752\n",
      "XGBClassifier(base_score=0.5, booster='gbtree', colsample_bylevel=1,\n",
      "              colsample_bynode=1, colsample_bytree=1, enable_categorical=False,\n",
      "              gamma=0, gpu_id=-1, importance_type=None,\n",
      "              interaction_constraints='', learning_rate=0.2, max_delta_step=0,\n",
      "              max_depth=10, min_child_weight=1, missing=nan,\n",
      "              monotone_constraints='()', n_estimators=100, n_jobs=8,\n",
      "              num_parallel_tree=1, predictor='auto', random_state=0,\n",
      "              reg_alpha=0, reg_lambda=1, scale_pos_weight=1, subsample=1,\n",
      "              tree_method='exact', validate_parameters=1, verbosity=None)\n"
     ]
    }
   ],
   "source": [
    "print(clf_xgb.best_params_)\n",
    "print(clf_xgb.best_score_)\n",
    "print(clf_xgb.best_estimator_)"
   ]
  },
  {
   "cell_type": "code",
   "execution_count": 73,
   "metadata": {},
   "outputs": [],
   "source": [
    "# Hyper Parameter tuning the Logistic Regression method "
   ]
  },
  {
   "cell_type": "code",
   "execution_count": 74,
   "metadata": {},
   "outputs": [
    {
     "name": "stdout",
     "output_type": "stream",
     "text": [
      "Fitting 3 folds for each of 10 candidates, totalling 30 fits\n"
     ]
    },
    {
     "name": "stderr",
     "output_type": "stream",
     "text": [
      "[Parallel(n_jobs=4)]: Using backend LokyBackend with 4 concurrent workers.\n",
      "[Parallel(n_jobs=4)]: Done  30 out of  30 | elapsed:   40.2s finished\n"
     ]
    },
    {
     "data": {
      "text/plain": [
       "GridSearchCV(cv=3, estimator=LogisticRegression(), n_jobs=4,\n",
       "             param_grid={'C': array([1.00000000e-05, 2.78255940e-04, 7.74263683e-03, 2.15443469e-01,\n",
       "       5.99484250e+00, 1.66810054e+02, 4.64158883e+03, 1.29154967e+05,\n",
       "       3.59381366e+06, 1.00000000e+08])},\n",
       "             return_train_score=True, scoring='accuracy', verbose=1)"
      ]
     },
     "execution_count": 74,
     "metadata": {},
     "output_type": "execute_result"
    }
   ],
   "source": [
    "lg_model = LogisticRegression()\n",
    "\n",
    "c_space = np.logspace(-5, 8, 10)\n",
    "parameters = {'C': c_space}\n",
    "\n",
    "clf_lg = model_selection.GridSearchCV(estimator=lg_model,\n",
    "                                       param_grid=parameters,\n",
    "                                       n_jobs=4,\n",
    "                                       cv=3,\n",
    "                                       scoring='accuracy',\n",
    "                                       verbose = 1,\n",
    "                                       return_train_score=True)\n",
    "\n",
    "clf_lg.fit(X_train, y_train)"
   ]
  },
  {
   "cell_type": "code",
   "execution_count": 75,
   "metadata": {},
   "outputs": [
    {
     "name": "stdout",
     "output_type": "stream",
     "text": [
      "{'C': 100000000.0}\n",
      "0.9082741631647587\n",
      "LogisticRegression(C=100000000.0)\n"
     ]
    }
   ],
   "source": [
    "print(clf_lg.best_params_)\n",
    "print(clf_lg.best_score_)\n",
    "print(clf_lg.best_estimator_)"
   ]
  },
  {
   "cell_type": "code",
   "execution_count": 76,
   "metadata": {},
   "outputs": [],
   "source": [
    "# Hyper Parameter tuning the Random Forest Method"
   ]
  },
  {
   "cell_type": "code",
   "execution_count": 77,
   "metadata": {},
   "outputs": [
    {
     "name": "stdout",
     "output_type": "stream",
     "text": [
      "Fitting 3 folds for each of 2 candidates, totalling 6 fits\n"
     ]
    },
    {
     "name": "stderr",
     "output_type": "stream",
     "text": [
      "[Parallel(n_jobs=4)]: Using backend LokyBackend with 4 concurrent workers.\n",
      "[Parallel(n_jobs=4)]: Done   6 out of   6 | elapsed:  5.2min remaining:    0.0s\n",
      "[Parallel(n_jobs=4)]: Done   6 out of   6 | elapsed:  5.2min finished\n"
     ]
    },
    {
     "data": {
      "text/plain": [
       "GridSearchCV(cv=3, estimator=RandomForestClassifier(), n_jobs=4,\n",
       "             param_grid={'n_estimators': [50, 100]}, return_train_score=True,\n",
       "             scoring='accuracy', verbose=1)"
      ]
     },
     "execution_count": 77,
     "metadata": {},
     "output_type": "execute_result"
    }
   ],
   "source": [
    "rf_model = RandomForestClassifier()\n",
    "\n",
    "parameters = {'n_estimators' : [50,100] }\n",
    "\n",
    "clf_rf = model_selection.GridSearchCV(estimator=rf_model,\n",
    "                                       param_grid=parameters,\n",
    "                                       n_jobs=4,\n",
    "                                       cv=3,\n",
    "                                       scoring='accuracy',\n",
    "                                       verbose = 1,\n",
    "                                       return_train_score=True)\n",
    "\n",
    "clf_rf.fit(X_train, y_train)"
   ]
  },
  {
   "cell_type": "code",
   "execution_count": 78,
   "metadata": {},
   "outputs": [
    {
     "name": "stdout",
     "output_type": "stream",
     "text": [
      "{'n_estimators': 50}\n",
      "0.8925759551755784\n",
      "RandomForestClassifier(n_estimators=50)\n"
     ]
    }
   ],
   "source": [
    "print(clf_rf.best_params_)\n",
    "print(clf_rf.best_score_)\n",
    "print(clf_rf.best_estimator_)"
   ]
  },
  {
   "cell_type": "markdown",
   "metadata": {},
   "source": [
    "### After calculating accuracy for all the model and using hyper paramters, even though the accuracy of XG boost method is a little higher when compared to Logistic regression model. But logistic regression model is faster so going with Logistic regression model as our final model"
   ]
  },
  {
   "cell_type": "code",
   "execution_count": 79,
   "metadata": {},
   "outputs": [
    {
     "data": {
      "image/png": "[encoded data removed]",
      "text/plain": [
       "<Figure size 720x432 with 2 Axes>"
      ]
     },
     "metadata": {
      "needs_background": "light"
     },
     "output_type": "display_data"
    },
    {
     "name": "stdout",
     "output_type": "stream",
     "text": [
      "Accuracy: 91.93\n"
     ]
    }
   ],
   "source": [
    "best_model = LogisticRegression(C=100000000.0)\n",
    "best_model.fit(X_train, y_train)\n",
    "y_pred = best_model.predict(X_test)\n",
    "\n",
    "show_metrics(y_test, y_pred)"
   ]
  },
  {
   "cell_type": "code",
   "execution_count": 160,
   "metadata": {},
   "outputs": [],
   "source": [
    "pickle.dump(best_model, open(\"final_model.sav\",\"wb\"))"
   ]
  },
  {
   "cell_type": "markdown",
   "metadata": {},
   "source": [
    "# Recommendation System \n",
    "- User based recommendation\n",
    "- User based prediction & evaluation\n",
    "- Item based recommendation\n",
    "- Item based prediction & evaluation"
   ]
  },
  {
   "cell_type": "markdown",
   "metadata": {},
   "source": [
    "## Reading the dataset"
   ]
  },
  {
   "cell_type": "code",
   "execution_count": 80,
   "metadata": {},
   "outputs": [
    {
     "data": {
      "text/html": [
       "<div>\n",
       "<style scoped>\n",
       "    .dataframe tbody tr th:only-of-type {\n",
       "        vertical-align: middle;\n",
       "    }\n",
       "\n",
       "    .dataframe tbody tr th {\n",
       "        vertical-align: top;\n",
       "    }\n",
       "\n",
       "    .dataframe thead th {\n",
       "        text-align: right;\n",
       "    }\n",
       "</style>\n",
       "<table border=\"1\" class=\"dataframe\">\n",
       "  <thead>\n",
       "    <tr style=\"text-align: right;\">\n",
       "      <th></th>\n",
       "      <th>id</th>\n",
       "      <th>brand</th>\n",
       "      <th>categories</th>\n",
       "      <th>manufacturer</th>\n",
       "      <th>name</th>\n",
       "      <th>reviews_date</th>\n",
       "      <th>reviews_didPurchase</th>\n",
       "      <th>reviews_doRecommend</th>\n",
       "      <th>reviews_rating</th>\n",
       "      <th>reviews_text</th>\n",
       "      <th>reviews_title</th>\n",
       "      <th>reviews_userCity</th>\n",
       "      <th>reviews_userProvince</th>\n",
       "      <th>reviews_username</th>\n",
       "      <th>user_sentiment</th>\n",
       "    </tr>\n",
       "  </thead>\n",
       "  <tbody>\n",
       "    <tr>\n",
       "      <td>0</td>\n",
       "      <td>AV13O1A8GV-KLJ3akUyj</td>\n",
       "      <td>Universal Music</td>\n",
       "      <td>Movies, Music &amp; Books,Music,R&amp;b,Movies &amp; TV,Mo...</td>\n",
       "      <td>Universal Music Group / Cash Money</td>\n",
       "      <td>Pink Friday: Roman Reloaded Re-Up (w/dvd)</td>\n",
       "      <td>2012-11-30T06:21:45.000Z</td>\n",
       "      <td>NaN</td>\n",
       "      <td>NaN</td>\n",
       "      <td>5</td>\n",
       "      <td>i love this album. it's very good. more to the...</td>\n",
       "      <td>Just Awesome</td>\n",
       "      <td>Los Angeles</td>\n",
       "      <td>NaN</td>\n",
       "      <td>joshua</td>\n",
       "      <td>Positive</td>\n",
       "    </tr>\n",
       "    <tr>\n",
       "      <td>1</td>\n",
       "      <td>AV14LG0R-jtxr-f38QfS</td>\n",
       "      <td>Lundberg</td>\n",
       "      <td>Food,Packaged Foods,Snacks,Crackers,Snacks, Co...</td>\n",
       "      <td>Lundberg</td>\n",
       "      <td>Lundberg Organic Cinnamon Toast Rice Cakes</td>\n",
       "      <td>2017-07-09T00:00:00.000Z</td>\n",
       "      <td>True</td>\n",
       "      <td>NaN</td>\n",
       "      <td>5</td>\n",
       "      <td>Good flavor. This review was collected as part...</td>\n",
       "      <td>Good</td>\n",
       "      <td>NaN</td>\n",
       "      <td>NaN</td>\n",
       "      <td>dorothy w</td>\n",
       "      <td>Positive</td>\n",
       "    </tr>\n",
       "    <tr>\n",
       "      <td>2</td>\n",
       "      <td>AV14LG0R-jtxr-f38QfS</td>\n",
       "      <td>Lundberg</td>\n",
       "      <td>Food,Packaged Foods,Snacks,Crackers,Snacks, Co...</td>\n",
       "      <td>Lundberg</td>\n",
       "      <td>Lundberg Organic Cinnamon Toast Rice Cakes</td>\n",
       "      <td>2017-07-09T00:00:00.000Z</td>\n",
       "      <td>True</td>\n",
       "      <td>NaN</td>\n",
       "      <td>5</td>\n",
       "      <td>Good flavor.</td>\n",
       "      <td>Good</td>\n",
       "      <td>NaN</td>\n",
       "      <td>NaN</td>\n",
       "      <td>dorothy w</td>\n",
       "      <td>Positive</td>\n",
       "    </tr>\n",
       "  </tbody>\n",
       "</table>\n",
       "</div>"
      ],
      "text/plain": [
       "                     id            brand  \\\n",
       "0  AV13O1A8GV-KLJ3akUyj  Universal Music   \n",
       "1  AV14LG0R-jtxr-f38QfS         Lundberg   \n",
       "2  AV14LG0R-jtxr-f38QfS         Lundberg   \n",
       "\n",
       "                                          categories  \\\n",
       "0  Movies, Music & Books,Music,R&b,Movies & TV,Mo...   \n",
       "1  Food,Packaged Foods,Snacks,Crackers,Snacks, Co...   \n",
       "2  Food,Packaged Foods,Snacks,Crackers,Snacks, Co...   \n",
       "\n",
       "                         manufacturer  \\\n",
       "0  Universal Music Group / Cash Money   \n",
       "1                            Lundberg   \n",
       "2                            Lundberg   \n",
       "\n",
       "                                         name              reviews_date  \\\n",
       "0   Pink Friday: Roman Reloaded Re-Up (w/dvd)  2012-11-30T06:21:45.000Z   \n",
       "1  Lundberg Organic Cinnamon Toast Rice Cakes  2017-07-09T00:00:00.000Z   \n",
       "2  Lundberg Organic Cinnamon Toast Rice Cakes  2017-07-09T00:00:00.000Z   \n",
       "\n",
       "  reviews_didPurchase reviews_doRecommend  reviews_rating  \\\n",
       "0                 NaN                 NaN               5   \n",
       "1                True                 NaN               5   \n",
       "2                True                 NaN               5   \n",
       "\n",
       "                                        reviews_text reviews_title  \\\n",
       "0  i love this album. it's very good. more to the...  Just Awesome   \n",
       "1  Good flavor. This review was collected as part...          Good   \n",
       "2                                       Good flavor.          Good   \n",
       "\n",
       "  reviews_userCity reviews_userProvince reviews_username user_sentiment  \n",
       "0      Los Angeles                  NaN           joshua       Positive  \n",
       "1              NaN                  NaN        dorothy w       Positive  \n",
       "2              NaN                  NaN        dorothy w       Positive  "
      ]
     },
     "execution_count": 80,
     "metadata": {},
     "output_type": "execute_result"
    }
   ],
   "source": [
    "df = pd.read_csv(\"sample30.csv\")\n",
    "df.head(3)"
   ]
  },
  {
   "cell_type": "code",
   "execution_count": 81,
   "metadata": {},
   "outputs": [],
   "source": [
    "# Keeping only required data in the dataset df\n",
    "df = df[['name', 'reviews_rating', 'reviews_username']]"
   ]
  },
  {
   "cell_type": "code",
   "execution_count": 82,
   "metadata": {},
   "outputs": [
    {
     "data": {
      "text/plain": [
       "0"
      ]
     },
     "execution_count": 82,
     "metadata": {},
     "output_type": "execute_result"
    }
   ],
   "source": [
    "# Checking for null values\n",
    "df['name'].isna().sum()"
   ]
  },
  {
   "cell_type": "code",
   "execution_count": 83,
   "metadata": {},
   "outputs": [
    {
     "data": {
      "text/plain": [
       "63"
      ]
     },
     "execution_count": 83,
     "metadata": {},
     "output_type": "execute_result"
    }
   ],
   "source": [
    "# Checking for null values\n",
    "df['reviews_username'].isna().sum()"
   ]
  },
  {
   "cell_type": "code",
   "execution_count": 84,
   "metadata": {},
   "outputs": [],
   "source": [
    "# Removing rows where username is null\n",
    "df = df[~df['reviews_username'].isnull()]"
   ]
  },
  {
   "cell_type": "code",
   "execution_count": 85,
   "metadata": {},
   "outputs": [
    {
     "data": {
      "text/plain": [
       "0"
      ]
     },
     "execution_count": 85,
     "metadata": {},
     "output_type": "execute_result"
    }
   ],
   "source": [
    "# Checking for null values\n",
    "df['reviews_rating'].isna().sum()"
   ]
  },
  {
   "cell_type": "code",
   "execution_count": 86,
   "metadata": {},
   "outputs": [
    {
     "data": {
      "text/html": [
       "<div>\n",
       "<style scoped>\n",
       "    .dataframe tbody tr th:only-of-type {\n",
       "        vertical-align: middle;\n",
       "    }\n",
       "\n",
       "    .dataframe tbody tr th {\n",
       "        vertical-align: top;\n",
       "    }\n",
       "\n",
       "    .dataframe thead th {\n",
       "        text-align: right;\n",
       "    }\n",
       "</style>\n",
       "<table border=\"1\" class=\"dataframe\">\n",
       "  <thead>\n",
       "    <tr style=\"text-align: right;\">\n",
       "      <th></th>\n",
       "      <th>name</th>\n",
       "      <th>reviews_rating</th>\n",
       "      <th>reviews_username</th>\n",
       "    </tr>\n",
       "  </thead>\n",
       "  <tbody>\n",
       "    <tr>\n",
       "      <td>0</td>\n",
       "      <td>Pink Friday: Roman Reloaded Re-Up (w/dvd)</td>\n",
       "      <td>5</td>\n",
       "      <td>joshua</td>\n",
       "    </tr>\n",
       "    <tr>\n",
       "      <td>1</td>\n",
       "      <td>Lundberg Organic Cinnamon Toast Rice Cakes</td>\n",
       "      <td>5</td>\n",
       "      <td>dorothy w</td>\n",
       "    </tr>\n",
       "    <tr>\n",
       "      <td>3</td>\n",
       "      <td>K-Y Love Sensuality Pleasure Gel</td>\n",
       "      <td>1</td>\n",
       "      <td>rebecca</td>\n",
       "    </tr>\n",
       "    <tr>\n",
       "      <td>4</td>\n",
       "      <td>K-Y Love Sensuality Pleasure Gel</td>\n",
       "      <td>1</td>\n",
       "      <td>walker557</td>\n",
       "    </tr>\n",
       "    <tr>\n",
       "      <td>5</td>\n",
       "      <td>K-Y Love Sensuality Pleasure Gel</td>\n",
       "      <td>1</td>\n",
       "      <td>samantha</td>\n",
       "    </tr>\n",
       "  </tbody>\n",
       "</table>\n",
       "</div>"
      ],
      "text/plain": [
       "                                         name  reviews_rating reviews_username\n",
       "0   Pink Friday: Roman Reloaded Re-Up (w/dvd)               5           joshua\n",
       "1  Lundberg Organic Cinnamon Toast Rice Cakes               5        dorothy w\n",
       "3            K-Y Love Sensuality Pleasure Gel               1          rebecca\n",
       "4            K-Y Love Sensuality Pleasure Gel               1        walker557\n",
       "5            K-Y Love Sensuality Pleasure Gel               1         samantha"
      ]
     },
     "execution_count": 86,
     "metadata": {},
     "output_type": "execute_result"
    }
   ],
   "source": [
    "# Removing duplicates from the df\n",
    "df_ratings =  df.drop_duplicates(subset={\"reviews_username\",\"name\"},keep=\"first\")\n",
    "df_ratings.head()"
   ]
  },
  {
   "cell_type": "markdown",
   "metadata": {},
   "source": [
    "## Dividing the dataset into train and test"
   ]
  },
  {
   "cell_type": "code",
   "execution_count": 87,
   "metadata": {},
   "outputs": [
    {
     "name": "stdout",
     "output_type": "stream",
     "text": [
      "(19311, 3)\n",
      "(8277, 3)\n"
     ]
    }
   ],
   "source": [
    "train, test = train_test_split(df_ratings, test_size=0.30, random_state=12)\n",
    "print(train.shape)\n",
    "print(test.shape)"
   ]
  },
  {
   "cell_type": "code",
   "execution_count": 88,
   "metadata": {},
   "outputs": [
    {
     "data": {
      "text/html": [
       "<div>\n",
       "<style scoped>\n",
       "    .dataframe tbody tr th:only-of-type {\n",
       "        vertical-align: middle;\n",
       "    }\n",
       "\n",
       "    .dataframe tbody tr th {\n",
       "        vertical-align: top;\n",
       "    }\n",
       "\n",
       "    .dataframe thead th {\n",
       "        text-align: right;\n",
       "    }\n",
       "</style>\n",
       "<table border=\"1\" class=\"dataframe\">\n",
       "  <thead>\n",
       "    <tr style=\"text-align: right;\">\n",
       "      <th>name</th>\n",
       "      <th>0.6 Cu. Ft. Letter A4 Size Waterproof 30 Min. Fire File Chest</th>\n",
       "      <th>100:Complete First Season (blu-Ray)</th>\n",
       "      <th>2017-2018 Brownline174 Duraflex 14-Month Planner 8 1/2 X 11 Black</th>\n",
       "      <th>2x Ultra Era with Oxi Booster, 50fl oz</th>\n",
       "      <th>42 Dual Drop Leaf Table with 2 Madrid Chairs\"</th>\n",
       "      <th>4C Grated Parmesan Cheese 100% Natural 8oz Shaker</th>\n",
       "      <th>Africa's Best No-Lye Dual Conditioning Relaxer System Super</th>\n",
       "      <th>Alberto VO5 Salon Series Smooth Plus Sleek Shampoo</th>\n",
       "      <th>Alex Cross (dvdvideo)</th>\n",
       "      <th>All,bran Complete Wheat Flakes, 18 Oz.</th>\n",
       "      <th>...</th>\n",
       "      <th>Vicks Vaporub, Regular, 3.53oz</th>\n",
       "      <th>Voortman Sugar Free Fudge Chocolate Chip Cookies</th>\n",
       "      <th>Wagan Smartac 80watt Inverter With Usb</th>\n",
       "      <th>Wallmount Server Cabinet (450mm, 9 RU)</th>\n",
       "      <th>Way Basics 3-Shelf Eco Narrow Bookcase Storage Shelf, Espresso - Formaldehyde Free - Lifetime Guarantee</th>\n",
       "      <th>WeatherTech 40647 14-15 Outlander Cargo Liners Behind 2nd Row, Black</th>\n",
       "      <th>Weleda Everon Lip Balm</th>\n",
       "      <th>Windex Original Glass Cleaner Refill 67.6oz (2 Liter)</th>\n",
       "      <th>Yes To Carrots Nourishing Body Wash</th>\n",
       "      <th>Yes To Grapefruit Rejuvenating Body Wash</th>\n",
       "    </tr>\n",
       "    <tr>\n",
       "      <th>reviews_username</th>\n",
       "      <th></th>\n",
       "      <th></th>\n",
       "      <th></th>\n",
       "      <th></th>\n",
       "      <th></th>\n",
       "      <th></th>\n",
       "      <th></th>\n",
       "      <th></th>\n",
       "      <th></th>\n",
       "      <th></th>\n",
       "      <th></th>\n",
       "      <th></th>\n",
       "      <th></th>\n",
       "      <th></th>\n",
       "      <th></th>\n",
       "      <th></th>\n",
       "      <th></th>\n",
       "      <th></th>\n",
       "      <th></th>\n",
       "      <th></th>\n",
       "      <th></th>\n",
       "    </tr>\n",
       "  </thead>\n",
       "  <tbody>\n",
       "    <tr>\n",
       "      <td>00sab00</td>\n",
       "      <td>0.0</td>\n",
       "      <td>0.0</td>\n",
       "      <td>0.0</td>\n",
       "      <td>0.0</td>\n",
       "      <td>0.0</td>\n",
       "      <td>0.0</td>\n",
       "      <td>0.0</td>\n",
       "      <td>0.0</td>\n",
       "      <td>0.0</td>\n",
       "      <td>0.0</td>\n",
       "      <td>...</td>\n",
       "      <td>0.0</td>\n",
       "      <td>0.0</td>\n",
       "      <td>0.0</td>\n",
       "      <td>0.0</td>\n",
       "      <td>0.0</td>\n",
       "      <td>0.0</td>\n",
       "      <td>0.0</td>\n",
       "      <td>0.0</td>\n",
       "      <td>0.0</td>\n",
       "      <td>0.0</td>\n",
       "    </tr>\n",
       "    <tr>\n",
       "      <td>01impala</td>\n",
       "      <td>0.0</td>\n",
       "      <td>0.0</td>\n",
       "      <td>0.0</td>\n",
       "      <td>0.0</td>\n",
       "      <td>0.0</td>\n",
       "      <td>0.0</td>\n",
       "      <td>0.0</td>\n",
       "      <td>0.0</td>\n",
       "      <td>0.0</td>\n",
       "      <td>0.0</td>\n",
       "      <td>...</td>\n",
       "      <td>0.0</td>\n",
       "      <td>0.0</td>\n",
       "      <td>0.0</td>\n",
       "      <td>0.0</td>\n",
       "      <td>0.0</td>\n",
       "      <td>0.0</td>\n",
       "      <td>0.0</td>\n",
       "      <td>0.0</td>\n",
       "      <td>0.0</td>\n",
       "      <td>0.0</td>\n",
       "    </tr>\n",
       "    <tr>\n",
       "      <td>0325home</td>\n",
       "      <td>0.0</td>\n",
       "      <td>0.0</td>\n",
       "      <td>0.0</td>\n",
       "      <td>0.0</td>\n",
       "      <td>0.0</td>\n",
       "      <td>0.0</td>\n",
       "      <td>0.0</td>\n",
       "      <td>0.0</td>\n",
       "      <td>0.0</td>\n",
       "      <td>0.0</td>\n",
       "      <td>...</td>\n",
       "      <td>0.0</td>\n",
       "      <td>0.0</td>\n",
       "      <td>0.0</td>\n",
       "      <td>0.0</td>\n",
       "      <td>0.0</td>\n",
       "      <td>0.0</td>\n",
       "      <td>0.0</td>\n",
       "      <td>0.0</td>\n",
       "      <td>0.0</td>\n",
       "      <td>0.0</td>\n",
       "    </tr>\n",
       "    <tr>\n",
       "      <td>06stidriver</td>\n",
       "      <td>0.0</td>\n",
       "      <td>0.0</td>\n",
       "      <td>0.0</td>\n",
       "      <td>0.0</td>\n",
       "      <td>0.0</td>\n",
       "      <td>0.0</td>\n",
       "      <td>0.0</td>\n",
       "      <td>0.0</td>\n",
       "      <td>0.0</td>\n",
       "      <td>0.0</td>\n",
       "      <td>...</td>\n",
       "      <td>0.0</td>\n",
       "      <td>0.0</td>\n",
       "      <td>0.0</td>\n",
       "      <td>0.0</td>\n",
       "      <td>0.0</td>\n",
       "      <td>0.0</td>\n",
       "      <td>0.0</td>\n",
       "      <td>0.0</td>\n",
       "      <td>0.0</td>\n",
       "      <td>0.0</td>\n",
       "    </tr>\n",
       "    <tr>\n",
       "      <td>08dallas</td>\n",
       "      <td>0.0</td>\n",
       "      <td>5.0</td>\n",
       "      <td>0.0</td>\n",
       "      <td>0.0</td>\n",
       "      <td>0.0</td>\n",
       "      <td>0.0</td>\n",
       "      <td>0.0</td>\n",
       "      <td>0.0</td>\n",
       "      <td>0.0</td>\n",
       "      <td>0.0</td>\n",
       "      <td>...</td>\n",
       "      <td>0.0</td>\n",
       "      <td>0.0</td>\n",
       "      <td>0.0</td>\n",
       "      <td>0.0</td>\n",
       "      <td>0.0</td>\n",
       "      <td>0.0</td>\n",
       "      <td>0.0</td>\n",
       "      <td>0.0</td>\n",
       "      <td>0.0</td>\n",
       "      <td>0.0</td>\n",
       "    </tr>\n",
       "    <tr>\n",
       "      <td>09mommy11</td>\n",
       "      <td>0.0</td>\n",
       "      <td>0.0</td>\n",
       "      <td>0.0</td>\n",
       "      <td>0.0</td>\n",
       "      <td>0.0</td>\n",
       "      <td>0.0</td>\n",
       "      <td>0.0</td>\n",
       "      <td>0.0</td>\n",
       "      <td>0.0</td>\n",
       "      <td>0.0</td>\n",
       "      <td>...</td>\n",
       "      <td>0.0</td>\n",
       "      <td>0.0</td>\n",
       "      <td>0.0</td>\n",
       "      <td>0.0</td>\n",
       "      <td>0.0</td>\n",
       "      <td>0.0</td>\n",
       "      <td>0.0</td>\n",
       "      <td>0.0</td>\n",
       "      <td>0.0</td>\n",
       "      <td>0.0</td>\n",
       "    </tr>\n",
       "    <tr>\n",
       "      <td>1085</td>\n",
       "      <td>0.0</td>\n",
       "      <td>0.0</td>\n",
       "      <td>0.0</td>\n",
       "      <td>0.0</td>\n",
       "      <td>0.0</td>\n",
       "      <td>0.0</td>\n",
       "      <td>0.0</td>\n",
       "      <td>0.0</td>\n",
       "      <td>0.0</td>\n",
       "      <td>0.0</td>\n",
       "      <td>...</td>\n",
       "      <td>0.0</td>\n",
       "      <td>0.0</td>\n",
       "      <td>0.0</td>\n",
       "      <td>0.0</td>\n",
       "      <td>0.0</td>\n",
       "      <td>0.0</td>\n",
       "      <td>0.0</td>\n",
       "      <td>0.0</td>\n",
       "      <td>0.0</td>\n",
       "      <td>0.0</td>\n",
       "    </tr>\n",
       "    <tr>\n",
       "      <td>10ten</td>\n",
       "      <td>0.0</td>\n",
       "      <td>0.0</td>\n",
       "      <td>0.0</td>\n",
       "      <td>0.0</td>\n",
       "      <td>0.0</td>\n",
       "      <td>0.0</td>\n",
       "      <td>0.0</td>\n",
       "      <td>0.0</td>\n",
       "      <td>0.0</td>\n",
       "      <td>0.0</td>\n",
       "      <td>...</td>\n",
       "      <td>0.0</td>\n",
       "      <td>0.0</td>\n",
       "      <td>0.0</td>\n",
       "      <td>0.0</td>\n",
       "      <td>0.0</td>\n",
       "      <td>0.0</td>\n",
       "      <td>0.0</td>\n",
       "      <td>0.0</td>\n",
       "      <td>0.0</td>\n",
       "      <td>0.0</td>\n",
       "    </tr>\n",
       "    <tr>\n",
       "      <td>11111111aaaaaaaaaaaaaaaaa</td>\n",
       "      <td>0.0</td>\n",
       "      <td>0.0</td>\n",
       "      <td>0.0</td>\n",
       "      <td>0.0</td>\n",
       "      <td>0.0</td>\n",
       "      <td>0.0</td>\n",
       "      <td>0.0</td>\n",
       "      <td>0.0</td>\n",
       "      <td>0.0</td>\n",
       "      <td>0.0</td>\n",
       "      <td>...</td>\n",
       "      <td>0.0</td>\n",
       "      <td>0.0</td>\n",
       "      <td>0.0</td>\n",
       "      <td>0.0</td>\n",
       "      <td>0.0</td>\n",
       "      <td>0.0</td>\n",
       "      <td>0.0</td>\n",
       "      <td>0.0</td>\n",
       "      <td>0.0</td>\n",
       "      <td>0.0</td>\n",
       "    </tr>\n",
       "    <tr>\n",
       "      <td>1143mom</td>\n",
       "      <td>0.0</td>\n",
       "      <td>0.0</td>\n",
       "      <td>0.0</td>\n",
       "      <td>0.0</td>\n",
       "      <td>0.0</td>\n",
       "      <td>0.0</td>\n",
       "      <td>0.0</td>\n",
       "      <td>0.0</td>\n",
       "      <td>0.0</td>\n",
       "      <td>0.0</td>\n",
       "      <td>...</td>\n",
       "      <td>0.0</td>\n",
       "      <td>0.0</td>\n",
       "      <td>0.0</td>\n",
       "      <td>0.0</td>\n",
       "      <td>0.0</td>\n",
       "      <td>0.0</td>\n",
       "      <td>0.0</td>\n",
       "      <td>3.0</td>\n",
       "      <td>0.0</td>\n",
       "      <td>0.0</td>\n",
       "    </tr>\n",
       "  </tbody>\n",
       "</table>\n",
       "<p>10 rows × 251 columns</p>\n",
       "</div>"
      ],
      "text/plain": [
       "name                       0.6 Cu. Ft. Letter A4 Size Waterproof 30 Min. Fire File Chest  \\\n",
       "reviews_username                                                                           \n",
       "00sab00                                                                  0.0               \n",
       "01impala                                                                 0.0               \n",
       "0325home                                                                 0.0               \n",
       "06stidriver                                                              0.0               \n",
       "08dallas                                                                 0.0               \n",
       "09mommy11                                                                0.0               \n",
       "1085                                                                     0.0               \n",
       "10ten                                                                    0.0               \n",
       "11111111aaaaaaaaaaaaaaaaa                                                0.0               \n",
       "1143mom                                                                  0.0               \n",
       "\n",
       "name                       100:Complete First Season (blu-Ray)  \\\n",
       "reviews_username                                                 \n",
       "00sab00                                                    0.0   \n",
       "01impala                                                   0.0   \n",
       "0325home                                                   0.0   \n",
       "06stidriver                                                0.0   \n",
       "08dallas                                                   5.0   \n",
       "09mommy11                                                  0.0   \n",
       "1085                                                       0.0   \n",
       "10ten                                                      0.0   \n",
       "11111111aaaaaaaaaaaaaaaaa                                  0.0   \n",
       "1143mom                                                    0.0   \n",
       "\n",
       "name                       2017-2018 Brownline174 Duraflex 14-Month Planner 8 1/2 X 11 Black  \\\n",
       "reviews_username                                                                               \n",
       "00sab00                                                                  0.0                   \n",
       "01impala                                                                 0.0                   \n",
       "0325home                                                                 0.0                   \n",
       "06stidriver                                                              0.0                   \n",
       "08dallas                                                                 0.0                   \n",
       "09mommy11                                                                0.0                   \n",
       "1085                                                                     0.0                   \n",
       "10ten                                                                    0.0                   \n",
       "11111111aaaaaaaaaaaaaaaaa                                                0.0                   \n",
       "1143mom                                                                  0.0                   \n",
       "\n",
       "name                       2x Ultra Era with Oxi Booster, 50fl oz  \\\n",
       "reviews_username                                                    \n",
       "00sab00                                                       0.0   \n",
       "01impala                                                      0.0   \n",
       "0325home                                                      0.0   \n",
       "06stidriver                                                   0.0   \n",
       "08dallas                                                      0.0   \n",
       "09mommy11                                                     0.0   \n",
       "1085                                                          0.0   \n",
       "10ten                                                         0.0   \n",
       "11111111aaaaaaaaaaaaaaaaa                                     0.0   \n",
       "1143mom                                                       0.0   \n",
       "\n",
       "name                       42 Dual Drop Leaf Table with 2 Madrid Chairs\"  \\\n",
       "reviews_username                                                           \n",
       "00sab00                                                              0.0   \n",
       "01impala                                                             0.0   \n",
       "0325home                                                             0.0   \n",
       "06stidriver                                                          0.0   \n",
       "08dallas                                                             0.0   \n",
       "09mommy11                                                            0.0   \n",
       "1085                                                                 0.0   \n",
       "10ten                                                                0.0   \n",
       "11111111aaaaaaaaaaaaaaaaa                                            0.0   \n",
       "1143mom                                                              0.0   \n",
       "\n",
       "name                       4C Grated Parmesan Cheese 100% Natural 8oz Shaker  \\\n",
       "reviews_username                                                               \n",
       "00sab00                                                                  0.0   \n",
       "01impala                                                                 0.0   \n",
       "0325home                                                                 0.0   \n",
       "06stidriver                                                              0.0   \n",
       "08dallas                                                                 0.0   \n",
       "09mommy11                                                                0.0   \n",
       "1085                                                                     0.0   \n",
       "10ten                                                                    0.0   \n",
       "11111111aaaaaaaaaaaaaaaaa                                                0.0   \n",
       "1143mom                                                                  0.0   \n",
       "\n",
       "name                       Africa's Best No-Lye Dual Conditioning Relaxer System Super  \\\n",
       "reviews_username                                                                         \n",
       "00sab00                                                                  0.0             \n",
       "01impala                                                                 0.0             \n",
       "0325home                                                                 0.0             \n",
       "06stidriver                                                              0.0             \n",
       "08dallas                                                                 0.0             \n",
       "09mommy11                                                                0.0             \n",
       "1085                                                                     0.0             \n",
       "10ten                                                                    0.0             \n",
       "11111111aaaaaaaaaaaaaaaaa                                                0.0             \n",
       "1143mom                                                                  0.0             \n",
       "\n",
       "name                       Alberto VO5 Salon Series Smooth Plus Sleek Shampoo  \\\n",
       "reviews_username                                                                \n",
       "00sab00                                                                  0.0    \n",
       "01impala                                                                 0.0    \n",
       "0325home                                                                 0.0    \n",
       "06stidriver                                                              0.0    \n",
       "08dallas                                                                 0.0    \n",
       "09mommy11                                                                0.0    \n",
       "1085                                                                     0.0    \n",
       "10ten                                                                    0.0    \n",
       "11111111aaaaaaaaaaaaaaaaa                                                0.0    \n",
       "1143mom                                                                  0.0    \n",
       "\n",
       "name                       Alex Cross (dvdvideo)  \\\n",
       "reviews_username                                   \n",
       "00sab00                                      0.0   \n",
       "01impala                                     0.0   \n",
       "0325home                                     0.0   \n",
       "06stidriver                                  0.0   \n",
       "08dallas                                     0.0   \n",
       "09mommy11                                    0.0   \n",
       "1085                                         0.0   \n",
       "10ten                                        0.0   \n",
       "11111111aaaaaaaaaaaaaaaaa                    0.0   \n",
       "1143mom                                      0.0   \n",
       "\n",
       "name                       All,bran Complete Wheat Flakes, 18 Oz.  ...  \\\n",
       "reviews_username                                                   ...   \n",
       "00sab00                                                       0.0  ...   \n",
       "01impala                                                      0.0  ...   \n",
       "0325home                                                      0.0  ...   \n",
       "06stidriver                                                   0.0  ...   \n",
       "08dallas                                                      0.0  ...   \n",
       "09mommy11                                                     0.0  ...   \n",
       "1085                                                          0.0  ...   \n",
       "10ten                                                         0.0  ...   \n",
       "11111111aaaaaaaaaaaaaaaaa                                     0.0  ...   \n",
       "1143mom                                                       0.0  ...   \n",
       "\n",
       "name                       Vicks Vaporub, Regular, 3.53oz  \\\n",
       "reviews_username                                            \n",
       "00sab00                                               0.0   \n",
       "01impala                                              0.0   \n",
       "0325home                                              0.0   \n",
       "06stidriver                                           0.0   \n",
       "08dallas                                              0.0   \n",
       "09mommy11                                             0.0   \n",
       "1085                                                  0.0   \n",
       "10ten                                                 0.0   \n",
       "11111111aaaaaaaaaaaaaaaaa                             0.0   \n",
       "1143mom                                               0.0   \n",
       "\n",
       "name                       Voortman Sugar Free Fudge Chocolate Chip Cookies  \\\n",
       "reviews_username                                                              \n",
       "00sab00                                                                 0.0   \n",
       "01impala                                                                0.0   \n",
       "0325home                                                                0.0   \n",
       "06stidriver                                                             0.0   \n",
       "08dallas                                                                0.0   \n",
       "09mommy11                                                               0.0   \n",
       "1085                                                                    0.0   \n",
       "10ten                                                                   0.0   \n",
       "11111111aaaaaaaaaaaaaaaaa                                               0.0   \n",
       "1143mom                                                                 0.0   \n",
       "\n",
       "name                       Wagan Smartac 80watt Inverter With Usb  \\\n",
       "reviews_username                                                    \n",
       "00sab00                                                       0.0   \n",
       "01impala                                                      0.0   \n",
       "0325home                                                      0.0   \n",
       "06stidriver                                                   0.0   \n",
       "08dallas                                                      0.0   \n",
       "09mommy11                                                     0.0   \n",
       "1085                                                          0.0   \n",
       "10ten                                                         0.0   \n",
       "11111111aaaaaaaaaaaaaaaaa                                     0.0   \n",
       "1143mom                                                       0.0   \n",
       "\n",
       "name                       Wallmount Server Cabinet (450mm, 9 RU)  \\\n",
       "reviews_username                                                    \n",
       "00sab00                                                       0.0   \n",
       "01impala                                                      0.0   \n",
       "0325home                                                      0.0   \n",
       "06stidriver                                                   0.0   \n",
       "08dallas                                                      0.0   \n",
       "09mommy11                                                     0.0   \n",
       "1085                                                          0.0   \n",
       "10ten                                                         0.0   \n",
       "11111111aaaaaaaaaaaaaaaaa                                     0.0   \n",
       "1143mom                                                       0.0   \n",
       "\n",
       "name                       Way Basics 3-Shelf Eco Narrow Bookcase Storage Shelf, Espresso - Formaldehyde Free - Lifetime Guarantee  \\\n",
       "reviews_username                                                                                                                     \n",
       "00sab00                                                                  0.0                                                         \n",
       "01impala                                                                 0.0                                                         \n",
       "0325home                                                                 0.0                                                         \n",
       "06stidriver                                                              0.0                                                         \n",
       "08dallas                                                                 0.0                                                         \n",
       "09mommy11                                                                0.0                                                         \n",
       "1085                                                                     0.0                                                         \n",
       "10ten                                                                    0.0                                                         \n",
       "11111111aaaaaaaaaaaaaaaaa                                                0.0                                                         \n",
       "1143mom                                                                  0.0                                                         \n",
       "\n",
       "name                       WeatherTech 40647 14-15 Outlander Cargo Liners Behind 2nd Row, Black  \\\n",
       "reviews_username                                                                                  \n",
       "00sab00                                                                  0.0                      \n",
       "01impala                                                                 0.0                      \n",
       "0325home                                                                 0.0                      \n",
       "06stidriver                                                              0.0                      \n",
       "08dallas                                                                 0.0                      \n",
       "09mommy11                                                                0.0                      \n",
       "1085                                                                     0.0                      \n",
       "10ten                                                                    0.0                      \n",
       "11111111aaaaaaaaaaaaaaaaa                                                0.0                      \n",
       "1143mom                                                                  0.0                      \n",
       "\n",
       "name                       Weleda Everon Lip Balm  \\\n",
       "reviews_username                                    \n",
       "00sab00                                       0.0   \n",
       "01impala                                      0.0   \n",
       "0325home                                      0.0   \n",
       "06stidriver                                   0.0   \n",
       "08dallas                                      0.0   \n",
       "09mommy11                                     0.0   \n",
       "1085                                          0.0   \n",
       "10ten                                         0.0   \n",
       "11111111aaaaaaaaaaaaaaaaa                     0.0   \n",
       "1143mom                                       0.0   \n",
       "\n",
       "name                       Windex Original Glass Cleaner Refill 67.6oz (2 Liter)  \\\n",
       "reviews_username                                                                   \n",
       "00sab00                                                                  0.0       \n",
       "01impala                                                                 0.0       \n",
       "0325home                                                                 0.0       \n",
       "06stidriver                                                              0.0       \n",
       "08dallas                                                                 0.0       \n",
       "09mommy11                                                                0.0       \n",
       "1085                                                                     0.0       \n",
       "10ten                                                                    0.0       \n",
       "11111111aaaaaaaaaaaaaaaaa                                                0.0       \n",
       "1143mom                                                                  3.0       \n",
       "\n",
       "name                       Yes To Carrots Nourishing Body Wash  \\\n",
       "reviews_username                                                 \n",
       "00sab00                                                    0.0   \n",
       "01impala                                                   0.0   \n",
       "0325home                                                   0.0   \n",
       "06stidriver                                                0.0   \n",
       "08dallas                                                   0.0   \n",
       "09mommy11                                                  0.0   \n",
       "1085                                                       0.0   \n",
       "10ten                                                      0.0   \n",
       "11111111aaaaaaaaaaaaaaaaa                                  0.0   \n",
       "1143mom                                                    0.0   \n",
       "\n",
       "name                       Yes To Grapefruit Rejuvenating Body Wash  \n",
       "reviews_username                                                     \n",
       "00sab00                                                         0.0  \n",
       "01impala                                                        0.0  \n",
       "0325home                                                        0.0  \n",
       "06stidriver                                                     0.0  \n",
       "08dallas                                                        0.0  \n",
       "09mommy11                                                       0.0  \n",
       "1085                                                            0.0  \n",
       "10ten                                                           0.0  \n",
       "11111111aaaaaaaaaaaaaaaaa                                       0.0  \n",
       "1143mom                                                         0.0  \n",
       "\n",
       "[10 rows x 251 columns]"
      ]
     },
     "execution_count": 88,
     "metadata": {},
     "output_type": "execute_result"
    }
   ],
   "source": [
    "df_pivot = train.pivot(\n",
    "    index='reviews_username',\n",
    "    columns='name',\n",
    "    values='reviews_rating'\n",
    ").fillna(0)\n",
    "\n",
    "df_pivot.head(10)"
   ]
  },
  {
   "cell_type": "code",
   "execution_count": 89,
   "metadata": {},
   "outputs": [
    {
     "data": {
      "text/plain": [
       "(17817, 251)"
      ]
     },
     "execution_count": 89,
     "metadata": {},
     "output_type": "execute_result"
    }
   ],
   "source": [
    "df_pivot.shape"
   ]
  },
  {
   "cell_type": "markdown",
   "metadata": {},
   "source": [
    "### Creating dummy train & dummy test dataset\n",
    "These dataset will be used for prediction \n",
    "- Dummy train will be used later for prediction of the movies which has not been rated by the user. To ignore the movies rated by the user, we will mark it as 0 during prediction. The movies not rated by user is marked as 1 for prediction in dummy train dataset. \n",
    "\n",
    "- Dummy test will be used for evaluation. To evaluate, we will only make prediction on the movies rated by the user. So, this is marked as 1. This is just opposite of dummy_train."
   ]
  },
  {
   "cell_type": "code",
   "execution_count": 90,
   "metadata": {},
   "outputs": [],
   "source": [
    "dummy_train = train.copy()"
   ]
  },
  {
   "cell_type": "code",
   "execution_count": 91,
   "metadata": {},
   "outputs": [],
   "source": [
    "dummy_train['reviews_rating'] = dummy_train['reviews_rating'].apply(lambda x: 0 if x>=1 else 1)"
   ]
  },
  {
   "cell_type": "code",
   "execution_count": 92,
   "metadata": {},
   "outputs": [
    {
     "data": {
      "text/html": [
       "<div>\n",
       "<style scoped>\n",
       "    .dataframe tbody tr th:only-of-type {\n",
       "        vertical-align: middle;\n",
       "    }\n",
       "\n",
       "    .dataframe tbody tr th {\n",
       "        vertical-align: top;\n",
       "    }\n",
       "\n",
       "    .dataframe thead th {\n",
       "        text-align: right;\n",
       "    }\n",
       "</style>\n",
       "<table border=\"1\" class=\"dataframe\">\n",
       "  <thead>\n",
       "    <tr style=\"text-align: right;\">\n",
       "      <th>name</th>\n",
       "      <th>0.6 Cu. Ft. Letter A4 Size Waterproof 30 Min. Fire File Chest</th>\n",
       "      <th>100:Complete First Season (blu-Ray)</th>\n",
       "      <th>2017-2018 Brownline174 Duraflex 14-Month Planner 8 1/2 X 11 Black</th>\n",
       "      <th>2x Ultra Era with Oxi Booster, 50fl oz</th>\n",
       "      <th>42 Dual Drop Leaf Table with 2 Madrid Chairs\"</th>\n",
       "      <th>4C Grated Parmesan Cheese 100% Natural 8oz Shaker</th>\n",
       "      <th>Africa's Best No-Lye Dual Conditioning Relaxer System Super</th>\n",
       "      <th>Alberto VO5 Salon Series Smooth Plus Sleek Shampoo</th>\n",
       "      <th>Alex Cross (dvdvideo)</th>\n",
       "      <th>All,bran Complete Wheat Flakes, 18 Oz.</th>\n",
       "      <th>...</th>\n",
       "      <th>Vicks Vaporub, Regular, 3.53oz</th>\n",
       "      <th>Voortman Sugar Free Fudge Chocolate Chip Cookies</th>\n",
       "      <th>Wagan Smartac 80watt Inverter With Usb</th>\n",
       "      <th>Wallmount Server Cabinet (450mm, 9 RU)</th>\n",
       "      <th>Way Basics 3-Shelf Eco Narrow Bookcase Storage Shelf, Espresso - Formaldehyde Free - Lifetime Guarantee</th>\n",
       "      <th>WeatherTech 40647 14-15 Outlander Cargo Liners Behind 2nd Row, Black</th>\n",
       "      <th>Weleda Everon Lip Balm</th>\n",
       "      <th>Windex Original Glass Cleaner Refill 67.6oz (2 Liter)</th>\n",
       "      <th>Yes To Carrots Nourishing Body Wash</th>\n",
       "      <th>Yes To Grapefruit Rejuvenating Body Wash</th>\n",
       "    </tr>\n",
       "    <tr>\n",
       "      <th>reviews_username</th>\n",
       "      <th></th>\n",
       "      <th></th>\n",
       "      <th></th>\n",
       "      <th></th>\n",
       "      <th></th>\n",
       "      <th></th>\n",
       "      <th></th>\n",
       "      <th></th>\n",
       "      <th></th>\n",
       "      <th></th>\n",
       "      <th></th>\n",
       "      <th></th>\n",
       "      <th></th>\n",
       "      <th></th>\n",
       "      <th></th>\n",
       "      <th></th>\n",
       "      <th></th>\n",
       "      <th></th>\n",
       "      <th></th>\n",
       "      <th></th>\n",
       "      <th></th>\n",
       "    </tr>\n",
       "  </thead>\n",
       "  <tbody>\n",
       "    <tr>\n",
       "      <td>00sab00</td>\n",
       "      <td>1.0</td>\n",
       "      <td>1.0</td>\n",
       "      <td>1.0</td>\n",
       "      <td>1.0</td>\n",
       "      <td>1.0</td>\n",
       "      <td>1.0</td>\n",
       "      <td>1.0</td>\n",
       "      <td>1.0</td>\n",
       "      <td>1.0</td>\n",
       "      <td>1.0</td>\n",
       "      <td>...</td>\n",
       "      <td>1.0</td>\n",
       "      <td>1.0</td>\n",
       "      <td>1.0</td>\n",
       "      <td>1.0</td>\n",
       "      <td>1.0</td>\n",
       "      <td>1.0</td>\n",
       "      <td>1.0</td>\n",
       "      <td>1.0</td>\n",
       "      <td>1.0</td>\n",
       "      <td>1.0</td>\n",
       "    </tr>\n",
       "    <tr>\n",
       "      <td>01impala</td>\n",
       "      <td>1.0</td>\n",
       "      <td>1.0</td>\n",
       "      <td>1.0</td>\n",
       "      <td>1.0</td>\n",
       "      <td>1.0</td>\n",
       "      <td>1.0</td>\n",
       "      <td>1.0</td>\n",
       "      <td>1.0</td>\n",
       "      <td>1.0</td>\n",
       "      <td>1.0</td>\n",
       "      <td>...</td>\n",
       "      <td>1.0</td>\n",
       "      <td>1.0</td>\n",
       "      <td>1.0</td>\n",
       "      <td>1.0</td>\n",
       "      <td>1.0</td>\n",
       "      <td>1.0</td>\n",
       "      <td>1.0</td>\n",
       "      <td>1.0</td>\n",
       "      <td>1.0</td>\n",
       "      <td>1.0</td>\n",
       "    </tr>\n",
       "    <tr>\n",
       "      <td>0325home</td>\n",
       "      <td>1.0</td>\n",
       "      <td>1.0</td>\n",
       "      <td>1.0</td>\n",
       "      <td>1.0</td>\n",
       "      <td>1.0</td>\n",
       "      <td>1.0</td>\n",
       "      <td>1.0</td>\n",
       "      <td>1.0</td>\n",
       "      <td>1.0</td>\n",
       "      <td>1.0</td>\n",
       "      <td>...</td>\n",
       "      <td>1.0</td>\n",
       "      <td>1.0</td>\n",
       "      <td>1.0</td>\n",
       "      <td>1.0</td>\n",
       "      <td>1.0</td>\n",
       "      <td>1.0</td>\n",
       "      <td>1.0</td>\n",
       "      <td>1.0</td>\n",
       "      <td>1.0</td>\n",
       "      <td>1.0</td>\n",
       "    </tr>\n",
       "    <tr>\n",
       "      <td>06stidriver</td>\n",
       "      <td>1.0</td>\n",
       "      <td>1.0</td>\n",
       "      <td>1.0</td>\n",
       "      <td>1.0</td>\n",
       "      <td>1.0</td>\n",
       "      <td>1.0</td>\n",
       "      <td>1.0</td>\n",
       "      <td>1.0</td>\n",
       "      <td>1.0</td>\n",
       "      <td>1.0</td>\n",
       "      <td>...</td>\n",
       "      <td>1.0</td>\n",
       "      <td>1.0</td>\n",
       "      <td>1.0</td>\n",
       "      <td>1.0</td>\n",
       "      <td>1.0</td>\n",
       "      <td>1.0</td>\n",
       "      <td>1.0</td>\n",
       "      <td>1.0</td>\n",
       "      <td>1.0</td>\n",
       "      <td>1.0</td>\n",
       "    </tr>\n",
       "    <tr>\n",
       "      <td>08dallas</td>\n",
       "      <td>1.0</td>\n",
       "      <td>0.0</td>\n",
       "      <td>1.0</td>\n",
       "      <td>1.0</td>\n",
       "      <td>1.0</td>\n",
       "      <td>1.0</td>\n",
       "      <td>1.0</td>\n",
       "      <td>1.0</td>\n",
       "      <td>1.0</td>\n",
       "      <td>1.0</td>\n",
       "      <td>...</td>\n",
       "      <td>1.0</td>\n",
       "      <td>1.0</td>\n",
       "      <td>1.0</td>\n",
       "      <td>1.0</td>\n",
       "      <td>1.0</td>\n",
       "      <td>1.0</td>\n",
       "      <td>1.0</td>\n",
       "      <td>1.0</td>\n",
       "      <td>1.0</td>\n",
       "      <td>1.0</td>\n",
       "    </tr>\n",
       "  </tbody>\n",
       "</table>\n",
       "<p>5 rows × 251 columns</p>\n",
       "</div>"
      ],
      "text/plain": [
       "name              0.6 Cu. Ft. Letter A4 Size Waterproof 30 Min. Fire File Chest  \\\n",
       "reviews_username                                                                  \n",
       "00sab00                                                         1.0               \n",
       "01impala                                                        1.0               \n",
       "0325home                                                        1.0               \n",
       "06stidriver                                                     1.0               \n",
       "08dallas                                                        1.0               \n",
       "\n",
       "name              100:Complete First Season (blu-Ray)  \\\n",
       "reviews_username                                        \n",
       "00sab00                                           1.0   \n",
       "01impala                                          1.0   \n",
       "0325home                                          1.0   \n",
       "06stidriver                                       1.0   \n",
       "08dallas                                          0.0   \n",
       "\n",
       "name              2017-2018 Brownline174 Duraflex 14-Month Planner 8 1/2 X 11 Black  \\\n",
       "reviews_username                                                                      \n",
       "00sab00                                                         1.0                   \n",
       "01impala                                                        1.0                   \n",
       "0325home                                                        1.0                   \n",
       "06stidriver                                                     1.0                   \n",
       "08dallas                                                        1.0                   \n",
       "\n",
       "name              2x Ultra Era with Oxi Booster, 50fl oz  \\\n",
       "reviews_username                                           \n",
       "00sab00                                              1.0   \n",
       "01impala                                             1.0   \n",
       "0325home                                             1.0   \n",
       "06stidriver                                          1.0   \n",
       "08dallas                                             1.0   \n",
       "\n",
       "name              42 Dual Drop Leaf Table with 2 Madrid Chairs\"  \\\n",
       "reviews_username                                                  \n",
       "00sab00                                                     1.0   \n",
       "01impala                                                    1.0   \n",
       "0325home                                                    1.0   \n",
       "06stidriver                                                 1.0   \n",
       "08dallas                                                    1.0   \n",
       "\n",
       "name              4C Grated Parmesan Cheese 100% Natural 8oz Shaker  \\\n",
       "reviews_username                                                      \n",
       "00sab00                                                         1.0   \n",
       "01impala                                                        1.0   \n",
       "0325home                                                        1.0   \n",
       "06stidriver                                                     1.0   \n",
       "08dallas                                                        1.0   \n",
       "\n",
       "name              Africa's Best No-Lye Dual Conditioning Relaxer System Super  \\\n",
       "reviews_username                                                                \n",
       "00sab00                                                         1.0             \n",
       "01impala                                                        1.0             \n",
       "0325home                                                        1.0             \n",
       "06stidriver                                                     1.0             \n",
       "08dallas                                                        1.0             \n",
       "\n",
       "name              Alberto VO5 Salon Series Smooth Plus Sleek Shampoo  \\\n",
       "reviews_username                                                       \n",
       "00sab00                                                         1.0    \n",
       "01impala                                                        1.0    \n",
       "0325home                                                        1.0    \n",
       "06stidriver                                                     1.0    \n",
       "08dallas                                                        1.0    \n",
       "\n",
       "name              Alex Cross (dvdvideo)  \\\n",
       "reviews_username                          \n",
       "00sab00                             1.0   \n",
       "01impala                            1.0   \n",
       "0325home                            1.0   \n",
       "06stidriver                         1.0   \n",
       "08dallas                            1.0   \n",
       "\n",
       "name              All,bran Complete Wheat Flakes, 18 Oz.  ...  \\\n",
       "reviews_username                                          ...   \n",
       "00sab00                                              1.0  ...   \n",
       "01impala                                             1.0  ...   \n",
       "0325home                                             1.0  ...   \n",
       "06stidriver                                          1.0  ...   \n",
       "08dallas                                             1.0  ...   \n",
       "\n",
       "name              Vicks Vaporub, Regular, 3.53oz  \\\n",
       "reviews_username                                   \n",
       "00sab00                                      1.0   \n",
       "01impala                                     1.0   \n",
       "0325home                                     1.0   \n",
       "06stidriver                                  1.0   \n",
       "08dallas                                     1.0   \n",
       "\n",
       "name              Voortman Sugar Free Fudge Chocolate Chip Cookies  \\\n",
       "reviews_username                                                     \n",
       "00sab00                                                        1.0   \n",
       "01impala                                                       1.0   \n",
       "0325home                                                       1.0   \n",
       "06stidriver                                                    1.0   \n",
       "08dallas                                                       1.0   \n",
       "\n",
       "name              Wagan Smartac 80watt Inverter With Usb  \\\n",
       "reviews_username                                           \n",
       "00sab00                                              1.0   \n",
       "01impala                                             1.0   \n",
       "0325home                                             1.0   \n",
       "06stidriver                                          1.0   \n",
       "08dallas                                             1.0   \n",
       "\n",
       "name              Wallmount Server Cabinet (450mm, 9 RU)  \\\n",
       "reviews_username                                           \n",
       "00sab00                                              1.0   \n",
       "01impala                                             1.0   \n",
       "0325home                                             1.0   \n",
       "06stidriver                                          1.0   \n",
       "08dallas                                             1.0   \n",
       "\n",
       "name              Way Basics 3-Shelf Eco Narrow Bookcase Storage Shelf, Espresso - Formaldehyde Free - Lifetime Guarantee  \\\n",
       "reviews_username                                                                                                            \n",
       "00sab00                                                         1.0                                                         \n",
       "01impala                                                        1.0                                                         \n",
       "0325home                                                        1.0                                                         \n",
       "06stidriver                                                     1.0                                                         \n",
       "08dallas                                                        1.0                                                         \n",
       "\n",
       "name              WeatherTech 40647 14-15 Outlander Cargo Liners Behind 2nd Row, Black  \\\n",
       "reviews_username                                                                         \n",
       "00sab00                                                         1.0                      \n",
       "01impala                                                        1.0                      \n",
       "0325home                                                        1.0                      \n",
       "06stidriver                                                     1.0                      \n",
       "08dallas                                                        1.0                      \n",
       "\n",
       "name              Weleda Everon Lip Balm  \\\n",
       "reviews_username                           \n",
       "00sab00                              1.0   \n",
       "01impala                             1.0   \n",
       "0325home                             1.0   \n",
       "06stidriver                          1.0   \n",
       "08dallas                             1.0   \n",
       "\n",
       "name              Windex Original Glass Cleaner Refill 67.6oz (2 Liter)  \\\n",
       "reviews_username                                                          \n",
       "00sab00                                                         1.0       \n",
       "01impala                                                        1.0       \n",
       "0325home                                                        1.0       \n",
       "06stidriver                                                     1.0       \n",
       "08dallas                                                        1.0       \n",
       "\n",
       "name              Yes To Carrots Nourishing Body Wash  \\\n",
       "reviews_username                                        \n",
       "00sab00                                           1.0   \n",
       "01impala                                          1.0   \n",
       "0325home                                          1.0   \n",
       "06stidriver                                       1.0   \n",
       "08dallas                                          1.0   \n",
       "\n",
       "name              Yes To Grapefruit Rejuvenating Body Wash  \n",
       "reviews_username                                            \n",
       "00sab00                                                1.0  \n",
       "01impala                                               1.0  \n",
       "0325home                                               1.0  \n",
       "06stidriver                                            1.0  \n",
       "08dallas                                               1.0  \n",
       "\n",
       "[5 rows x 251 columns]"
      ]
     },
     "execution_count": 92,
     "metadata": {},
     "output_type": "execute_result"
    }
   ],
   "source": [
    "dummy_train = dummy_train.pivot(\n",
    "    index='reviews_username',\n",
    "    columns='name',\n",
    "    values='reviews_rating'\n",
    ").fillna(1)\n",
    "\n",
    "dummy_train.head()"
   ]
  },
  {
   "cell_type": "markdown",
   "metadata": {},
   "source": [
    "**Cosine Similarity**\n",
    "\n",
    "Cosine Similarity is a measurement that quantifies the similarity between two vectors [Which is Rating Vector in this case] \n",
    "\n",
    "**Adjusted Cosine**\n",
    "\n",
    "Adjusted cosine similarity is a modified version of vector-based similarity where we incorporate the fact that different users have different ratings schemes. In other words, some users might rate items highly in general, and others might give items lower ratings as a preference. To handle this nature from rating given by user , we subtract average ratings for each user from each user's rating for different movies.\n"
   ]
  },
  {
   "cell_type": "markdown",
   "metadata": {},
   "source": [
    "# User Similarity Matrix"
   ]
  },
  {
   "cell_type": "markdown",
   "metadata": {},
   "source": [
    "## Using Cosine Similarity"
   ]
  },
  {
   "cell_type": "code",
   "execution_count": 93,
   "metadata": {},
   "outputs": [
    {
     "name": "stdout",
     "output_type": "stream",
     "text": [
      "[[1. 0. 0. ... 0. 0. 0.]\n",
      " [0. 1. 0. ... 0. 0. 0.]\n",
      " [0. 0. 1. ... 1. 1. 1.]\n",
      " ...\n",
      " [0. 0. 1. ... 1. 1. 1.]\n",
      " [0. 0. 1. ... 1. 1. 1.]\n",
      " [0. 0. 1. ... 1. 1. 1.]]\n"
     ]
    }
   ],
   "source": [
    "from sklearn.metrics.pairwise import pairwise_distances\n",
    "\n",
    "# Creating the User Similarity Matrix using pairwise_distance function.\n",
    "user_correlation = 1 - pairwise_distances(df_pivot, metric='cosine')\n",
    "user_correlation[np.isnan(user_correlation)] = 0\n",
    "print(user_correlation)"
   ]
  },
  {
   "cell_type": "code",
   "execution_count": 94,
   "metadata": {},
   "outputs": [
    {
     "data": {
      "text/plain": [
       "(17817, 17817)"
      ]
     },
     "execution_count": 94,
     "metadata": {},
     "output_type": "execute_result"
    }
   ],
   "source": [
    "user_correlation.shape"
   ]
  },
  {
   "cell_type": "markdown",
   "metadata": {},
   "source": [
    "## Using adjusted Cosine "
   ]
  },
  {
   "cell_type": "markdown",
   "metadata": {},
   "source": [
    "### Here, we are not removing the NaN values and calculating the mean only for the movies rated by the user"
   ]
  },
  {
   "cell_type": "code",
   "execution_count": 95,
   "metadata": {},
   "outputs": [],
   "source": [
    "# Create a user-movie matrix.\n",
    "df_pivot = train.pivot(\n",
    "    index='reviews_username',\n",
    "    columns='name',\n",
    "    values='reviews_rating'\n",
    ")"
   ]
  },
  {
   "cell_type": "code",
   "execution_count": 96,
   "metadata": {},
   "outputs": [
    {
     "data": {
      "text/html": [
       "<div>\n",
       "<style scoped>\n",
       "    .dataframe tbody tr th:only-of-type {\n",
       "        vertical-align: middle;\n",
       "    }\n",
       "\n",
       "    .dataframe tbody tr th {\n",
       "        vertical-align: top;\n",
       "    }\n",
       "\n",
       "    .dataframe thead th {\n",
       "        text-align: right;\n",
       "    }\n",
       "</style>\n",
       "<table border=\"1\" class=\"dataframe\">\n",
       "  <thead>\n",
       "    <tr style=\"text-align: right;\">\n",
       "      <th>name</th>\n",
       "      <th>0.6 Cu. Ft. Letter A4 Size Waterproof 30 Min. Fire File Chest</th>\n",
       "      <th>100:Complete First Season (blu-Ray)</th>\n",
       "      <th>2017-2018 Brownline174 Duraflex 14-Month Planner 8 1/2 X 11 Black</th>\n",
       "      <th>2x Ultra Era with Oxi Booster, 50fl oz</th>\n",
       "      <th>42 Dual Drop Leaf Table with 2 Madrid Chairs\"</th>\n",
       "      <th>4C Grated Parmesan Cheese 100% Natural 8oz Shaker</th>\n",
       "      <th>Africa's Best No-Lye Dual Conditioning Relaxer System Super</th>\n",
       "      <th>Alberto VO5 Salon Series Smooth Plus Sleek Shampoo</th>\n",
       "      <th>Alex Cross (dvdvideo)</th>\n",
       "      <th>All,bran Complete Wheat Flakes, 18 Oz.</th>\n",
       "      <th>...</th>\n",
       "      <th>Vicks Vaporub, Regular, 3.53oz</th>\n",
       "      <th>Voortman Sugar Free Fudge Chocolate Chip Cookies</th>\n",
       "      <th>Wagan Smartac 80watt Inverter With Usb</th>\n",
       "      <th>Wallmount Server Cabinet (450mm, 9 RU)</th>\n",
       "      <th>Way Basics 3-Shelf Eco Narrow Bookcase Storage Shelf, Espresso - Formaldehyde Free - Lifetime Guarantee</th>\n",
       "      <th>WeatherTech 40647 14-15 Outlander Cargo Liners Behind 2nd Row, Black</th>\n",
       "      <th>Weleda Everon Lip Balm</th>\n",
       "      <th>Windex Original Glass Cleaner Refill 67.6oz (2 Liter)</th>\n",
       "      <th>Yes To Carrots Nourishing Body Wash</th>\n",
       "      <th>Yes To Grapefruit Rejuvenating Body Wash</th>\n",
       "    </tr>\n",
       "    <tr>\n",
       "      <th>reviews_username</th>\n",
       "      <th></th>\n",
       "      <th></th>\n",
       "      <th></th>\n",
       "      <th></th>\n",
       "      <th></th>\n",
       "      <th></th>\n",
       "      <th></th>\n",
       "      <th></th>\n",
       "      <th></th>\n",
       "      <th></th>\n",
       "      <th></th>\n",
       "      <th></th>\n",
       "      <th></th>\n",
       "      <th></th>\n",
       "      <th></th>\n",
       "      <th></th>\n",
       "      <th></th>\n",
       "      <th></th>\n",
       "      <th></th>\n",
       "      <th></th>\n",
       "      <th></th>\n",
       "    </tr>\n",
       "  </thead>\n",
       "  <tbody>\n",
       "    <tr>\n",
       "      <td>00sab00</td>\n",
       "      <td>NaN</td>\n",
       "      <td>NaN</td>\n",
       "      <td>NaN</td>\n",
       "      <td>NaN</td>\n",
       "      <td>NaN</td>\n",
       "      <td>NaN</td>\n",
       "      <td>NaN</td>\n",
       "      <td>NaN</td>\n",
       "      <td>NaN</td>\n",
       "      <td>NaN</td>\n",
       "      <td>...</td>\n",
       "      <td>NaN</td>\n",
       "      <td>NaN</td>\n",
       "      <td>NaN</td>\n",
       "      <td>NaN</td>\n",
       "      <td>NaN</td>\n",
       "      <td>NaN</td>\n",
       "      <td>NaN</td>\n",
       "      <td>NaN</td>\n",
       "      <td>NaN</td>\n",
       "      <td>NaN</td>\n",
       "    </tr>\n",
       "    <tr>\n",
       "      <td>01impala</td>\n",
       "      <td>NaN</td>\n",
       "      <td>NaN</td>\n",
       "      <td>NaN</td>\n",
       "      <td>NaN</td>\n",
       "      <td>NaN</td>\n",
       "      <td>NaN</td>\n",
       "      <td>NaN</td>\n",
       "      <td>NaN</td>\n",
       "      <td>NaN</td>\n",
       "      <td>NaN</td>\n",
       "      <td>...</td>\n",
       "      <td>NaN</td>\n",
       "      <td>NaN</td>\n",
       "      <td>NaN</td>\n",
       "      <td>NaN</td>\n",
       "      <td>NaN</td>\n",
       "      <td>NaN</td>\n",
       "      <td>NaN</td>\n",
       "      <td>NaN</td>\n",
       "      <td>NaN</td>\n",
       "      <td>NaN</td>\n",
       "    </tr>\n",
       "    <tr>\n",
       "      <td>0325home</td>\n",
       "      <td>NaN</td>\n",
       "      <td>NaN</td>\n",
       "      <td>NaN</td>\n",
       "      <td>NaN</td>\n",
       "      <td>NaN</td>\n",
       "      <td>NaN</td>\n",
       "      <td>NaN</td>\n",
       "      <td>NaN</td>\n",
       "      <td>NaN</td>\n",
       "      <td>NaN</td>\n",
       "      <td>...</td>\n",
       "      <td>NaN</td>\n",
       "      <td>NaN</td>\n",
       "      <td>NaN</td>\n",
       "      <td>NaN</td>\n",
       "      <td>NaN</td>\n",
       "      <td>NaN</td>\n",
       "      <td>NaN</td>\n",
       "      <td>NaN</td>\n",
       "      <td>NaN</td>\n",
       "      <td>NaN</td>\n",
       "    </tr>\n",
       "    <tr>\n",
       "      <td>06stidriver</td>\n",
       "      <td>NaN</td>\n",
       "      <td>NaN</td>\n",
       "      <td>NaN</td>\n",
       "      <td>NaN</td>\n",
       "      <td>NaN</td>\n",
       "      <td>NaN</td>\n",
       "      <td>NaN</td>\n",
       "      <td>NaN</td>\n",
       "      <td>NaN</td>\n",
       "      <td>NaN</td>\n",
       "      <td>...</td>\n",
       "      <td>NaN</td>\n",
       "      <td>NaN</td>\n",
       "      <td>NaN</td>\n",
       "      <td>NaN</td>\n",
       "      <td>NaN</td>\n",
       "      <td>NaN</td>\n",
       "      <td>NaN</td>\n",
       "      <td>NaN</td>\n",
       "      <td>NaN</td>\n",
       "      <td>NaN</td>\n",
       "    </tr>\n",
       "    <tr>\n",
       "      <td>08dallas</td>\n",
       "      <td>NaN</td>\n",
       "      <td>5.0</td>\n",
       "      <td>NaN</td>\n",
       "      <td>NaN</td>\n",
       "      <td>NaN</td>\n",
       "      <td>NaN</td>\n",
       "      <td>NaN</td>\n",
       "      <td>NaN</td>\n",
       "      <td>NaN</td>\n",
       "      <td>NaN</td>\n",
       "      <td>...</td>\n",
       "      <td>NaN</td>\n",
       "      <td>NaN</td>\n",
       "      <td>NaN</td>\n",
       "      <td>NaN</td>\n",
       "      <td>NaN</td>\n",
       "      <td>NaN</td>\n",
       "      <td>NaN</td>\n",
       "      <td>NaN</td>\n",
       "      <td>NaN</td>\n",
       "      <td>NaN</td>\n",
       "    </tr>\n",
       "  </tbody>\n",
       "</table>\n",
       "<p>5 rows × 251 columns</p>\n",
       "</div>"
      ],
      "text/plain": [
       "name              0.6 Cu. Ft. Letter A4 Size Waterproof 30 Min. Fire File Chest  \\\n",
       "reviews_username                                                                  \n",
       "00sab00                                                         NaN               \n",
       "01impala                                                        NaN               \n",
       "0325home                                                        NaN               \n",
       "06stidriver                                                     NaN               \n",
       "08dallas                                                        NaN               \n",
       "\n",
       "name              100:Complete First Season (blu-Ray)  \\\n",
       "reviews_username                                        \n",
       "00sab00                                           NaN   \n",
       "01impala                                          NaN   \n",
       "0325home                                          NaN   \n",
       "06stidriver                                       NaN   \n",
       "08dallas                                          5.0   \n",
       "\n",
       "name              2017-2018 Brownline174 Duraflex 14-Month Planner 8 1/2 X 11 Black  \\\n",
       "reviews_username                                                                      \n",
       "00sab00                                                         NaN                   \n",
       "01impala                                                        NaN                   \n",
       "0325home                                                        NaN                   \n",
       "06stidriver                                                     NaN                   \n",
       "08dallas                                                        NaN                   \n",
       "\n",
       "name              2x Ultra Era with Oxi Booster, 50fl oz  \\\n",
       "reviews_username                                           \n",
       "00sab00                                              NaN   \n",
       "01impala                                             NaN   \n",
       "0325home                                             NaN   \n",
       "06stidriver                                          NaN   \n",
       "08dallas                                             NaN   \n",
       "\n",
       "name              42 Dual Drop Leaf Table with 2 Madrid Chairs\"  \\\n",
       "reviews_username                                                  \n",
       "00sab00                                                     NaN   \n",
       "01impala                                                    NaN   \n",
       "0325home                                                    NaN   \n",
       "06stidriver                                                 NaN   \n",
       "08dallas                                                    NaN   \n",
       "\n",
       "name              4C Grated Parmesan Cheese 100% Natural 8oz Shaker  \\\n",
       "reviews_username                                                      \n",
       "00sab00                                                         NaN   \n",
       "01impala                                                        NaN   \n",
       "0325home                                                        NaN   \n",
       "06stidriver                                                     NaN   \n",
       "08dallas                                                        NaN   \n",
       "\n",
       "name              Africa's Best No-Lye Dual Conditioning Relaxer System Super  \\\n",
       "reviews_username                                                                \n",
       "00sab00                                                         NaN             \n",
       "01impala                                                        NaN             \n",
       "0325home                                                        NaN             \n",
       "06stidriver                                                     NaN             \n",
       "08dallas                                                        NaN             \n",
       "\n",
       "name              Alberto VO5 Salon Series Smooth Plus Sleek Shampoo  \\\n",
       "reviews_username                                                       \n",
       "00sab00                                                         NaN    \n",
       "01impala                                                        NaN    \n",
       "0325home                                                        NaN    \n",
       "06stidriver                                                     NaN    \n",
       "08dallas                                                        NaN    \n",
       "\n",
       "name              Alex Cross (dvdvideo)  \\\n",
       "reviews_username                          \n",
       "00sab00                             NaN   \n",
       "01impala                            NaN   \n",
       "0325home                            NaN   \n",
       "06stidriver                         NaN   \n",
       "08dallas                            NaN   \n",
       "\n",
       "name              All,bran Complete Wheat Flakes, 18 Oz.  ...  \\\n",
       "reviews_username                                          ...   \n",
       "00sab00                                              NaN  ...   \n",
       "01impala                                             NaN  ...   \n",
       "0325home                                             NaN  ...   \n",
       "06stidriver                                          NaN  ...   \n",
       "08dallas                                             NaN  ...   \n",
       "\n",
       "name              Vicks Vaporub, Regular, 3.53oz  \\\n",
       "reviews_username                                   \n",
       "00sab00                                      NaN   \n",
       "01impala                                     NaN   \n",
       "0325home                                     NaN   \n",
       "06stidriver                                  NaN   \n",
       "08dallas                                     NaN   \n",
       "\n",
       "name              Voortman Sugar Free Fudge Chocolate Chip Cookies  \\\n",
       "reviews_username                                                     \n",
       "00sab00                                                        NaN   \n",
       "01impala                                                       NaN   \n",
       "0325home                                                       NaN   \n",
       "06stidriver                                                    NaN   \n",
       "08dallas                                                       NaN   \n",
       "\n",
       "name              Wagan Smartac 80watt Inverter With Usb  \\\n",
       "reviews_username                                           \n",
       "00sab00                                              NaN   \n",
       "01impala                                             NaN   \n",
       "0325home                                             NaN   \n",
       "06stidriver                                          NaN   \n",
       "08dallas                                             NaN   \n",
       "\n",
       "name              Wallmount Server Cabinet (450mm, 9 RU)  \\\n",
       "reviews_username                                           \n",
       "00sab00                                              NaN   \n",
       "01impala                                             NaN   \n",
       "0325home                                             NaN   \n",
       "06stidriver                                          NaN   \n",
       "08dallas                                             NaN   \n",
       "\n",
       "name              Way Basics 3-Shelf Eco Narrow Bookcase Storage Shelf, Espresso - Formaldehyde Free - Lifetime Guarantee  \\\n",
       "reviews_username                                                                                                            \n",
       "00sab00                                                         NaN                                                         \n",
       "01impala                                                        NaN                                                         \n",
       "0325home                                                        NaN                                                         \n",
       "06stidriver                                                     NaN                                                         \n",
       "08dallas                                                        NaN                                                         \n",
       "\n",
       "name              WeatherTech 40647 14-15 Outlander Cargo Liners Behind 2nd Row, Black  \\\n",
       "reviews_username                                                                         \n",
       "00sab00                                                         NaN                      \n",
       "01impala                                                        NaN                      \n",
       "0325home                                                        NaN                      \n",
       "06stidriver                                                     NaN                      \n",
       "08dallas                                                        NaN                      \n",
       "\n",
       "name              Weleda Everon Lip Balm  \\\n",
       "reviews_username                           \n",
       "00sab00                              NaN   \n",
       "01impala                             NaN   \n",
       "0325home                             NaN   \n",
       "06stidriver                          NaN   \n",
       "08dallas                             NaN   \n",
       "\n",
       "name              Windex Original Glass Cleaner Refill 67.6oz (2 Liter)  \\\n",
       "reviews_username                                                          \n",
       "00sab00                                                         NaN       \n",
       "01impala                                                        NaN       \n",
       "0325home                                                        NaN       \n",
       "06stidriver                                                     NaN       \n",
       "08dallas                                                        NaN       \n",
       "\n",
       "name              Yes To Carrots Nourishing Body Wash  \\\n",
       "reviews_username                                        \n",
       "00sab00                                           NaN   \n",
       "01impala                                          NaN   \n",
       "0325home                                          NaN   \n",
       "06stidriver                                       NaN   \n",
       "08dallas                                          NaN   \n",
       "\n",
       "name              Yes To Grapefruit Rejuvenating Body Wash  \n",
       "reviews_username                                            \n",
       "00sab00                                                NaN  \n",
       "01impala                                               NaN  \n",
       "0325home                                               NaN  \n",
       "06stidriver                                            NaN  \n",
       "08dallas                                               NaN  \n",
       "\n",
       "[5 rows x 251 columns]"
      ]
     },
     "execution_count": 96,
     "metadata": {},
     "output_type": "execute_result"
    }
   ],
   "source": [
    "df_pivot.head()"
   ]
  },
  {
   "cell_type": "markdown",
   "metadata": {},
   "source": [
    "### Normalising the rating of the movie for each user around 0 mean"
   ]
  },
  {
   "cell_type": "code",
   "execution_count": 97,
   "metadata": {},
   "outputs": [],
   "source": [
    "mean = np.nanmean(df_pivot, axis=1)\n",
    "df_subtracted = (df_pivot.T-mean).T"
   ]
  },
  {
   "cell_type": "code",
   "execution_count": 98,
   "metadata": {},
   "outputs": [
    {
     "data": {
      "text/html": [
       "<div>\n",
       "<style scoped>\n",
       "    .dataframe tbody tr th:only-of-type {\n",
       "        vertical-align: middle;\n",
       "    }\n",
       "\n",
       "    .dataframe tbody tr th {\n",
       "        vertical-align: top;\n",
       "    }\n",
       "\n",
       "    .dataframe thead th {\n",
       "        text-align: right;\n",
       "    }\n",
       "</style>\n",
       "<table border=\"1\" class=\"dataframe\">\n",
       "  <thead>\n",
       "    <tr style=\"text-align: right;\">\n",
       "      <th>name</th>\n",
       "      <th>0.6 Cu. Ft. Letter A4 Size Waterproof 30 Min. Fire File Chest</th>\n",
       "      <th>100:Complete First Season (blu-Ray)</th>\n",
       "      <th>2017-2018 Brownline174 Duraflex 14-Month Planner 8 1/2 X 11 Black</th>\n",
       "      <th>2x Ultra Era with Oxi Booster, 50fl oz</th>\n",
       "      <th>42 Dual Drop Leaf Table with 2 Madrid Chairs\"</th>\n",
       "      <th>4C Grated Parmesan Cheese 100% Natural 8oz Shaker</th>\n",
       "      <th>Africa's Best No-Lye Dual Conditioning Relaxer System Super</th>\n",
       "      <th>Alberto VO5 Salon Series Smooth Plus Sleek Shampoo</th>\n",
       "      <th>Alex Cross (dvdvideo)</th>\n",
       "      <th>All,bran Complete Wheat Flakes, 18 Oz.</th>\n",
       "      <th>...</th>\n",
       "      <th>Vicks Vaporub, Regular, 3.53oz</th>\n",
       "      <th>Voortman Sugar Free Fudge Chocolate Chip Cookies</th>\n",
       "      <th>Wagan Smartac 80watt Inverter With Usb</th>\n",
       "      <th>Wallmount Server Cabinet (450mm, 9 RU)</th>\n",
       "      <th>Way Basics 3-Shelf Eco Narrow Bookcase Storage Shelf, Espresso - Formaldehyde Free - Lifetime Guarantee</th>\n",
       "      <th>WeatherTech 40647 14-15 Outlander Cargo Liners Behind 2nd Row, Black</th>\n",
       "      <th>Weleda Everon Lip Balm</th>\n",
       "      <th>Windex Original Glass Cleaner Refill 67.6oz (2 Liter)</th>\n",
       "      <th>Yes To Carrots Nourishing Body Wash</th>\n",
       "      <th>Yes To Grapefruit Rejuvenating Body Wash</th>\n",
       "    </tr>\n",
       "    <tr>\n",
       "      <th>reviews_username</th>\n",
       "      <th></th>\n",
       "      <th></th>\n",
       "      <th></th>\n",
       "      <th></th>\n",
       "      <th></th>\n",
       "      <th></th>\n",
       "      <th></th>\n",
       "      <th></th>\n",
       "      <th></th>\n",
       "      <th></th>\n",
       "      <th></th>\n",
       "      <th></th>\n",
       "      <th></th>\n",
       "      <th></th>\n",
       "      <th></th>\n",
       "      <th></th>\n",
       "      <th></th>\n",
       "      <th></th>\n",
       "      <th></th>\n",
       "      <th></th>\n",
       "      <th></th>\n",
       "    </tr>\n",
       "  </thead>\n",
       "  <tbody>\n",
       "    <tr>\n",
       "      <td>00sab00</td>\n",
       "      <td>NaN</td>\n",
       "      <td>NaN</td>\n",
       "      <td>NaN</td>\n",
       "      <td>NaN</td>\n",
       "      <td>NaN</td>\n",
       "      <td>NaN</td>\n",
       "      <td>NaN</td>\n",
       "      <td>NaN</td>\n",
       "      <td>NaN</td>\n",
       "      <td>NaN</td>\n",
       "      <td>...</td>\n",
       "      <td>NaN</td>\n",
       "      <td>NaN</td>\n",
       "      <td>NaN</td>\n",
       "      <td>NaN</td>\n",
       "      <td>NaN</td>\n",
       "      <td>NaN</td>\n",
       "      <td>NaN</td>\n",
       "      <td>NaN</td>\n",
       "      <td>NaN</td>\n",
       "      <td>NaN</td>\n",
       "    </tr>\n",
       "    <tr>\n",
       "      <td>01impala</td>\n",
       "      <td>NaN</td>\n",
       "      <td>NaN</td>\n",
       "      <td>NaN</td>\n",
       "      <td>NaN</td>\n",
       "      <td>NaN</td>\n",
       "      <td>NaN</td>\n",
       "      <td>NaN</td>\n",
       "      <td>NaN</td>\n",
       "      <td>NaN</td>\n",
       "      <td>NaN</td>\n",
       "      <td>...</td>\n",
       "      <td>NaN</td>\n",
       "      <td>NaN</td>\n",
       "      <td>NaN</td>\n",
       "      <td>NaN</td>\n",
       "      <td>NaN</td>\n",
       "      <td>NaN</td>\n",
       "      <td>NaN</td>\n",
       "      <td>NaN</td>\n",
       "      <td>NaN</td>\n",
       "      <td>NaN</td>\n",
       "    </tr>\n",
       "    <tr>\n",
       "      <td>0325home</td>\n",
       "      <td>NaN</td>\n",
       "      <td>NaN</td>\n",
       "      <td>NaN</td>\n",
       "      <td>NaN</td>\n",
       "      <td>NaN</td>\n",
       "      <td>NaN</td>\n",
       "      <td>NaN</td>\n",
       "      <td>NaN</td>\n",
       "      <td>NaN</td>\n",
       "      <td>NaN</td>\n",
       "      <td>...</td>\n",
       "      <td>NaN</td>\n",
       "      <td>NaN</td>\n",
       "      <td>NaN</td>\n",
       "      <td>NaN</td>\n",
       "      <td>NaN</td>\n",
       "      <td>NaN</td>\n",
       "      <td>NaN</td>\n",
       "      <td>NaN</td>\n",
       "      <td>NaN</td>\n",
       "      <td>NaN</td>\n",
       "    </tr>\n",
       "    <tr>\n",
       "      <td>06stidriver</td>\n",
       "      <td>NaN</td>\n",
       "      <td>NaN</td>\n",
       "      <td>NaN</td>\n",
       "      <td>NaN</td>\n",
       "      <td>NaN</td>\n",
       "      <td>NaN</td>\n",
       "      <td>NaN</td>\n",
       "      <td>NaN</td>\n",
       "      <td>NaN</td>\n",
       "      <td>NaN</td>\n",
       "      <td>...</td>\n",
       "      <td>NaN</td>\n",
       "      <td>NaN</td>\n",
       "      <td>NaN</td>\n",
       "      <td>NaN</td>\n",
       "      <td>NaN</td>\n",
       "      <td>NaN</td>\n",
       "      <td>NaN</td>\n",
       "      <td>NaN</td>\n",
       "      <td>NaN</td>\n",
       "      <td>NaN</td>\n",
       "    </tr>\n",
       "    <tr>\n",
       "      <td>08dallas</td>\n",
       "      <td>NaN</td>\n",
       "      <td>0.0</td>\n",
       "      <td>NaN</td>\n",
       "      <td>NaN</td>\n",
       "      <td>NaN</td>\n",
       "      <td>NaN</td>\n",
       "      <td>NaN</td>\n",
       "      <td>NaN</td>\n",
       "      <td>NaN</td>\n",
       "      <td>NaN</td>\n",
       "      <td>...</td>\n",
       "      <td>NaN</td>\n",
       "      <td>NaN</td>\n",
       "      <td>NaN</td>\n",
       "      <td>NaN</td>\n",
       "      <td>NaN</td>\n",
       "      <td>NaN</td>\n",
       "      <td>NaN</td>\n",
       "      <td>NaN</td>\n",
       "      <td>NaN</td>\n",
       "      <td>NaN</td>\n",
       "    </tr>\n",
       "  </tbody>\n",
       "</table>\n",
       "<p>5 rows × 251 columns</p>\n",
       "</div>"
      ],
      "text/plain": [
       "name              0.6 Cu. Ft. Letter A4 Size Waterproof 30 Min. Fire File Chest  \\\n",
       "reviews_username                                                                  \n",
       "00sab00                                                         NaN               \n",
       "01impala                                                        NaN               \n",
       "0325home                                                        NaN               \n",
       "06stidriver                                                     NaN               \n",
       "08dallas                                                        NaN               \n",
       "\n",
       "name              100:Complete First Season (blu-Ray)  \\\n",
       "reviews_username                                        \n",
       "00sab00                                           NaN   \n",
       "01impala                                          NaN   \n",
       "0325home                                          NaN   \n",
       "06stidriver                                       NaN   \n",
       "08dallas                                          0.0   \n",
       "\n",
       "name              2017-2018 Brownline174 Duraflex 14-Month Planner 8 1/2 X 11 Black  \\\n",
       "reviews_username                                                                      \n",
       "00sab00                                                         NaN                   \n",
       "01impala                                                        NaN                   \n",
       "0325home                                                        NaN                   \n",
       "06stidriver                                                     NaN                   \n",
       "08dallas                                                        NaN                   \n",
       "\n",
       "name              2x Ultra Era with Oxi Booster, 50fl oz  \\\n",
       "reviews_username                                           \n",
       "00sab00                                              NaN   \n",
       "01impala                                             NaN   \n",
       "0325home                                             NaN   \n",
       "06stidriver                                          NaN   \n",
       "08dallas                                             NaN   \n",
       "\n",
       "name              42 Dual Drop Leaf Table with 2 Madrid Chairs\"  \\\n",
       "reviews_username                                                  \n",
       "00sab00                                                     NaN   \n",
       "01impala                                                    NaN   \n",
       "0325home                                                    NaN   \n",
       "06stidriver                                                 NaN   \n",
       "08dallas                                                    NaN   \n",
       "\n",
       "name              4C Grated Parmesan Cheese 100% Natural 8oz Shaker  \\\n",
       "reviews_username                                                      \n",
       "00sab00                                                         NaN   \n",
       "01impala                                                        NaN   \n",
       "0325home                                                        NaN   \n",
       "06stidriver                                                     NaN   \n",
       "08dallas                                                        NaN   \n",
       "\n",
       "name              Africa's Best No-Lye Dual Conditioning Relaxer System Super  \\\n",
       "reviews_username                                                                \n",
       "00sab00                                                         NaN             \n",
       "01impala                                                        NaN             \n",
       "0325home                                                        NaN             \n",
       "06stidriver                                                     NaN             \n",
       "08dallas                                                        NaN             \n",
       "\n",
       "name              Alberto VO5 Salon Series Smooth Plus Sleek Shampoo  \\\n",
       "reviews_username                                                       \n",
       "00sab00                                                         NaN    \n",
       "01impala                                                        NaN    \n",
       "0325home                                                        NaN    \n",
       "06stidriver                                                     NaN    \n",
       "08dallas                                                        NaN    \n",
       "\n",
       "name              Alex Cross (dvdvideo)  \\\n",
       "reviews_username                          \n",
       "00sab00                             NaN   \n",
       "01impala                            NaN   \n",
       "0325home                            NaN   \n",
       "06stidriver                         NaN   \n",
       "08dallas                            NaN   \n",
       "\n",
       "name              All,bran Complete Wheat Flakes, 18 Oz.  ...  \\\n",
       "reviews_username                                          ...   \n",
       "00sab00                                              NaN  ...   \n",
       "01impala                                             NaN  ...   \n",
       "0325home                                             NaN  ...   \n",
       "06stidriver                                          NaN  ...   \n",
       "08dallas                                             NaN  ...   \n",
       "\n",
       "name              Vicks Vaporub, Regular, 3.53oz  \\\n",
       "reviews_username                                   \n",
       "00sab00                                      NaN   \n",
       "01impala                                     NaN   \n",
       "0325home                                     NaN   \n",
       "06stidriver                                  NaN   \n",
       "08dallas                                     NaN   \n",
       "\n",
       "name              Voortman Sugar Free Fudge Chocolate Chip Cookies  \\\n",
       "reviews_username                                                     \n",
       "00sab00                                                        NaN   \n",
       "01impala                                                       NaN   \n",
       "0325home                                                       NaN   \n",
       "06stidriver                                                    NaN   \n",
       "08dallas                                                       NaN   \n",
       "\n",
       "name              Wagan Smartac 80watt Inverter With Usb  \\\n",
       "reviews_username                                           \n",
       "00sab00                                              NaN   \n",
       "01impala                                             NaN   \n",
       "0325home                                             NaN   \n",
       "06stidriver                                          NaN   \n",
       "08dallas                                             NaN   \n",
       "\n",
       "name              Wallmount Server Cabinet (450mm, 9 RU)  \\\n",
       "reviews_username                                           \n",
       "00sab00                                              NaN   \n",
       "01impala                                             NaN   \n",
       "0325home                                             NaN   \n",
       "06stidriver                                          NaN   \n",
       "08dallas                                             NaN   \n",
       "\n",
       "name              Way Basics 3-Shelf Eco Narrow Bookcase Storage Shelf, Espresso - Formaldehyde Free - Lifetime Guarantee  \\\n",
       "reviews_username                                                                                                            \n",
       "00sab00                                                         NaN                                                         \n",
       "01impala                                                        NaN                                                         \n",
       "0325home                                                        NaN                                                         \n",
       "06stidriver                                                     NaN                                                         \n",
       "08dallas                                                        NaN                                                         \n",
       "\n",
       "name              WeatherTech 40647 14-15 Outlander Cargo Liners Behind 2nd Row, Black  \\\n",
       "reviews_username                                                                         \n",
       "00sab00                                                         NaN                      \n",
       "01impala                                                        NaN                      \n",
       "0325home                                                        NaN                      \n",
       "06stidriver                                                     NaN                      \n",
       "08dallas                                                        NaN                      \n",
       "\n",
       "name              Weleda Everon Lip Balm  \\\n",
       "reviews_username                           \n",
       "00sab00                              NaN   \n",
       "01impala                             NaN   \n",
       "0325home                             NaN   \n",
       "06stidriver                          NaN   \n",
       "08dallas                             NaN   \n",
       "\n",
       "name              Windex Original Glass Cleaner Refill 67.6oz (2 Liter)  \\\n",
       "reviews_username                                                          \n",
       "00sab00                                                         NaN       \n",
       "01impala                                                        NaN       \n",
       "0325home                                                        NaN       \n",
       "06stidriver                                                     NaN       \n",
       "08dallas                                                        NaN       \n",
       "\n",
       "name              Yes To Carrots Nourishing Body Wash  \\\n",
       "reviews_username                                        \n",
       "00sab00                                           NaN   \n",
       "01impala                                          NaN   \n",
       "0325home                                          NaN   \n",
       "06stidriver                                       NaN   \n",
       "08dallas                                          NaN   \n",
       "\n",
       "name              Yes To Grapefruit Rejuvenating Body Wash  \n",
       "reviews_username                                            \n",
       "00sab00                                                NaN  \n",
       "01impala                                               NaN  \n",
       "0325home                                               NaN  \n",
       "06stidriver                                            NaN  \n",
       "08dallas                                               NaN  \n",
       "\n",
       "[5 rows x 251 columns]"
      ]
     },
     "execution_count": 98,
     "metadata": {},
     "output_type": "execute_result"
    }
   ],
   "source": [
    "df_subtracted.head()"
   ]
  },
  {
   "cell_type": "markdown",
   "metadata": {},
   "source": [
    "### Finding cosine similarity"
   ]
  },
  {
   "cell_type": "code",
   "execution_count": 99,
   "metadata": {},
   "outputs": [
    {
     "name": "stdout",
     "output_type": "stream",
     "text": [
      "[[1. 0. 0. ... 0. 0. 0.]\n",
      " [0. 0. 0. ... 0. 0. 0.]\n",
      " [0. 0. 0. ... 0. 0. 0.]\n",
      " ...\n",
      " [0. 0. 0. ... 0. 0. 0.]\n",
      " [0. 0. 0. ... 0. 0. 0.]\n",
      " [0. 0. 0. ... 0. 0. 0.]]\n"
     ]
    }
   ],
   "source": [
    "# Creating the User Similarity Matrix using pairwise_distance function.\n",
    "user_correlation = 1 - pairwise_distances(df_subtracted.fillna(0), metric='cosine')\n",
    "user_correlation[np.isnan(user_correlation)] = 0\n",
    "print(user_correlation)"
   ]
  },
  {
   "cell_type": "markdown",
   "metadata": {},
   "source": [
    "## Prediction - User User"
   ]
  },
  {
   "cell_type": "markdown",
   "metadata": {},
   "source": [
    "Doing the prediction for the users which are positively related with other users, and not the users which are negatively related as we are interested in the users which are more similar to the current users. So, ignoring the correlation for values less than 0. "
   ]
  },
  {
   "cell_type": "code",
   "execution_count": 100,
   "metadata": {},
   "outputs": [
    {
     "data": {
      "text/plain": [
       "array([[1., 0., 0., ..., 0., 0., 0.],\n",
       "       [0., 0., 0., ..., 0., 0., 0.],\n",
       "       [0., 0., 0., ..., 0., 0., 0.],\n",
       "       ...,\n",
       "       [0., 0., 0., ..., 0., 0., 0.],\n",
       "       [0., 0., 0., ..., 0., 0., 0.],\n",
       "       [0., 0., 0., ..., 0., 0., 0.]])"
      ]
     },
     "execution_count": 100,
     "metadata": {},
     "output_type": "execute_result"
    }
   ],
   "source": [
    "user_correlation[user_correlation<0]=0\n",
    "user_correlation"
   ]
  },
  {
   "cell_type": "code",
   "execution_count": 101,
   "metadata": {},
   "outputs": [
    {
     "data": {
      "text/plain": [
       "array([[0.        , 3.42494465, 0.        , ..., 3.37967134, 0.        ,\n",
       "        0.        ],\n",
       "       [0.        , 0.        , 0.        , ..., 0.        , 0.        ,\n",
       "        0.        ],\n",
       "       [0.        , 0.        , 0.        , ..., 0.        , 0.        ,\n",
       "        0.        ],\n",
       "       ...,\n",
       "       [0.        , 0.        , 0.        , ..., 0.        , 0.        ,\n",
       "        0.        ],\n",
       "       [0.        , 0.        , 0.        , ..., 0.        , 0.        ,\n",
       "        0.        ],\n",
       "       [0.        , 0.        , 0.        , ..., 0.        , 0.        ,\n",
       "        0.        ]])"
      ]
     },
     "execution_count": 101,
     "metadata": {},
     "output_type": "execute_result"
    }
   ],
   "source": [
    "user_predicted_ratings = np.dot(user_correlation, df_pivot.fillna(0))\n",
    "user_predicted_ratings"
   ]
  },
  {
   "cell_type": "code",
   "execution_count": 102,
   "metadata": {},
   "outputs": [
    {
     "data": {
      "text/plain": [
       "(17817, 251)"
      ]
     },
     "execution_count": 102,
     "metadata": {},
     "output_type": "execute_result"
    }
   ],
   "source": [
    "user_predicted_ratings.shape"
   ]
  },
  {
   "cell_type": "code",
   "execution_count": 103,
   "metadata": {},
   "outputs": [
    {
     "data": {
      "text/html": [
       "<div>\n",
       "<style scoped>\n",
       "    .dataframe tbody tr th:only-of-type {\n",
       "        vertical-align: middle;\n",
       "    }\n",
       "\n",
       "    .dataframe tbody tr th {\n",
       "        vertical-align: top;\n",
       "    }\n",
       "\n",
       "    .dataframe thead th {\n",
       "        text-align: right;\n",
       "    }\n",
       "</style>\n",
       "<table border=\"1\" class=\"dataframe\">\n",
       "  <thead>\n",
       "    <tr style=\"text-align: right;\">\n",
       "      <th>name</th>\n",
       "      <th>0.6 Cu. Ft. Letter A4 Size Waterproof 30 Min. Fire File Chest</th>\n",
       "      <th>100:Complete First Season (blu-Ray)</th>\n",
       "      <th>2017-2018 Brownline174 Duraflex 14-Month Planner 8 1/2 X 11 Black</th>\n",
       "      <th>2x Ultra Era with Oxi Booster, 50fl oz</th>\n",
       "      <th>42 Dual Drop Leaf Table with 2 Madrid Chairs\"</th>\n",
       "      <th>4C Grated Parmesan Cheese 100% Natural 8oz Shaker</th>\n",
       "      <th>Africa's Best No-Lye Dual Conditioning Relaxer System Super</th>\n",
       "      <th>Alberto VO5 Salon Series Smooth Plus Sleek Shampoo</th>\n",
       "      <th>Alex Cross (dvdvideo)</th>\n",
       "      <th>All,bran Complete Wheat Flakes, 18 Oz.</th>\n",
       "      <th>...</th>\n",
       "      <th>Vicks Vaporub, Regular, 3.53oz</th>\n",
       "      <th>Voortman Sugar Free Fudge Chocolate Chip Cookies</th>\n",
       "      <th>Wagan Smartac 80watt Inverter With Usb</th>\n",
       "      <th>Wallmount Server Cabinet (450mm, 9 RU)</th>\n",
       "      <th>Way Basics 3-Shelf Eco Narrow Bookcase Storage Shelf, Espresso - Formaldehyde Free - Lifetime Guarantee</th>\n",
       "      <th>WeatherTech 40647 14-15 Outlander Cargo Liners Behind 2nd Row, Black</th>\n",
       "      <th>Weleda Everon Lip Balm</th>\n",
       "      <th>Windex Original Glass Cleaner Refill 67.6oz (2 Liter)</th>\n",
       "      <th>Yes To Carrots Nourishing Body Wash</th>\n",
       "      <th>Yes To Grapefruit Rejuvenating Body Wash</th>\n",
       "    </tr>\n",
       "    <tr>\n",
       "      <th>reviews_username</th>\n",
       "      <th></th>\n",
       "      <th></th>\n",
       "      <th></th>\n",
       "      <th></th>\n",
       "      <th></th>\n",
       "      <th></th>\n",
       "      <th></th>\n",
       "      <th></th>\n",
       "      <th></th>\n",
       "      <th></th>\n",
       "      <th></th>\n",
       "      <th></th>\n",
       "      <th></th>\n",
       "      <th></th>\n",
       "      <th></th>\n",
       "      <th></th>\n",
       "      <th></th>\n",
       "      <th></th>\n",
       "      <th></th>\n",
       "      <th></th>\n",
       "      <th></th>\n",
       "    </tr>\n",
       "  </thead>\n",
       "  <tbody>\n",
       "    <tr>\n",
       "      <td>00sab00</td>\n",
       "      <td>0.0</td>\n",
       "      <td>3.424945</td>\n",
       "      <td>0.0</td>\n",
       "      <td>0.0</td>\n",
       "      <td>0.0</td>\n",
       "      <td>0.0</td>\n",
       "      <td>0.0</td>\n",
       "      <td>0.0</td>\n",
       "      <td>0.298807</td>\n",
       "      <td>0.0</td>\n",
       "      <td>...</td>\n",
       "      <td>2.882783</td>\n",
       "      <td>0.0</td>\n",
       "      <td>0.816497</td>\n",
       "      <td>0.0</td>\n",
       "      <td>0.0</td>\n",
       "      <td>2.224971</td>\n",
       "      <td>0.0</td>\n",
       "      <td>3.379671</td>\n",
       "      <td>0.0</td>\n",
       "      <td>0.0</td>\n",
       "    </tr>\n",
       "    <tr>\n",
       "      <td>01impala</td>\n",
       "      <td>0.0</td>\n",
       "      <td>0.000000</td>\n",
       "      <td>0.0</td>\n",
       "      <td>0.0</td>\n",
       "      <td>0.0</td>\n",
       "      <td>0.0</td>\n",
       "      <td>0.0</td>\n",
       "      <td>0.0</td>\n",
       "      <td>0.000000</td>\n",
       "      <td>0.0</td>\n",
       "      <td>...</td>\n",
       "      <td>0.000000</td>\n",
       "      <td>0.0</td>\n",
       "      <td>0.000000</td>\n",
       "      <td>0.0</td>\n",
       "      <td>0.0</td>\n",
       "      <td>0.000000</td>\n",
       "      <td>0.0</td>\n",
       "      <td>0.000000</td>\n",
       "      <td>0.0</td>\n",
       "      <td>0.0</td>\n",
       "    </tr>\n",
       "    <tr>\n",
       "      <td>0325home</td>\n",
       "      <td>0.0</td>\n",
       "      <td>0.000000</td>\n",
       "      <td>0.0</td>\n",
       "      <td>0.0</td>\n",
       "      <td>0.0</td>\n",
       "      <td>0.0</td>\n",
       "      <td>0.0</td>\n",
       "      <td>0.0</td>\n",
       "      <td>0.000000</td>\n",
       "      <td>0.0</td>\n",
       "      <td>...</td>\n",
       "      <td>0.000000</td>\n",
       "      <td>0.0</td>\n",
       "      <td>0.000000</td>\n",
       "      <td>0.0</td>\n",
       "      <td>0.0</td>\n",
       "      <td>0.000000</td>\n",
       "      <td>0.0</td>\n",
       "      <td>0.000000</td>\n",
       "      <td>0.0</td>\n",
       "      <td>0.0</td>\n",
       "    </tr>\n",
       "    <tr>\n",
       "      <td>06stidriver</td>\n",
       "      <td>0.0</td>\n",
       "      <td>0.000000</td>\n",
       "      <td>0.0</td>\n",
       "      <td>0.0</td>\n",
       "      <td>0.0</td>\n",
       "      <td>0.0</td>\n",
       "      <td>0.0</td>\n",
       "      <td>0.0</td>\n",
       "      <td>0.000000</td>\n",
       "      <td>0.0</td>\n",
       "      <td>...</td>\n",
       "      <td>0.000000</td>\n",
       "      <td>0.0</td>\n",
       "      <td>0.000000</td>\n",
       "      <td>0.0</td>\n",
       "      <td>0.0</td>\n",
       "      <td>0.000000</td>\n",
       "      <td>0.0</td>\n",
       "      <td>0.000000</td>\n",
       "      <td>0.0</td>\n",
       "      <td>0.0</td>\n",
       "    </tr>\n",
       "    <tr>\n",
       "      <td>08dallas</td>\n",
       "      <td>0.0</td>\n",
       "      <td>0.000000</td>\n",
       "      <td>0.0</td>\n",
       "      <td>0.0</td>\n",
       "      <td>0.0</td>\n",
       "      <td>0.0</td>\n",
       "      <td>0.0</td>\n",
       "      <td>0.0</td>\n",
       "      <td>0.000000</td>\n",
       "      <td>0.0</td>\n",
       "      <td>...</td>\n",
       "      <td>0.000000</td>\n",
       "      <td>0.0</td>\n",
       "      <td>0.000000</td>\n",
       "      <td>0.0</td>\n",
       "      <td>0.0</td>\n",
       "      <td>0.000000</td>\n",
       "      <td>0.0</td>\n",
       "      <td>0.000000</td>\n",
       "      <td>0.0</td>\n",
       "      <td>0.0</td>\n",
       "    </tr>\n",
       "  </tbody>\n",
       "</table>\n",
       "<p>5 rows × 251 columns</p>\n",
       "</div>"
      ],
      "text/plain": [
       "name              0.6 Cu. Ft. Letter A4 Size Waterproof 30 Min. Fire File Chest  \\\n",
       "reviews_username                                                                  \n",
       "00sab00                                                         0.0               \n",
       "01impala                                                        0.0               \n",
       "0325home                                                        0.0               \n",
       "06stidriver                                                     0.0               \n",
       "08dallas                                                        0.0               \n",
       "\n",
       "name              100:Complete First Season (blu-Ray)  \\\n",
       "reviews_username                                        \n",
       "00sab00                                      3.424945   \n",
       "01impala                                     0.000000   \n",
       "0325home                                     0.000000   \n",
       "06stidriver                                  0.000000   \n",
       "08dallas                                     0.000000   \n",
       "\n",
       "name              2017-2018 Brownline174 Duraflex 14-Month Planner 8 1/2 X 11 Black  \\\n",
       "reviews_username                                                                      \n",
       "00sab00                                                         0.0                   \n",
       "01impala                                                        0.0                   \n",
       "0325home                                                        0.0                   \n",
       "06stidriver                                                     0.0                   \n",
       "08dallas                                                        0.0                   \n",
       "\n",
       "name              2x Ultra Era with Oxi Booster, 50fl oz  \\\n",
       "reviews_username                                           \n",
       "00sab00                                              0.0   \n",
       "01impala                                             0.0   \n",
       "0325home                                             0.0   \n",
       "06stidriver                                          0.0   \n",
       "08dallas                                             0.0   \n",
       "\n",
       "name              42 Dual Drop Leaf Table with 2 Madrid Chairs\"  \\\n",
       "reviews_username                                                  \n",
       "00sab00                                                     0.0   \n",
       "01impala                                                    0.0   \n",
       "0325home                                                    0.0   \n",
       "06stidriver                                                 0.0   \n",
       "08dallas                                                    0.0   \n",
       "\n",
       "name              4C Grated Parmesan Cheese 100% Natural 8oz Shaker  \\\n",
       "reviews_username                                                      \n",
       "00sab00                                                         0.0   \n",
       "01impala                                                        0.0   \n",
       "0325home                                                        0.0   \n",
       "06stidriver                                                     0.0   \n",
       "08dallas                                                        0.0   \n",
       "\n",
       "name              Africa's Best No-Lye Dual Conditioning Relaxer System Super  \\\n",
       "reviews_username                                                                \n",
       "00sab00                                                         0.0             \n",
       "01impala                                                        0.0             \n",
       "0325home                                                        0.0             \n",
       "06stidriver                                                     0.0             \n",
       "08dallas                                                        0.0             \n",
       "\n",
       "name              Alberto VO5 Salon Series Smooth Plus Sleek Shampoo  \\\n",
       "reviews_username                                                       \n",
       "00sab00                                                         0.0    \n",
       "01impala                                                        0.0    \n",
       "0325home                                                        0.0    \n",
       "06stidriver                                                     0.0    \n",
       "08dallas                                                        0.0    \n",
       "\n",
       "name              Alex Cross (dvdvideo)  \\\n",
       "reviews_username                          \n",
       "00sab00                        0.298807   \n",
       "01impala                       0.000000   \n",
       "0325home                       0.000000   \n",
       "06stidriver                    0.000000   \n",
       "08dallas                       0.000000   \n",
       "\n",
       "name              All,bran Complete Wheat Flakes, 18 Oz.  ...  \\\n",
       "reviews_username                                          ...   \n",
       "00sab00                                              0.0  ...   \n",
       "01impala                                             0.0  ...   \n",
       "0325home                                             0.0  ...   \n",
       "06stidriver                                          0.0  ...   \n",
       "08dallas                                             0.0  ...   \n",
       "\n",
       "name              Vicks Vaporub, Regular, 3.53oz  \\\n",
       "reviews_username                                   \n",
       "00sab00                                 2.882783   \n",
       "01impala                                0.000000   \n",
       "0325home                                0.000000   \n",
       "06stidriver                             0.000000   \n",
       "08dallas                                0.000000   \n",
       "\n",
       "name              Voortman Sugar Free Fudge Chocolate Chip Cookies  \\\n",
       "reviews_username                                                     \n",
       "00sab00                                                        0.0   \n",
       "01impala                                                       0.0   \n",
       "0325home                                                       0.0   \n",
       "06stidriver                                                    0.0   \n",
       "08dallas                                                       0.0   \n",
       "\n",
       "name              Wagan Smartac 80watt Inverter With Usb  \\\n",
       "reviews_username                                           \n",
       "00sab00                                         0.816497   \n",
       "01impala                                        0.000000   \n",
       "0325home                                        0.000000   \n",
       "06stidriver                                     0.000000   \n",
       "08dallas                                        0.000000   \n",
       "\n",
       "name              Wallmount Server Cabinet (450mm, 9 RU)  \\\n",
       "reviews_username                                           \n",
       "00sab00                                              0.0   \n",
       "01impala                                             0.0   \n",
       "0325home                                             0.0   \n",
       "06stidriver                                          0.0   \n",
       "08dallas                                             0.0   \n",
       "\n",
       "name              Way Basics 3-Shelf Eco Narrow Bookcase Storage Shelf, Espresso - Formaldehyde Free - Lifetime Guarantee  \\\n",
       "reviews_username                                                                                                            \n",
       "00sab00                                                         0.0                                                         \n",
       "01impala                                                        0.0                                                         \n",
       "0325home                                                        0.0                                                         \n",
       "06stidriver                                                     0.0                                                         \n",
       "08dallas                                                        0.0                                                         \n",
       "\n",
       "name              WeatherTech 40647 14-15 Outlander Cargo Liners Behind 2nd Row, Black  \\\n",
       "reviews_username                                                                         \n",
       "00sab00                                                    2.224971                      \n",
       "01impala                                                   0.000000                      \n",
       "0325home                                                   0.000000                      \n",
       "06stidriver                                                0.000000                      \n",
       "08dallas                                                   0.000000                      \n",
       "\n",
       "name              Weleda Everon Lip Balm  \\\n",
       "reviews_username                           \n",
       "00sab00                              0.0   \n",
       "01impala                             0.0   \n",
       "0325home                             0.0   \n",
       "06stidriver                          0.0   \n",
       "08dallas                             0.0   \n",
       "\n",
       "name              Windex Original Glass Cleaner Refill 67.6oz (2 Liter)  \\\n",
       "reviews_username                                                          \n",
       "00sab00                                                    3.379671       \n",
       "01impala                                                   0.000000       \n",
       "0325home                                                   0.000000       \n",
       "06stidriver                                                0.000000       \n",
       "08dallas                                                   0.000000       \n",
       "\n",
       "name              Yes To Carrots Nourishing Body Wash  \\\n",
       "reviews_username                                        \n",
       "00sab00                                           0.0   \n",
       "01impala                                          0.0   \n",
       "0325home                                          0.0   \n",
       "06stidriver                                       0.0   \n",
       "08dallas                                          0.0   \n",
       "\n",
       "name              Yes To Grapefruit Rejuvenating Body Wash  \n",
       "reviews_username                                            \n",
       "00sab00                                                0.0  \n",
       "01impala                                               0.0  \n",
       "0325home                                               0.0  \n",
       "06stidriver                                            0.0  \n",
       "08dallas                                               0.0  \n",
       "\n",
       "[5 rows x 251 columns]"
      ]
     },
     "execution_count": 103,
     "metadata": {},
     "output_type": "execute_result"
    }
   ],
   "source": [
    "user_final_rating = np.multiply(user_predicted_ratings,dummy_train)\n",
    "user_final_rating.head()"
   ]
  },
  {
   "cell_type": "markdown",
   "metadata": {},
   "source": [
    "Since we are interested only in the products not rated by the user, we will ignore the products rated by the user by making it zero. "
   ]
  },
  {
   "cell_type": "markdown",
   "metadata": {},
   "source": [
    "### Finding the top 20 recommendation for the *user*"
   ]
  },
  {
   "cell_type": "code",
   "execution_count": 104,
   "metadata": {},
   "outputs": [
    {
     "name": "stdout",
     "output_type": "stream",
     "text": [
      "dorothy w\n"
     ]
    }
   ],
   "source": [
    "user_input='dorothy w'\n",
    "print(user_input)"
   ]
  },
  {
   "cell_type": "code",
   "execution_count": 105,
   "metadata": {},
   "outputs": [
    {
     "data": {
      "text/plain": [
       "name\n",
       "Yes To Grapefruit Rejuvenating Body Wash                                                        0.0\n",
       "Fantasy Fields Lil' Sports Fan Step Stool - Teamson                                             0.0\n",
       "Heiress (dvd)                                                                                   0.0\n",
       "Head & Shoulders Dandruff Shampoo Ocean Lift 2 In 1                                             0.0\n",
       "Head & Shoulders Classic Clean Conditioner                                                      0.0\n",
       "Hawaiian Punch Berry Limeade Blast Juice                                                        0.0\n",
       "Happy Tot Apple and Butternut Squash                                                            0.0\n",
       "Greyson Vintage Industrial Occasional Cocktail Coffee Table - Antique Bronze - Baxton Studio    0.0\n",
       "Godzilla 3d Includes Digital Copy Ultraviolet 3d/2d Blu-Ray/dvd                                 0.0\n",
       "Germ Guardian174 Elite 3-In-1 Pet Pure True Hepa Air Purifier Ac4300bptca                       0.0\n",
       "Gain Original Scent Liquid Fabric Softener 129 Oz                                               0.0\n",
       "Fiskars174 Classic Stick Rotary Cutter (45 Mm)                                                  0.0\n",
       "Finish Quantum Dishwasher Detergent, Lemon Sparkle Scent, 45 Count                              0.0\n",
       "Finish Gelpacs Dishwasher Detergent, Orange Scent, 84ct                                         0.0\n",
       "Feit 60-Watt A19 Gu24 Base Led Light Bulb - Soft White                                          0.0\n",
       "Equals (blu-Ray)                                                                                0.0\n",
       "Cococare 100% Natural Castor Oil                                                                0.0\n",
       "Eagle Fat Free Sweetened Condensed Milk                                                         0.0\n",
       "Doc Mcstuffins: Friendship Is The Best Medicine                                                 0.0\n",
       "Disney174 Jake And The Neverland Pirates 4 Piece Bedding Set - Toddler                          0.0\n",
       "Name: dorothy w, dtype: float64"
      ]
     },
     "execution_count": 105,
     "metadata": {},
     "output_type": "execute_result"
    }
   ],
   "source": [
    "d = user_final_rating.loc[user_input].sort_values(ascending=False)[0:20]\n",
    "d"
   ]
  },
  {
   "cell_type": "markdown",
   "metadata": {},
   "source": [
    "# Evaluation - User User "
   ]
  },
  {
   "cell_type": "markdown",
   "metadata": {},
   "source": [
    "Evaluation will we same as you have seen above for the prediction. The only difference being, you will evaluate for the movie already rated by the user insead of predicting it for the movie not rated by the user. "
   ]
  },
  {
   "cell_type": "code",
   "execution_count": 106,
   "metadata": {},
   "outputs": [
    {
     "data": {
      "text/plain": [
       "(1044, 3)"
      ]
     },
     "execution_count": 106,
     "metadata": {},
     "output_type": "execute_result"
    }
   ],
   "source": [
    "common = test[test.reviews_username.isin(train.reviews_username)]\n",
    "common.shape"
   ]
  },
  {
   "cell_type": "code",
   "execution_count": 107,
   "metadata": {},
   "outputs": [
    {
     "data": {
      "text/html": [
       "<div>\n",
       "<style scoped>\n",
       "    .dataframe tbody tr th:only-of-type {\n",
       "        vertical-align: middle;\n",
       "    }\n",
       "\n",
       "    .dataframe tbody tr th {\n",
       "        vertical-align: top;\n",
       "    }\n",
       "\n",
       "    .dataframe thead th {\n",
       "        text-align: right;\n",
       "    }\n",
       "</style>\n",
       "<table border=\"1\" class=\"dataframe\">\n",
       "  <thead>\n",
       "    <tr style=\"text-align: right;\">\n",
       "      <th></th>\n",
       "      <th>name</th>\n",
       "      <th>reviews_rating</th>\n",
       "      <th>reviews_username</th>\n",
       "    </tr>\n",
       "  </thead>\n",
       "  <tbody>\n",
       "    <tr>\n",
       "      <td>26441</td>\n",
       "      <td>Stargate (ws) (ultimate Edition) (director's C...</td>\n",
       "      <td>5</td>\n",
       "      <td>andrea</td>\n",
       "    </tr>\n",
       "    <tr>\n",
       "      <td>15532</td>\n",
       "      <td>Chester's Cheese Flavored Puffcorn Snacks</td>\n",
       "      <td>5</td>\n",
       "      <td>jenny</td>\n",
       "    </tr>\n",
       "    <tr>\n",
       "      <td>14807</td>\n",
       "      <td>Clorox Disinfecting Wipes Value Pack Scented 1...</td>\n",
       "      <td>5</td>\n",
       "      <td>faith</td>\n",
       "    </tr>\n",
       "    <tr>\n",
       "      <td>10137</td>\n",
       "      <td>Clorox Disinfecting Wipes Value Pack Scented 1...</td>\n",
       "      <td>5</td>\n",
       "      <td>ah78</td>\n",
       "    </tr>\n",
       "    <tr>\n",
       "      <td>6276</td>\n",
       "      <td>Hormel Chili, No Beans</td>\n",
       "      <td>2</td>\n",
       "      <td>gina</td>\n",
       "    </tr>\n",
       "  </tbody>\n",
       "</table>\n",
       "</div>"
      ],
      "text/plain": [
       "                                                    name  reviews_rating  \\\n",
       "26441  Stargate (ws) (ultimate Edition) (director's C...               5   \n",
       "15532          Chester's Cheese Flavored Puffcorn Snacks               5   \n",
       "14807  Clorox Disinfecting Wipes Value Pack Scented 1...               5   \n",
       "10137  Clorox Disinfecting Wipes Value Pack Scented 1...               5   \n",
       "6276                              Hormel Chili, No Beans               2   \n",
       "\n",
       "      reviews_username  \n",
       "26441           andrea  \n",
       "15532            jenny  \n",
       "14807            faith  \n",
       "10137             ah78  \n",
       "6276              gina  "
      ]
     },
     "execution_count": 107,
     "metadata": {},
     "output_type": "execute_result"
    }
   ],
   "source": [
    "common.head()"
   ]
  },
  {
   "cell_type": "code",
   "execution_count": 108,
   "metadata": {},
   "outputs": [],
   "source": [
    "# convert into the user-movie matrix.\n",
    "common_user_based_matrix = common.pivot_table(index='reviews_username', columns='name', values='reviews_rating')"
   ]
  },
  {
   "cell_type": "code",
   "execution_count": 109,
   "metadata": {},
   "outputs": [],
   "source": [
    "# Convert the user_correlation matrix into dataframe.\n",
    "user_correlation_df = pd.DataFrame(user_correlation)"
   ]
  },
  {
   "cell_type": "code",
   "execution_count": 110,
   "metadata": {},
   "outputs": [
    {
     "data": {
      "text/html": [
       "<div>\n",
       "<style scoped>\n",
       "    .dataframe tbody tr th:only-of-type {\n",
       "        vertical-align: middle;\n",
       "    }\n",
       "\n",
       "    .dataframe tbody tr th {\n",
       "        vertical-align: top;\n",
       "    }\n",
       "\n",
       "    .dataframe thead th {\n",
       "        text-align: right;\n",
       "    }\n",
       "</style>\n",
       "<table border=\"1\" class=\"dataframe\">\n",
       "  <thead>\n",
       "    <tr style=\"text-align: right;\">\n",
       "      <th></th>\n",
       "      <th>0</th>\n",
       "      <th>1</th>\n",
       "      <th>2</th>\n",
       "      <th>3</th>\n",
       "      <th>4</th>\n",
       "      <th>5</th>\n",
       "      <th>6</th>\n",
       "      <th>7</th>\n",
       "      <th>8</th>\n",
       "      <th>9</th>\n",
       "      <th>...</th>\n",
       "      <th>17807</th>\n",
       "      <th>17808</th>\n",
       "      <th>17809</th>\n",
       "      <th>17810</th>\n",
       "      <th>17811</th>\n",
       "      <th>17812</th>\n",
       "      <th>17813</th>\n",
       "      <th>17814</th>\n",
       "      <th>17815</th>\n",
       "      <th>17816</th>\n",
       "    </tr>\n",
       "    <tr>\n",
       "      <th>reviews_username</th>\n",
       "      <th></th>\n",
       "      <th></th>\n",
       "      <th></th>\n",
       "      <th></th>\n",
       "      <th></th>\n",
       "      <th></th>\n",
       "      <th></th>\n",
       "      <th></th>\n",
       "      <th></th>\n",
       "      <th></th>\n",
       "      <th></th>\n",
       "      <th></th>\n",
       "      <th></th>\n",
       "      <th></th>\n",
       "      <th></th>\n",
       "      <th></th>\n",
       "      <th></th>\n",
       "      <th></th>\n",
       "      <th></th>\n",
       "      <th></th>\n",
       "      <th></th>\n",
       "    </tr>\n",
       "  </thead>\n",
       "  <tbody>\n",
       "    <tr>\n",
       "      <td>00sab00</td>\n",
       "      <td>1.0</td>\n",
       "      <td>0.0</td>\n",
       "      <td>0.0</td>\n",
       "      <td>0.0</td>\n",
       "      <td>0.0</td>\n",
       "      <td>0.0</td>\n",
       "      <td>0.0</td>\n",
       "      <td>0.0</td>\n",
       "      <td>0.0</td>\n",
       "      <td>0.0</td>\n",
       "      <td>...</td>\n",
       "      <td>0.0</td>\n",
       "      <td>0.0</td>\n",
       "      <td>0.0</td>\n",
       "      <td>0.0</td>\n",
       "      <td>0.0</td>\n",
       "      <td>0.0</td>\n",
       "      <td>0.0</td>\n",
       "      <td>0.0</td>\n",
       "      <td>0.0</td>\n",
       "      <td>0.0</td>\n",
       "    </tr>\n",
       "    <tr>\n",
       "      <td>01impala</td>\n",
       "      <td>0.0</td>\n",
       "      <td>0.0</td>\n",
       "      <td>0.0</td>\n",
       "      <td>0.0</td>\n",
       "      <td>0.0</td>\n",
       "      <td>0.0</td>\n",
       "      <td>0.0</td>\n",
       "      <td>0.0</td>\n",
       "      <td>0.0</td>\n",
       "      <td>0.0</td>\n",
       "      <td>...</td>\n",
       "      <td>0.0</td>\n",
       "      <td>0.0</td>\n",
       "      <td>0.0</td>\n",
       "      <td>0.0</td>\n",
       "      <td>0.0</td>\n",
       "      <td>0.0</td>\n",
       "      <td>0.0</td>\n",
       "      <td>0.0</td>\n",
       "      <td>0.0</td>\n",
       "      <td>0.0</td>\n",
       "    </tr>\n",
       "    <tr>\n",
       "      <td>0325home</td>\n",
       "      <td>0.0</td>\n",
       "      <td>0.0</td>\n",
       "      <td>0.0</td>\n",
       "      <td>0.0</td>\n",
       "      <td>0.0</td>\n",
       "      <td>0.0</td>\n",
       "      <td>0.0</td>\n",
       "      <td>0.0</td>\n",
       "      <td>0.0</td>\n",
       "      <td>0.0</td>\n",
       "      <td>...</td>\n",
       "      <td>0.0</td>\n",
       "      <td>0.0</td>\n",
       "      <td>0.0</td>\n",
       "      <td>0.0</td>\n",
       "      <td>0.0</td>\n",
       "      <td>0.0</td>\n",
       "      <td>0.0</td>\n",
       "      <td>0.0</td>\n",
       "      <td>0.0</td>\n",
       "      <td>0.0</td>\n",
       "    </tr>\n",
       "    <tr>\n",
       "      <td>06stidriver</td>\n",
       "      <td>0.0</td>\n",
       "      <td>0.0</td>\n",
       "      <td>0.0</td>\n",
       "      <td>0.0</td>\n",
       "      <td>0.0</td>\n",
       "      <td>0.0</td>\n",
       "      <td>0.0</td>\n",
       "      <td>0.0</td>\n",
       "      <td>0.0</td>\n",
       "      <td>0.0</td>\n",
       "      <td>...</td>\n",
       "      <td>0.0</td>\n",
       "      <td>0.0</td>\n",
       "      <td>0.0</td>\n",
       "      <td>0.0</td>\n",
       "      <td>0.0</td>\n",
       "      <td>0.0</td>\n",
       "      <td>0.0</td>\n",
       "      <td>0.0</td>\n",
       "      <td>0.0</td>\n",
       "      <td>0.0</td>\n",
       "    </tr>\n",
       "    <tr>\n",
       "      <td>08dallas</td>\n",
       "      <td>0.0</td>\n",
       "      <td>0.0</td>\n",
       "      <td>0.0</td>\n",
       "      <td>0.0</td>\n",
       "      <td>0.0</td>\n",
       "      <td>0.0</td>\n",
       "      <td>0.0</td>\n",
       "      <td>0.0</td>\n",
       "      <td>0.0</td>\n",
       "      <td>0.0</td>\n",
       "      <td>...</td>\n",
       "      <td>0.0</td>\n",
       "      <td>0.0</td>\n",
       "      <td>0.0</td>\n",
       "      <td>0.0</td>\n",
       "      <td>0.0</td>\n",
       "      <td>0.0</td>\n",
       "      <td>0.0</td>\n",
       "      <td>0.0</td>\n",
       "      <td>0.0</td>\n",
       "      <td>0.0</td>\n",
       "    </tr>\n",
       "  </tbody>\n",
       "</table>\n",
       "<p>5 rows × 17817 columns</p>\n",
       "</div>"
      ],
      "text/plain": [
       "                  0      1      2      3      4      5      6      7      \\\n",
       "reviews_username                                                           \n",
       "00sab00             1.0    0.0    0.0    0.0    0.0    0.0    0.0    0.0   \n",
       "01impala            0.0    0.0    0.0    0.0    0.0    0.0    0.0    0.0   \n",
       "0325home            0.0    0.0    0.0    0.0    0.0    0.0    0.0    0.0   \n",
       "06stidriver         0.0    0.0    0.0    0.0    0.0    0.0    0.0    0.0   \n",
       "08dallas            0.0    0.0    0.0    0.0    0.0    0.0    0.0    0.0   \n",
       "\n",
       "                  8      9      ...  17807  17808  17809  17810  17811  17812  \\\n",
       "reviews_username                ...                                             \n",
       "00sab00             0.0    0.0  ...    0.0    0.0    0.0    0.0    0.0    0.0   \n",
       "01impala            0.0    0.0  ...    0.0    0.0    0.0    0.0    0.0    0.0   \n",
       "0325home            0.0    0.0  ...    0.0    0.0    0.0    0.0    0.0    0.0   \n",
       "06stidriver         0.0    0.0  ...    0.0    0.0    0.0    0.0    0.0    0.0   \n",
       "08dallas            0.0    0.0  ...    0.0    0.0    0.0    0.0    0.0    0.0   \n",
       "\n",
       "                  17813  17814  17815  17816  \n",
       "reviews_username                              \n",
       "00sab00             0.0    0.0    0.0    0.0  \n",
       "01impala            0.0    0.0    0.0    0.0  \n",
       "0325home            0.0    0.0    0.0    0.0  \n",
       "06stidriver         0.0    0.0    0.0    0.0  \n",
       "08dallas            0.0    0.0    0.0    0.0  \n",
       "\n",
       "[5 rows x 17817 columns]"
      ]
     },
     "execution_count": 110,
     "metadata": {},
     "output_type": "execute_result"
    }
   ],
   "source": [
    "user_correlation_df['reviews_username'] = df_subtracted.index\n",
    "user_correlation_df.set_index('reviews_username',inplace=True)\n",
    "user_correlation_df.head()"
   ]
  },
  {
   "cell_type": "code",
   "execution_count": 111,
   "metadata": {},
   "outputs": [],
   "source": [
    "list_name = common.reviews_username.tolist()\n",
    "\n",
    "user_correlation_df.columns = df_subtracted.index.tolist()\n",
    "\n",
    "\n",
    "user_correlation_df_1 =  user_correlation_df[user_correlation_df.index.isin(list_name)]"
   ]
  },
  {
   "cell_type": "code",
   "execution_count": 112,
   "metadata": {},
   "outputs": [
    {
     "data": {
      "text/plain": [
       "(862, 17817)"
      ]
     },
     "execution_count": 112,
     "metadata": {},
     "output_type": "execute_result"
    }
   ],
   "source": [
    "user_correlation_df_1.shape"
   ]
  },
  {
   "cell_type": "code",
   "execution_count": 113,
   "metadata": {},
   "outputs": [],
   "source": [
    "user_correlation_df_2 = user_correlation_df_1.T[user_correlation_df_1.T.index.isin(list_name)]"
   ]
  },
  {
   "cell_type": "code",
   "execution_count": 114,
   "metadata": {},
   "outputs": [],
   "source": [
    "user_correlation_df_3 = user_correlation_df_2.T"
   ]
  },
  {
   "cell_type": "code",
   "execution_count": 115,
   "metadata": {},
   "outputs": [
    {
     "data": {
      "text/html": [
       "<div>\n",
       "<style scoped>\n",
       "    .dataframe tbody tr th:only-of-type {\n",
       "        vertical-align: middle;\n",
       "    }\n",
       "\n",
       "    .dataframe tbody tr th {\n",
       "        vertical-align: top;\n",
       "    }\n",
       "\n",
       "    .dataframe thead th {\n",
       "        text-align: right;\n",
       "    }\n",
       "</style>\n",
       "<table border=\"1\" class=\"dataframe\">\n",
       "  <thead>\n",
       "    <tr style=\"text-align: right;\">\n",
       "      <th></th>\n",
       "      <th>123charlie</th>\n",
       "      <th>50cal</th>\n",
       "      <th>aaron</th>\n",
       "      <th>abbi</th>\n",
       "      <th>acjuarez08</th>\n",
       "      <th>acv4217</th>\n",
       "      <th>adam</th>\n",
       "      <th>adelynsmom</th>\n",
       "      <th>adriana9999</th>\n",
       "      <th>adrienne</th>\n",
       "      <th>...</th>\n",
       "      <th>worm</th>\n",
       "      <th>wvshopaholic</th>\n",
       "      <th>xavier</th>\n",
       "      <th>xstr8edgex</th>\n",
       "      <th>yummy</th>\n",
       "      <th>yvonne</th>\n",
       "      <th>zach</th>\n",
       "      <th>zipper</th>\n",
       "      <th>zippy</th>\n",
       "      <th>zitro</th>\n",
       "    </tr>\n",
       "    <tr>\n",
       "      <th>reviews_username</th>\n",
       "      <th></th>\n",
       "      <th></th>\n",
       "      <th></th>\n",
       "      <th></th>\n",
       "      <th></th>\n",
       "      <th></th>\n",
       "      <th></th>\n",
       "      <th></th>\n",
       "      <th></th>\n",
       "      <th></th>\n",
       "      <th></th>\n",
       "      <th></th>\n",
       "      <th></th>\n",
       "      <th></th>\n",
       "      <th></th>\n",
       "      <th></th>\n",
       "      <th></th>\n",
       "      <th></th>\n",
       "      <th></th>\n",
       "      <th></th>\n",
       "      <th></th>\n",
       "    </tr>\n",
       "  </thead>\n",
       "  <tbody>\n",
       "    <tr>\n",
       "      <td>123charlie</td>\n",
       "      <td>0.0</td>\n",
       "      <td>0.0</td>\n",
       "      <td>0.0</td>\n",
       "      <td>0.0</td>\n",
       "      <td>0.0</td>\n",
       "      <td>0.0</td>\n",
       "      <td>0.0</td>\n",
       "      <td>0.0</td>\n",
       "      <td>0.0</td>\n",
       "      <td>0.0</td>\n",
       "      <td>...</td>\n",
       "      <td>0.0</td>\n",
       "      <td>0.0</td>\n",
       "      <td>0.0</td>\n",
       "      <td>0.0</td>\n",
       "      <td>0.0</td>\n",
       "      <td>0.0</td>\n",
       "      <td>0.0</td>\n",
       "      <td>0.0</td>\n",
       "      <td>0.0</td>\n",
       "      <td>0.0</td>\n",
       "    </tr>\n",
       "    <tr>\n",
       "      <td>50cal</td>\n",
       "      <td>0.0</td>\n",
       "      <td>0.0</td>\n",
       "      <td>0.0</td>\n",
       "      <td>0.0</td>\n",
       "      <td>0.0</td>\n",
       "      <td>0.0</td>\n",
       "      <td>0.0</td>\n",
       "      <td>0.0</td>\n",
       "      <td>0.0</td>\n",
       "      <td>0.0</td>\n",
       "      <td>...</td>\n",
       "      <td>0.0</td>\n",
       "      <td>0.0</td>\n",
       "      <td>0.0</td>\n",
       "      <td>0.0</td>\n",
       "      <td>0.0</td>\n",
       "      <td>0.0</td>\n",
       "      <td>0.0</td>\n",
       "      <td>0.0</td>\n",
       "      <td>0.0</td>\n",
       "      <td>0.0</td>\n",
       "    </tr>\n",
       "    <tr>\n",
       "      <td>aaron</td>\n",
       "      <td>0.0</td>\n",
       "      <td>0.0</td>\n",
       "      <td>1.0</td>\n",
       "      <td>0.0</td>\n",
       "      <td>0.0</td>\n",
       "      <td>0.0</td>\n",
       "      <td>0.0</td>\n",
       "      <td>0.0</td>\n",
       "      <td>0.0</td>\n",
       "      <td>0.0</td>\n",
       "      <td>...</td>\n",
       "      <td>0.0</td>\n",
       "      <td>0.0</td>\n",
       "      <td>0.0</td>\n",
       "      <td>0.0</td>\n",
       "      <td>0.0</td>\n",
       "      <td>0.0</td>\n",
       "      <td>0.0</td>\n",
       "      <td>0.0</td>\n",
       "      <td>0.0</td>\n",
       "      <td>0.0</td>\n",
       "    </tr>\n",
       "    <tr>\n",
       "      <td>abbi</td>\n",
       "      <td>0.0</td>\n",
       "      <td>0.0</td>\n",
       "      <td>0.0</td>\n",
       "      <td>0.0</td>\n",
       "      <td>0.0</td>\n",
       "      <td>0.0</td>\n",
       "      <td>0.0</td>\n",
       "      <td>0.0</td>\n",
       "      <td>0.0</td>\n",
       "      <td>0.0</td>\n",
       "      <td>...</td>\n",
       "      <td>0.0</td>\n",
       "      <td>0.0</td>\n",
       "      <td>0.0</td>\n",
       "      <td>0.0</td>\n",
       "      <td>0.0</td>\n",
       "      <td>0.0</td>\n",
       "      <td>0.0</td>\n",
       "      <td>0.0</td>\n",
       "      <td>0.0</td>\n",
       "      <td>0.0</td>\n",
       "    </tr>\n",
       "    <tr>\n",
       "      <td>acjuarez08</td>\n",
       "      <td>0.0</td>\n",
       "      <td>0.0</td>\n",
       "      <td>0.0</td>\n",
       "      <td>0.0</td>\n",
       "      <td>0.0</td>\n",
       "      <td>0.0</td>\n",
       "      <td>0.0</td>\n",
       "      <td>0.0</td>\n",
       "      <td>0.0</td>\n",
       "      <td>0.0</td>\n",
       "      <td>...</td>\n",
       "      <td>0.0</td>\n",
       "      <td>0.0</td>\n",
       "      <td>0.0</td>\n",
       "      <td>0.0</td>\n",
       "      <td>0.0</td>\n",
       "      <td>0.0</td>\n",
       "      <td>0.0</td>\n",
       "      <td>0.0</td>\n",
       "      <td>0.0</td>\n",
       "      <td>0.0</td>\n",
       "    </tr>\n",
       "  </tbody>\n",
       "</table>\n",
       "<p>5 rows × 862 columns</p>\n",
       "</div>"
      ],
      "text/plain": [
       "                  123charlie  50cal  aaron  abbi  acjuarez08  acv4217  adam  \\\n",
       "reviews_username                                                              \n",
       "123charlie               0.0    0.0    0.0   0.0         0.0      0.0   0.0   \n",
       "50cal                    0.0    0.0    0.0   0.0         0.0      0.0   0.0   \n",
       "aaron                    0.0    0.0    1.0   0.0         0.0      0.0   0.0   \n",
       "abbi                     0.0    0.0    0.0   0.0         0.0      0.0   0.0   \n",
       "acjuarez08               0.0    0.0    0.0   0.0         0.0      0.0   0.0   \n",
       "\n",
       "                  adelynsmom  adriana9999  adrienne  ...  worm  wvshopaholic  \\\n",
       "reviews_username                                     ...                       \n",
       "123charlie               0.0          0.0       0.0  ...   0.0           0.0   \n",
       "50cal                    0.0          0.0       0.0  ...   0.0           0.0   \n",
       "aaron                    0.0          0.0       0.0  ...   0.0           0.0   \n",
       "abbi                     0.0          0.0       0.0  ...   0.0           0.0   \n",
       "acjuarez08               0.0          0.0       0.0  ...   0.0           0.0   \n",
       "\n",
       "                  xavier  xstr8edgex  yummy  yvonne  zach  zipper  zippy  \\\n",
       "reviews_username                                                           \n",
       "123charlie           0.0         0.0    0.0     0.0   0.0     0.0    0.0   \n",
       "50cal                0.0         0.0    0.0     0.0   0.0     0.0    0.0   \n",
       "aaron                0.0         0.0    0.0     0.0   0.0     0.0    0.0   \n",
       "abbi                 0.0         0.0    0.0     0.0   0.0     0.0    0.0   \n",
       "acjuarez08           0.0         0.0    0.0     0.0   0.0     0.0    0.0   \n",
       "\n",
       "                  zitro  \n",
       "reviews_username         \n",
       "123charlie          0.0  \n",
       "50cal               0.0  \n",
       "aaron               0.0  \n",
       "abbi                0.0  \n",
       "acjuarez08          0.0  \n",
       "\n",
       "[5 rows x 862 columns]"
      ]
     },
     "execution_count": 115,
     "metadata": {},
     "output_type": "execute_result"
    }
   ],
   "source": [
    "user_correlation_df_3.head()"
   ]
  },
  {
   "cell_type": "code",
   "execution_count": 116,
   "metadata": {},
   "outputs": [
    {
     "data": {
      "text/plain": [
       "array([[0.        , 0.        , 0.        , ..., 0.        , 0.        ,\n",
       "        0.        ],\n",
       "       [0.        , 0.        , 0.        , ..., 0.        , 0.        ,\n",
       "        0.        ],\n",
       "       [1.02062073, 0.        , 0.        , ..., 0.83333333, 0.        ,\n",
       "        0.        ],\n",
       "       ...,\n",
       "       [0.        , 0.        , 0.        , ..., 0.        , 0.        ,\n",
       "        0.        ],\n",
       "       [0.        , 0.        , 0.        , ..., 0.        , 0.        ,\n",
       "        0.        ],\n",
       "       [0.        , 0.        , 0.        , ..., 0.        , 0.        ,\n",
       "        0.        ]])"
      ]
     },
     "execution_count": 116,
     "metadata": {},
     "output_type": "execute_result"
    }
   ],
   "source": [
    "user_correlation_df_3[user_correlation_df_3<0]=0\n",
    "\n",
    "common_user_predicted_ratings = np.dot(user_correlation_df_3, common_user_based_matrix.fillna(0))\n",
    "common_user_predicted_ratings"
   ]
  },
  {
   "cell_type": "code",
   "execution_count": 117,
   "metadata": {},
   "outputs": [],
   "source": [
    "dummy_test = common.copy()\n",
    "\n",
    "dummy_test['reviews_rating'] = dummy_test['reviews_rating'].apply(lambda x: 1 if x>=1 else 0)\n",
    "\n",
    "dummy_test = dummy_test.pivot_table(index='reviews_username', columns='name', values='reviews_rating').fillna(0)"
   ]
  },
  {
   "cell_type": "code",
   "execution_count": 118,
   "metadata": {},
   "outputs": [],
   "source": [
    "common_user_predicted_ratings = np.multiply(common_user_predicted_ratings,dummy_test)"
   ]
  },
  {
   "cell_type": "markdown",
   "metadata": {},
   "source": [
    "Calculating the RMSE for only the movies rated by user. For RMSE, normalising the rating to (1,5) range."
   ]
  },
  {
   "cell_type": "code",
   "execution_count": 119,
   "metadata": {
    "scrolled": true
   },
   "outputs": [
    {
     "name": "stdout",
     "output_type": "stream",
     "text": [
      "MinMaxScaler(feature_range=(1, 5))\n",
      "[[nan nan nan ... nan nan nan]\n",
      " [nan nan nan ... nan nan nan]\n",
      " [nan nan nan ... nan nan nan]\n",
      " ...\n",
      " [nan nan nan ... nan nan nan]\n",
      " [nan nan nan ... nan nan nan]\n",
      " [nan nan nan ... nan nan nan]]\n"
     ]
    }
   ],
   "source": [
    "from sklearn.preprocessing import MinMaxScaler\n",
    "from numpy import *\n",
    "\n",
    "X  = common_user_predicted_ratings.copy() \n",
    "X = X[X>0]\n",
    "\n",
    "scaler = MinMaxScaler(feature_range=(1, 5))\n",
    "print(scaler.fit(X))\n",
    "y = (scaler.transform(X))\n",
    "\n",
    "print(y)"
   ]
  },
  {
   "cell_type": "code",
   "execution_count": 120,
   "metadata": {},
   "outputs": [],
   "source": [
    "common_ = common.pivot_table(index='reviews_username', columns='name', values='reviews_rating')"
   ]
  },
  {
   "cell_type": "code",
   "execution_count": 121,
   "metadata": {},
   "outputs": [],
   "source": [
    "# Finding total non-NaN value\n",
    "total_non_nan = np.count_nonzero(~np.isnan(y))"
   ]
  },
  {
   "cell_type": "code",
   "execution_count": 122,
   "metadata": {},
   "outputs": [
    {
     "name": "stdout",
     "output_type": "stream",
     "text": [
      "2.4762027517795313\n"
     ]
    }
   ],
   "source": [
    "rmse = (sum(sum((common_ - y )**2))/total_non_nan)**0.5\n",
    "print(rmse)"
   ]
  },
  {
   "cell_type": "markdown",
   "metadata": {},
   "source": [
    "## Using Item similarity"
   ]
  },
  {
   "cell_type": "markdown",
   "metadata": {},
   "source": [
    "# Item Based Similarity"
   ]
  },
  {
   "cell_type": "markdown",
   "metadata": {},
   "source": [
    "Taking the transpose of the rating matrix to normalize the rating around the mean for different movie ID. In the user based similarity, we had taken mean for each user instead of each movie. "
   ]
  },
  {
   "cell_type": "code",
   "execution_count": 123,
   "metadata": {},
   "outputs": [
    {
     "data": {
      "text/html": [
       "<div>\n",
       "<style scoped>\n",
       "    .dataframe tbody tr th:only-of-type {\n",
       "        vertical-align: middle;\n",
       "    }\n",
       "\n",
       "    .dataframe tbody tr th {\n",
       "        vertical-align: top;\n",
       "    }\n",
       "\n",
       "    .dataframe thead th {\n",
       "        text-align: right;\n",
       "    }\n",
       "</style>\n",
       "<table border=\"1\" class=\"dataframe\">\n",
       "  <thead>\n",
       "    <tr style=\"text-align: right;\">\n",
       "      <th>reviews_username</th>\n",
       "      <th>00sab00</th>\n",
       "      <th>01impala</th>\n",
       "      <th>0325home</th>\n",
       "      <th>06stidriver</th>\n",
       "      <th>08dallas</th>\n",
       "      <th>09mommy11</th>\n",
       "      <th>1085</th>\n",
       "      <th>10ten</th>\n",
       "      <th>11111111aaaaaaaaaaaaaaaaa</th>\n",
       "      <th>1143mom</th>\n",
       "      <th>...</th>\n",
       "      <th>zowie</th>\n",
       "      <th>zozo0o</th>\n",
       "      <th>zsarah</th>\n",
       "      <th>zt313</th>\n",
       "      <th>zubb</th>\n",
       "      <th>zulaa118</th>\n",
       "      <th>zuttle</th>\n",
       "      <th>zwithanx</th>\n",
       "      <th>zxcsdfd</th>\n",
       "      <th>zyiah4</th>\n",
       "    </tr>\n",
       "    <tr>\n",
       "      <th>name</th>\n",
       "      <th></th>\n",
       "      <th></th>\n",
       "      <th></th>\n",
       "      <th></th>\n",
       "      <th></th>\n",
       "      <th></th>\n",
       "      <th></th>\n",
       "      <th></th>\n",
       "      <th></th>\n",
       "      <th></th>\n",
       "      <th></th>\n",
       "      <th></th>\n",
       "      <th></th>\n",
       "      <th></th>\n",
       "      <th></th>\n",
       "      <th></th>\n",
       "      <th></th>\n",
       "      <th></th>\n",
       "      <th></th>\n",
       "      <th></th>\n",
       "      <th></th>\n",
       "    </tr>\n",
       "  </thead>\n",
       "  <tbody>\n",
       "    <tr>\n",
       "      <td>0.6 Cu. Ft. Letter A4 Size Waterproof 30 Min. Fire File Chest</td>\n",
       "      <td>NaN</td>\n",
       "      <td>NaN</td>\n",
       "      <td>NaN</td>\n",
       "      <td>NaN</td>\n",
       "      <td>NaN</td>\n",
       "      <td>NaN</td>\n",
       "      <td>NaN</td>\n",
       "      <td>NaN</td>\n",
       "      <td>NaN</td>\n",
       "      <td>NaN</td>\n",
       "      <td>...</td>\n",
       "      <td>NaN</td>\n",
       "      <td>NaN</td>\n",
       "      <td>NaN</td>\n",
       "      <td>NaN</td>\n",
       "      <td>NaN</td>\n",
       "      <td>NaN</td>\n",
       "      <td>NaN</td>\n",
       "      <td>NaN</td>\n",
       "      <td>NaN</td>\n",
       "      <td>NaN</td>\n",
       "    </tr>\n",
       "    <tr>\n",
       "      <td>100:Complete First Season (blu-Ray)</td>\n",
       "      <td>NaN</td>\n",
       "      <td>NaN</td>\n",
       "      <td>NaN</td>\n",
       "      <td>NaN</td>\n",
       "      <td>5.0</td>\n",
       "      <td>NaN</td>\n",
       "      <td>NaN</td>\n",
       "      <td>NaN</td>\n",
       "      <td>NaN</td>\n",
       "      <td>NaN</td>\n",
       "      <td>...</td>\n",
       "      <td>NaN</td>\n",
       "      <td>NaN</td>\n",
       "      <td>NaN</td>\n",
       "      <td>NaN</td>\n",
       "      <td>NaN</td>\n",
       "      <td>NaN</td>\n",
       "      <td>NaN</td>\n",
       "      <td>NaN</td>\n",
       "      <td>NaN</td>\n",
       "      <td>NaN</td>\n",
       "    </tr>\n",
       "    <tr>\n",
       "      <td>2017-2018 Brownline174 Duraflex 14-Month Planner 8 1/2 X 11 Black</td>\n",
       "      <td>NaN</td>\n",
       "      <td>NaN</td>\n",
       "      <td>NaN</td>\n",
       "      <td>NaN</td>\n",
       "      <td>NaN</td>\n",
       "      <td>NaN</td>\n",
       "      <td>NaN</td>\n",
       "      <td>NaN</td>\n",
       "      <td>NaN</td>\n",
       "      <td>NaN</td>\n",
       "      <td>...</td>\n",
       "      <td>NaN</td>\n",
       "      <td>NaN</td>\n",
       "      <td>NaN</td>\n",
       "      <td>NaN</td>\n",
       "      <td>NaN</td>\n",
       "      <td>NaN</td>\n",
       "      <td>NaN</td>\n",
       "      <td>NaN</td>\n",
       "      <td>NaN</td>\n",
       "      <td>NaN</td>\n",
       "    </tr>\n",
       "    <tr>\n",
       "      <td>2x Ultra Era with Oxi Booster, 50fl oz</td>\n",
       "      <td>NaN</td>\n",
       "      <td>NaN</td>\n",
       "      <td>NaN</td>\n",
       "      <td>NaN</td>\n",
       "      <td>NaN</td>\n",
       "      <td>NaN</td>\n",
       "      <td>NaN</td>\n",
       "      <td>NaN</td>\n",
       "      <td>NaN</td>\n",
       "      <td>NaN</td>\n",
       "      <td>...</td>\n",
       "      <td>NaN</td>\n",
       "      <td>NaN</td>\n",
       "      <td>NaN</td>\n",
       "      <td>NaN</td>\n",
       "      <td>NaN</td>\n",
       "      <td>NaN</td>\n",
       "      <td>NaN</td>\n",
       "      <td>NaN</td>\n",
       "      <td>NaN</td>\n",
       "      <td>NaN</td>\n",
       "    </tr>\n",
       "    <tr>\n",
       "      <td>42 Dual Drop Leaf Table with 2 Madrid Chairs\"</td>\n",
       "      <td>NaN</td>\n",
       "      <td>NaN</td>\n",
       "      <td>NaN</td>\n",
       "      <td>NaN</td>\n",
       "      <td>NaN</td>\n",
       "      <td>NaN</td>\n",
       "      <td>NaN</td>\n",
       "      <td>NaN</td>\n",
       "      <td>NaN</td>\n",
       "      <td>NaN</td>\n",
       "      <td>...</td>\n",
       "      <td>NaN</td>\n",
       "      <td>NaN</td>\n",
       "      <td>NaN</td>\n",
       "      <td>NaN</td>\n",
       "      <td>NaN</td>\n",
       "      <td>NaN</td>\n",
       "      <td>NaN</td>\n",
       "      <td>NaN</td>\n",
       "      <td>NaN</td>\n",
       "      <td>NaN</td>\n",
       "    </tr>\n",
       "  </tbody>\n",
       "</table>\n",
       "<p>5 rows × 17817 columns</p>\n",
       "</div>"
      ],
      "text/plain": [
       "reviews_username                                    00sab00  01impala  \\\n",
       "name                                                                    \n",
       "0.6 Cu. Ft. Letter A4 Size Waterproof 30 Min. F...      NaN       NaN   \n",
       "100:Complete First Season (blu-Ray)                     NaN       NaN   \n",
       "2017-2018 Brownline174 Duraflex 14-Month Planne...      NaN       NaN   \n",
       "2x Ultra Era with Oxi Booster, 50fl oz                  NaN       NaN   \n",
       "42 Dual Drop Leaf Table with 2 Madrid Chairs\"           NaN       NaN   \n",
       "\n",
       "reviews_username                                    0325home  06stidriver  \\\n",
       "name                                                                        \n",
       "0.6 Cu. Ft. Letter A4 Size Waterproof 30 Min. F...       NaN          NaN   \n",
       "100:Complete First Season (blu-Ray)                      NaN          NaN   \n",
       "2017-2018 Brownline174 Duraflex 14-Month Planne...       NaN          NaN   \n",
       "2x Ultra Era with Oxi Booster, 50fl oz                   NaN          NaN   \n",
       "42 Dual Drop Leaf Table with 2 Madrid Chairs\"            NaN          NaN   \n",
       "\n",
       "reviews_username                                    08dallas  09mommy11  1085  \\\n",
       "name                                                                            \n",
       "0.6 Cu. Ft. Letter A4 Size Waterproof 30 Min. F...       NaN        NaN   NaN   \n",
       "100:Complete First Season (blu-Ray)                      5.0        NaN   NaN   \n",
       "2017-2018 Brownline174 Duraflex 14-Month Planne...       NaN        NaN   NaN   \n",
       "2x Ultra Era with Oxi Booster, 50fl oz                   NaN        NaN   NaN   \n",
       "42 Dual Drop Leaf Table with 2 Madrid Chairs\"            NaN        NaN   NaN   \n",
       "\n",
       "reviews_username                                    10ten  \\\n",
       "name                                                        \n",
       "0.6 Cu. Ft. Letter A4 Size Waterproof 30 Min. F...    NaN   \n",
       "100:Complete First Season (blu-Ray)                   NaN   \n",
       "2017-2018 Brownline174 Duraflex 14-Month Planne...    NaN   \n",
       "2x Ultra Era with Oxi Booster, 50fl oz                NaN   \n",
       "42 Dual Drop Leaf Table with 2 Madrid Chairs\"         NaN   \n",
       "\n",
       "reviews_username                                    11111111aaaaaaaaaaaaaaaaa  \\\n",
       "name                                                                            \n",
       "0.6 Cu. Ft. Letter A4 Size Waterproof 30 Min. F...                        NaN   \n",
       "100:Complete First Season (blu-Ray)                                       NaN   \n",
       "2017-2018 Brownline174 Duraflex 14-Month Planne...                        NaN   \n",
       "2x Ultra Era with Oxi Booster, 50fl oz                                    NaN   \n",
       "42 Dual Drop Leaf Table with 2 Madrid Chairs\"                             NaN   \n",
       "\n",
       "reviews_username                                    1143mom  ...  zowie  \\\n",
       "name                                                         ...          \n",
       "0.6 Cu. Ft. Letter A4 Size Waterproof 30 Min. F...      NaN  ...    NaN   \n",
       "100:Complete First Season (blu-Ray)                     NaN  ...    NaN   \n",
       "2017-2018 Brownline174 Duraflex 14-Month Planne...      NaN  ...    NaN   \n",
       "2x Ultra Era with Oxi Booster, 50fl oz                  NaN  ...    NaN   \n",
       "42 Dual Drop Leaf Table with 2 Madrid Chairs\"           NaN  ...    NaN   \n",
       "\n",
       "reviews_username                                    zozo0o  zsarah  zt313  \\\n",
       "name                                                                        \n",
       "0.6 Cu. Ft. Letter A4 Size Waterproof 30 Min. F...     NaN     NaN    NaN   \n",
       "100:Complete First Season (blu-Ray)                    NaN     NaN    NaN   \n",
       "2017-2018 Brownline174 Duraflex 14-Month Planne...     NaN     NaN    NaN   \n",
       "2x Ultra Era with Oxi Booster, 50fl oz                 NaN     NaN    NaN   \n",
       "42 Dual Drop Leaf Table with 2 Madrid Chairs\"          NaN     NaN    NaN   \n",
       "\n",
       "reviews_username                                    zubb  zulaa118  zuttle  \\\n",
       "name                                                                         \n",
       "0.6 Cu. Ft. Letter A4 Size Waterproof 30 Min. F...   NaN       NaN     NaN   \n",
       "100:Complete First Season (blu-Ray)                  NaN       NaN     NaN   \n",
       "2017-2018 Brownline174 Duraflex 14-Month Planne...   NaN       NaN     NaN   \n",
       "2x Ultra Era with Oxi Booster, 50fl oz               NaN       NaN     NaN   \n",
       "42 Dual Drop Leaf Table with 2 Madrid Chairs\"        NaN       NaN     NaN   \n",
       "\n",
       "reviews_username                                    zwithanx  zxcsdfd  zyiah4  \n",
       "name                                                                           \n",
       "0.6 Cu. Ft. Letter A4 Size Waterproof 30 Min. F...       NaN      NaN     NaN  \n",
       "100:Complete First Season (blu-Ray)                      NaN      NaN     NaN  \n",
       "2017-2018 Brownline174 Duraflex 14-Month Planne...       NaN      NaN     NaN  \n",
       "2x Ultra Era with Oxi Booster, 50fl oz                   NaN      NaN     NaN  \n",
       "42 Dual Drop Leaf Table with 2 Madrid Chairs\"            NaN      NaN     NaN  \n",
       "\n",
       "[5 rows x 17817 columns]"
      ]
     },
     "execution_count": 123,
     "metadata": {},
     "output_type": "execute_result"
    }
   ],
   "source": [
    "df_pivot = train.pivot(\n",
    "    index='reviews_username',\n",
    "    columns='name',\n",
    "    values='reviews_rating'\n",
    ").T\n",
    "\n",
    "df_pivot.head()"
   ]
  },
  {
   "cell_type": "markdown",
   "metadata": {},
   "source": [
    "Normalising the movie rating for each movie for using the Adujsted Cosine"
   ]
  },
  {
   "cell_type": "code",
   "execution_count": 124,
   "metadata": {},
   "outputs": [],
   "source": [
    "mean = np.nanmean(df_pivot, axis=1)\n",
    "df_subtracted = (df_pivot.T-mean).T"
   ]
  },
  {
   "cell_type": "code",
   "execution_count": 125,
   "metadata": {},
   "outputs": [
    {
     "data": {
      "text/html": [
       "<div>\n",
       "<style scoped>\n",
       "    .dataframe tbody tr th:only-of-type {\n",
       "        vertical-align: middle;\n",
       "    }\n",
       "\n",
       "    .dataframe tbody tr th {\n",
       "        vertical-align: top;\n",
       "    }\n",
       "\n",
       "    .dataframe thead th {\n",
       "        text-align: right;\n",
       "    }\n",
       "</style>\n",
       "<table border=\"1\" class=\"dataframe\">\n",
       "  <thead>\n",
       "    <tr style=\"text-align: right;\">\n",
       "      <th>reviews_username</th>\n",
       "      <th>00sab00</th>\n",
       "      <th>01impala</th>\n",
       "      <th>0325home</th>\n",
       "      <th>06stidriver</th>\n",
       "      <th>08dallas</th>\n",
       "      <th>09mommy11</th>\n",
       "      <th>1085</th>\n",
       "      <th>10ten</th>\n",
       "      <th>11111111aaaaaaaaaaaaaaaaa</th>\n",
       "      <th>1143mom</th>\n",
       "      <th>...</th>\n",
       "      <th>zowie</th>\n",
       "      <th>zozo0o</th>\n",
       "      <th>zsarah</th>\n",
       "      <th>zt313</th>\n",
       "      <th>zubb</th>\n",
       "      <th>zulaa118</th>\n",
       "      <th>zuttle</th>\n",
       "      <th>zwithanx</th>\n",
       "      <th>zxcsdfd</th>\n",
       "      <th>zyiah4</th>\n",
       "    </tr>\n",
       "    <tr>\n",
       "      <th>name</th>\n",
       "      <th></th>\n",
       "      <th></th>\n",
       "      <th></th>\n",
       "      <th></th>\n",
       "      <th></th>\n",
       "      <th></th>\n",
       "      <th></th>\n",
       "      <th></th>\n",
       "      <th></th>\n",
       "      <th></th>\n",
       "      <th></th>\n",
       "      <th></th>\n",
       "      <th></th>\n",
       "      <th></th>\n",
       "      <th></th>\n",
       "      <th></th>\n",
       "      <th></th>\n",
       "      <th></th>\n",
       "      <th></th>\n",
       "      <th></th>\n",
       "      <th></th>\n",
       "    </tr>\n",
       "  </thead>\n",
       "  <tbody>\n",
       "    <tr>\n",
       "      <td>0.6 Cu. Ft. Letter A4 Size Waterproof 30 Min. Fire File Chest</td>\n",
       "      <td>NaN</td>\n",
       "      <td>NaN</td>\n",
       "      <td>NaN</td>\n",
       "      <td>NaN</td>\n",
       "      <td>NaN</td>\n",
       "      <td>NaN</td>\n",
       "      <td>NaN</td>\n",
       "      <td>NaN</td>\n",
       "      <td>NaN</td>\n",
       "      <td>NaN</td>\n",
       "      <td>...</td>\n",
       "      <td>NaN</td>\n",
       "      <td>NaN</td>\n",
       "      <td>NaN</td>\n",
       "      <td>NaN</td>\n",
       "      <td>NaN</td>\n",
       "      <td>NaN</td>\n",
       "      <td>NaN</td>\n",
       "      <td>NaN</td>\n",
       "      <td>NaN</td>\n",
       "      <td>NaN</td>\n",
       "    </tr>\n",
       "    <tr>\n",
       "      <td>100:Complete First Season (blu-Ray)</td>\n",
       "      <td>NaN</td>\n",
       "      <td>NaN</td>\n",
       "      <td>NaN</td>\n",
       "      <td>NaN</td>\n",
       "      <td>0.269663</td>\n",
       "      <td>NaN</td>\n",
       "      <td>NaN</td>\n",
       "      <td>NaN</td>\n",
       "      <td>NaN</td>\n",
       "      <td>NaN</td>\n",
       "      <td>...</td>\n",
       "      <td>NaN</td>\n",
       "      <td>NaN</td>\n",
       "      <td>NaN</td>\n",
       "      <td>NaN</td>\n",
       "      <td>NaN</td>\n",
       "      <td>NaN</td>\n",
       "      <td>NaN</td>\n",
       "      <td>NaN</td>\n",
       "      <td>NaN</td>\n",
       "      <td>NaN</td>\n",
       "    </tr>\n",
       "    <tr>\n",
       "      <td>2017-2018 Brownline174 Duraflex 14-Month Planner 8 1/2 X 11 Black</td>\n",
       "      <td>NaN</td>\n",
       "      <td>NaN</td>\n",
       "      <td>NaN</td>\n",
       "      <td>NaN</td>\n",
       "      <td>NaN</td>\n",
       "      <td>NaN</td>\n",
       "      <td>NaN</td>\n",
       "      <td>NaN</td>\n",
       "      <td>NaN</td>\n",
       "      <td>NaN</td>\n",
       "      <td>...</td>\n",
       "      <td>NaN</td>\n",
       "      <td>NaN</td>\n",
       "      <td>NaN</td>\n",
       "      <td>NaN</td>\n",
       "      <td>NaN</td>\n",
       "      <td>NaN</td>\n",
       "      <td>NaN</td>\n",
       "      <td>NaN</td>\n",
       "      <td>NaN</td>\n",
       "      <td>NaN</td>\n",
       "    </tr>\n",
       "    <tr>\n",
       "      <td>2x Ultra Era with Oxi Booster, 50fl oz</td>\n",
       "      <td>NaN</td>\n",
       "      <td>NaN</td>\n",
       "      <td>NaN</td>\n",
       "      <td>NaN</td>\n",
       "      <td>NaN</td>\n",
       "      <td>NaN</td>\n",
       "      <td>NaN</td>\n",
       "      <td>NaN</td>\n",
       "      <td>NaN</td>\n",
       "      <td>NaN</td>\n",
       "      <td>...</td>\n",
       "      <td>NaN</td>\n",
       "      <td>NaN</td>\n",
       "      <td>NaN</td>\n",
       "      <td>NaN</td>\n",
       "      <td>NaN</td>\n",
       "      <td>NaN</td>\n",
       "      <td>NaN</td>\n",
       "      <td>NaN</td>\n",
       "      <td>NaN</td>\n",
       "      <td>NaN</td>\n",
       "    </tr>\n",
       "    <tr>\n",
       "      <td>42 Dual Drop Leaf Table with 2 Madrid Chairs\"</td>\n",
       "      <td>NaN</td>\n",
       "      <td>NaN</td>\n",
       "      <td>NaN</td>\n",
       "      <td>NaN</td>\n",
       "      <td>NaN</td>\n",
       "      <td>NaN</td>\n",
       "      <td>NaN</td>\n",
       "      <td>NaN</td>\n",
       "      <td>NaN</td>\n",
       "      <td>NaN</td>\n",
       "      <td>...</td>\n",
       "      <td>NaN</td>\n",
       "      <td>NaN</td>\n",
       "      <td>NaN</td>\n",
       "      <td>NaN</td>\n",
       "      <td>NaN</td>\n",
       "      <td>NaN</td>\n",
       "      <td>NaN</td>\n",
       "      <td>NaN</td>\n",
       "      <td>NaN</td>\n",
       "      <td>NaN</td>\n",
       "    </tr>\n",
       "  </tbody>\n",
       "</table>\n",
       "<p>5 rows × 17817 columns</p>\n",
       "</div>"
      ],
      "text/plain": [
       "reviews_username                                    00sab00  01impala  \\\n",
       "name                                                                    \n",
       "0.6 Cu. Ft. Letter A4 Size Waterproof 30 Min. F...      NaN       NaN   \n",
       "100:Complete First Season (blu-Ray)                     NaN       NaN   \n",
       "2017-2018 Brownline174 Duraflex 14-Month Planne...      NaN       NaN   \n",
       "2x Ultra Era with Oxi Booster, 50fl oz                  NaN       NaN   \n",
       "42 Dual Drop Leaf Table with 2 Madrid Chairs\"           NaN       NaN   \n",
       "\n",
       "reviews_username                                    0325home  06stidriver  \\\n",
       "name                                                                        \n",
       "0.6 Cu. Ft. Letter A4 Size Waterproof 30 Min. F...       NaN          NaN   \n",
       "100:Complete First Season (blu-Ray)                      NaN          NaN   \n",
       "2017-2018 Brownline174 Duraflex 14-Month Planne...       NaN          NaN   \n",
       "2x Ultra Era with Oxi Booster, 50fl oz                   NaN          NaN   \n",
       "42 Dual Drop Leaf Table with 2 Madrid Chairs\"            NaN          NaN   \n",
       "\n",
       "reviews_username                                    08dallas  09mommy11  1085  \\\n",
       "name                                                                            \n",
       "0.6 Cu. Ft. Letter A4 Size Waterproof 30 Min. F...       NaN        NaN   NaN   \n",
       "100:Complete First Season (blu-Ray)                 0.269663        NaN   NaN   \n",
       "2017-2018 Brownline174 Duraflex 14-Month Planne...       NaN        NaN   NaN   \n",
       "2x Ultra Era with Oxi Booster, 50fl oz                   NaN        NaN   NaN   \n",
       "42 Dual Drop Leaf Table with 2 Madrid Chairs\"            NaN        NaN   NaN   \n",
       "\n",
       "reviews_username                                    10ten  \\\n",
       "name                                                        \n",
       "0.6 Cu. Ft. Letter A4 Size Waterproof 30 Min. F...    NaN   \n",
       "100:Complete First Season (blu-Ray)                   NaN   \n",
       "2017-2018 Brownline174 Duraflex 14-Month Planne...    NaN   \n",
       "2x Ultra Era with Oxi Booster, 50fl oz                NaN   \n",
       "42 Dual Drop Leaf Table with 2 Madrid Chairs\"         NaN   \n",
       "\n",
       "reviews_username                                    11111111aaaaaaaaaaaaaaaaa  \\\n",
       "name                                                                            \n",
       "0.6 Cu. Ft. Letter A4 Size Waterproof 30 Min. F...                        NaN   \n",
       "100:Complete First Season (blu-Ray)                                       NaN   \n",
       "2017-2018 Brownline174 Duraflex 14-Month Planne...                        NaN   \n",
       "2x Ultra Era with Oxi Booster, 50fl oz                                    NaN   \n",
       "42 Dual Drop Leaf Table with 2 Madrid Chairs\"                             NaN   \n",
       "\n",
       "reviews_username                                    1143mom  ...  zowie  \\\n",
       "name                                                         ...          \n",
       "0.6 Cu. Ft. Letter A4 Size Waterproof 30 Min. F...      NaN  ...    NaN   \n",
       "100:Complete First Season (blu-Ray)                     NaN  ...    NaN   \n",
       "2017-2018 Brownline174 Duraflex 14-Month Planne...      NaN  ...    NaN   \n",
       "2x Ultra Era with Oxi Booster, 50fl oz                  NaN  ...    NaN   \n",
       "42 Dual Drop Leaf Table with 2 Madrid Chairs\"           NaN  ...    NaN   \n",
       "\n",
       "reviews_username                                    zozo0o  zsarah  zt313  \\\n",
       "name                                                                        \n",
       "0.6 Cu. Ft. Letter A4 Size Waterproof 30 Min. F...     NaN     NaN    NaN   \n",
       "100:Complete First Season (blu-Ray)                    NaN     NaN    NaN   \n",
       "2017-2018 Brownline174 Duraflex 14-Month Planne...     NaN     NaN    NaN   \n",
       "2x Ultra Era with Oxi Booster, 50fl oz                 NaN     NaN    NaN   \n",
       "42 Dual Drop Leaf Table with 2 Madrid Chairs\"          NaN     NaN    NaN   \n",
       "\n",
       "reviews_username                                    zubb  zulaa118  zuttle  \\\n",
       "name                                                                         \n",
       "0.6 Cu. Ft. Letter A4 Size Waterproof 30 Min. F...   NaN       NaN     NaN   \n",
       "100:Complete First Season (blu-Ray)                  NaN       NaN     NaN   \n",
       "2017-2018 Brownline174 Duraflex 14-Month Planne...   NaN       NaN     NaN   \n",
       "2x Ultra Era with Oxi Booster, 50fl oz               NaN       NaN     NaN   \n",
       "42 Dual Drop Leaf Table with 2 Madrid Chairs\"        NaN       NaN     NaN   \n",
       "\n",
       "reviews_username                                    zwithanx  zxcsdfd  zyiah4  \n",
       "name                                                                           \n",
       "0.6 Cu. Ft. Letter A4 Size Waterproof 30 Min. F...       NaN      NaN     NaN  \n",
       "100:Complete First Season (blu-Ray)                      NaN      NaN     NaN  \n",
       "2017-2018 Brownline174 Duraflex 14-Month Planne...       NaN      NaN     NaN  \n",
       "2x Ultra Era with Oxi Booster, 50fl oz                   NaN      NaN     NaN  \n",
       "42 Dual Drop Leaf Table with 2 Madrid Chairs\"            NaN      NaN     NaN  \n",
       "\n",
       "[5 rows x 17817 columns]"
      ]
     },
     "execution_count": 125,
     "metadata": {},
     "output_type": "execute_result"
    }
   ],
   "source": [
    "df_subtracted.head()"
   ]
  },
  {
   "cell_type": "markdown",
   "metadata": {},
   "source": [
    "Finding the cosine similarity using pairwise distances approach"
   ]
  },
  {
   "cell_type": "code",
   "execution_count": 126,
   "metadata": {},
   "outputs": [
    {
     "name": "stdout",
     "output_type": "stream",
     "text": [
      "[[1. 0. 0. ... 0. 0. 0.]\n",
      " [0. 1. 0. ... 0. 0. 0.]\n",
      " [0. 0. 0. ... 0. 0. 0.]\n",
      " ...\n",
      " [0. 0. 0. ... 1. 0. 0.]\n",
      " [0. 0. 0. ... 0. 1. 0.]\n",
      " [0. 0. 0. ... 0. 0. 1.]]\n"
     ]
    }
   ],
   "source": [
    "# Item Similarity Matrix\n",
    "item_correlation = 1 - pairwise_distances(df_subtracted.fillna(0), metric='cosine')\n",
    "item_correlation[np.isnan(item_correlation)] = 0\n",
    "print(item_correlation)"
   ]
  },
  {
   "cell_type": "markdown",
   "metadata": {},
   "source": [
    "Filtering the correlation only for which the value is greater than 0. (Positively correlated)"
   ]
  },
  {
   "cell_type": "code",
   "execution_count": 127,
   "metadata": {},
   "outputs": [
    {
     "data": {
      "text/plain": [
       "array([[1., 0., 0., ..., 0., 0., 0.],\n",
       "       [0., 1., 0., ..., 0., 0., 0.],\n",
       "       [0., 0., 0., ..., 0., 0., 0.],\n",
       "       ...,\n",
       "       [0., 0., 0., ..., 1., 0., 0.],\n",
       "       [0., 0., 0., ..., 0., 1., 0.],\n",
       "       [0., 0., 0., ..., 0., 0., 1.]])"
      ]
     },
     "execution_count": 127,
     "metadata": {},
     "output_type": "execute_result"
    }
   ],
   "source": [
    "item_correlation[item_correlation<0]=0\n",
    "item_correlation"
   ]
  },
  {
   "cell_type": "markdown",
   "metadata": {},
   "source": [
    "# Prediction - Item Item"
   ]
  },
  {
   "cell_type": "code",
   "execution_count": 128,
   "metadata": {},
   "outputs": [
    {
     "data": {
      "text/plain": [
       "array([[0.        , 0.0493346 , 0.        , ..., 0.01784731, 0.        ,\n",
       "        0.        ],\n",
       "       [0.        , 0.02089238, 0.        , ..., 0.        , 0.00239422,\n",
       "        0.01448899],\n",
       "       [0.        , 0.        , 0.        , ..., 0.        , 0.        ,\n",
       "        0.        ],\n",
       "       ...,\n",
       "       [0.        , 0.        , 0.        , ..., 0.        , 0.        ,\n",
       "        0.        ],\n",
       "       [0.        , 0.        , 0.        , ..., 0.        , 0.        ,\n",
       "        0.        ],\n",
       "       [0.        , 0.        , 0.        , ..., 0.        , 0.        ,\n",
       "        0.        ]])"
      ]
     },
     "execution_count": 128,
     "metadata": {},
     "output_type": "execute_result"
    }
   ],
   "source": [
    "item_predicted_ratings = np.dot((df_pivot.fillna(0).T),item_correlation)\n",
    "item_predicted_ratings"
   ]
  },
  {
   "cell_type": "code",
   "execution_count": 129,
   "metadata": {},
   "outputs": [
    {
     "data": {
      "text/plain": [
       "(17817, 251)"
      ]
     },
     "execution_count": 129,
     "metadata": {},
     "output_type": "execute_result"
    }
   ],
   "source": [
    "item_predicted_ratings.shape"
   ]
  },
  {
   "cell_type": "code",
   "execution_count": 130,
   "metadata": {},
   "outputs": [
    {
     "data": {
      "text/plain": [
       "(17817, 251)"
      ]
     },
     "execution_count": 130,
     "metadata": {},
     "output_type": "execute_result"
    }
   ],
   "source": [
    "dummy_train.shape"
   ]
  },
  {
   "cell_type": "markdown",
   "metadata": {},
   "source": [
    "### Filtering the rating only for the movies not rated by the user for recommendation"
   ]
  },
  {
   "cell_type": "code",
   "execution_count": 131,
   "metadata": {},
   "outputs": [
    {
     "data": {
      "text/html": [
       "<div>\n",
       "<style scoped>\n",
       "    .dataframe tbody tr th:only-of-type {\n",
       "        vertical-align: middle;\n",
       "    }\n",
       "\n",
       "    .dataframe tbody tr th {\n",
       "        vertical-align: top;\n",
       "    }\n",
       "\n",
       "    .dataframe thead th {\n",
       "        text-align: right;\n",
       "    }\n",
       "</style>\n",
       "<table border=\"1\" class=\"dataframe\">\n",
       "  <thead>\n",
       "    <tr style=\"text-align: right;\">\n",
       "      <th>name</th>\n",
       "      <th>0.6 Cu. Ft. Letter A4 Size Waterproof 30 Min. Fire File Chest</th>\n",
       "      <th>100:Complete First Season (blu-Ray)</th>\n",
       "      <th>2017-2018 Brownline174 Duraflex 14-Month Planner 8 1/2 X 11 Black</th>\n",
       "      <th>2x Ultra Era with Oxi Booster, 50fl oz</th>\n",
       "      <th>42 Dual Drop Leaf Table with 2 Madrid Chairs\"</th>\n",
       "      <th>4C Grated Parmesan Cheese 100% Natural 8oz Shaker</th>\n",
       "      <th>Africa's Best No-Lye Dual Conditioning Relaxer System Super</th>\n",
       "      <th>Alberto VO5 Salon Series Smooth Plus Sleek Shampoo</th>\n",
       "      <th>Alex Cross (dvdvideo)</th>\n",
       "      <th>All,bran Complete Wheat Flakes, 18 Oz.</th>\n",
       "      <th>...</th>\n",
       "      <th>Vicks Vaporub, Regular, 3.53oz</th>\n",
       "      <th>Voortman Sugar Free Fudge Chocolate Chip Cookies</th>\n",
       "      <th>Wagan Smartac 80watt Inverter With Usb</th>\n",
       "      <th>Wallmount Server Cabinet (450mm, 9 RU)</th>\n",
       "      <th>Way Basics 3-Shelf Eco Narrow Bookcase Storage Shelf, Espresso - Formaldehyde Free - Lifetime Guarantee</th>\n",
       "      <th>WeatherTech 40647 14-15 Outlander Cargo Liners Behind 2nd Row, Black</th>\n",
       "      <th>Weleda Everon Lip Balm</th>\n",
       "      <th>Windex Original Glass Cleaner Refill 67.6oz (2 Liter)</th>\n",
       "      <th>Yes To Carrots Nourishing Body Wash</th>\n",
       "      <th>Yes To Grapefruit Rejuvenating Body Wash</th>\n",
       "    </tr>\n",
       "    <tr>\n",
       "      <th>reviews_username</th>\n",
       "      <th></th>\n",
       "      <th></th>\n",
       "      <th></th>\n",
       "      <th></th>\n",
       "      <th></th>\n",
       "      <th></th>\n",
       "      <th></th>\n",
       "      <th></th>\n",
       "      <th></th>\n",
       "      <th></th>\n",
       "      <th></th>\n",
       "      <th></th>\n",
       "      <th></th>\n",
       "      <th></th>\n",
       "      <th></th>\n",
       "      <th></th>\n",
       "      <th></th>\n",
       "      <th></th>\n",
       "      <th></th>\n",
       "      <th></th>\n",
       "      <th></th>\n",
       "    </tr>\n",
       "  </thead>\n",
       "  <tbody>\n",
       "    <tr>\n",
       "      <td>00sab00</td>\n",
       "      <td>0.0</td>\n",
       "      <td>0.049335</td>\n",
       "      <td>0.0</td>\n",
       "      <td>0.0</td>\n",
       "      <td>0.0</td>\n",
       "      <td>0.0</td>\n",
       "      <td>0.0</td>\n",
       "      <td>0.0</td>\n",
       "      <td>0.025517</td>\n",
       "      <td>0.0</td>\n",
       "      <td>...</td>\n",
       "      <td>0.144658</td>\n",
       "      <td>0.0</td>\n",
       "      <td>0.046127</td>\n",
       "      <td>0.0</td>\n",
       "      <td>0.0</td>\n",
       "      <td>0.010872</td>\n",
       "      <td>0.0</td>\n",
       "      <td>0.017847</td>\n",
       "      <td>0.000000</td>\n",
       "      <td>0.000000</td>\n",
       "    </tr>\n",
       "    <tr>\n",
       "      <td>01impala</td>\n",
       "      <td>0.0</td>\n",
       "      <td>0.020892</td>\n",
       "      <td>0.0</td>\n",
       "      <td>0.0</td>\n",
       "      <td>0.0</td>\n",
       "      <td>0.0</td>\n",
       "      <td>0.0</td>\n",
       "      <td>0.0</td>\n",
       "      <td>0.000000</td>\n",
       "      <td>0.0</td>\n",
       "      <td>...</td>\n",
       "      <td>0.000000</td>\n",
       "      <td>0.0</td>\n",
       "      <td>0.025403</td>\n",
       "      <td>0.0</td>\n",
       "      <td>0.0</td>\n",
       "      <td>0.000000</td>\n",
       "      <td>0.0</td>\n",
       "      <td>0.000000</td>\n",
       "      <td>0.002394</td>\n",
       "      <td>0.014489</td>\n",
       "    </tr>\n",
       "    <tr>\n",
       "      <td>0325home</td>\n",
       "      <td>0.0</td>\n",
       "      <td>0.000000</td>\n",
       "      <td>0.0</td>\n",
       "      <td>0.0</td>\n",
       "      <td>0.0</td>\n",
       "      <td>0.0</td>\n",
       "      <td>0.0</td>\n",
       "      <td>0.0</td>\n",
       "      <td>0.000000</td>\n",
       "      <td>0.0</td>\n",
       "      <td>...</td>\n",
       "      <td>0.000000</td>\n",
       "      <td>0.0</td>\n",
       "      <td>0.000000</td>\n",
       "      <td>0.0</td>\n",
       "      <td>0.0</td>\n",
       "      <td>0.000000</td>\n",
       "      <td>0.0</td>\n",
       "      <td>0.000000</td>\n",
       "      <td>0.000000</td>\n",
       "      <td>0.000000</td>\n",
       "    </tr>\n",
       "    <tr>\n",
       "      <td>06stidriver</td>\n",
       "      <td>0.0</td>\n",
       "      <td>0.000000</td>\n",
       "      <td>0.0</td>\n",
       "      <td>0.0</td>\n",
       "      <td>0.0</td>\n",
       "      <td>0.0</td>\n",
       "      <td>0.0</td>\n",
       "      <td>0.0</td>\n",
       "      <td>0.000000</td>\n",
       "      <td>0.0</td>\n",
       "      <td>...</td>\n",
       "      <td>0.000000</td>\n",
       "      <td>0.0</td>\n",
       "      <td>0.000000</td>\n",
       "      <td>0.0</td>\n",
       "      <td>0.0</td>\n",
       "      <td>0.000000</td>\n",
       "      <td>0.0</td>\n",
       "      <td>0.000000</td>\n",
       "      <td>0.000000</td>\n",
       "      <td>0.000000</td>\n",
       "    </tr>\n",
       "    <tr>\n",
       "      <td>08dallas</td>\n",
       "      <td>0.0</td>\n",
       "      <td>0.000000</td>\n",
       "      <td>0.0</td>\n",
       "      <td>0.0</td>\n",
       "      <td>0.0</td>\n",
       "      <td>0.0</td>\n",
       "      <td>0.0</td>\n",
       "      <td>0.0</td>\n",
       "      <td>0.000000</td>\n",
       "      <td>0.0</td>\n",
       "      <td>...</td>\n",
       "      <td>0.000000</td>\n",
       "      <td>0.0</td>\n",
       "      <td>0.000000</td>\n",
       "      <td>0.0</td>\n",
       "      <td>0.0</td>\n",
       "      <td>0.000000</td>\n",
       "      <td>0.0</td>\n",
       "      <td>0.000000</td>\n",
       "      <td>0.000000</td>\n",
       "      <td>0.000000</td>\n",
       "    </tr>\n",
       "  </tbody>\n",
       "</table>\n",
       "<p>5 rows × 251 columns</p>\n",
       "</div>"
      ],
      "text/plain": [
       "name              0.6 Cu. Ft. Letter A4 Size Waterproof 30 Min. Fire File Chest  \\\n",
       "reviews_username                                                                  \n",
       "00sab00                                                         0.0               \n",
       "01impala                                                        0.0               \n",
       "0325home                                                        0.0               \n",
       "06stidriver                                                     0.0               \n",
       "08dallas                                                        0.0               \n",
       "\n",
       "name              100:Complete First Season (blu-Ray)  \\\n",
       "reviews_username                                        \n",
       "00sab00                                      0.049335   \n",
       "01impala                                     0.020892   \n",
       "0325home                                     0.000000   \n",
       "06stidriver                                  0.000000   \n",
       "08dallas                                     0.000000   \n",
       "\n",
       "name              2017-2018 Brownline174 Duraflex 14-Month Planner 8 1/2 X 11 Black  \\\n",
       "reviews_username                                                                      \n",
       "00sab00                                                         0.0                   \n",
       "01impala                                                        0.0                   \n",
       "0325home                                                        0.0                   \n",
       "06stidriver                                                     0.0                   \n",
       "08dallas                                                        0.0                   \n",
       "\n",
       "name              2x Ultra Era with Oxi Booster, 50fl oz  \\\n",
       "reviews_username                                           \n",
       "00sab00                                              0.0   \n",
       "01impala                                             0.0   \n",
       "0325home                                             0.0   \n",
       "06stidriver                                          0.0   \n",
       "08dallas                                             0.0   \n",
       "\n",
       "name              42 Dual Drop Leaf Table with 2 Madrid Chairs\"  \\\n",
       "reviews_username                                                  \n",
       "00sab00                                                     0.0   \n",
       "01impala                                                    0.0   \n",
       "0325home                                                    0.0   \n",
       "06stidriver                                                 0.0   \n",
       "08dallas                                                    0.0   \n",
       "\n",
       "name              4C Grated Parmesan Cheese 100% Natural 8oz Shaker  \\\n",
       "reviews_username                                                      \n",
       "00sab00                                                         0.0   \n",
       "01impala                                                        0.0   \n",
       "0325home                                                        0.0   \n",
       "06stidriver                                                     0.0   \n",
       "08dallas                                                        0.0   \n",
       "\n",
       "name              Africa's Best No-Lye Dual Conditioning Relaxer System Super  \\\n",
       "reviews_username                                                                \n",
       "00sab00                                                         0.0             \n",
       "01impala                                                        0.0             \n",
       "0325home                                                        0.0             \n",
       "06stidriver                                                     0.0             \n",
       "08dallas                                                        0.0             \n",
       "\n",
       "name              Alberto VO5 Salon Series Smooth Plus Sleek Shampoo  \\\n",
       "reviews_username                                                       \n",
       "00sab00                                                         0.0    \n",
       "01impala                                                        0.0    \n",
       "0325home                                                        0.0    \n",
       "06stidriver                                                     0.0    \n",
       "08dallas                                                        0.0    \n",
       "\n",
       "name              Alex Cross (dvdvideo)  \\\n",
       "reviews_username                          \n",
       "00sab00                        0.025517   \n",
       "01impala                       0.000000   \n",
       "0325home                       0.000000   \n",
       "06stidriver                    0.000000   \n",
       "08dallas                       0.000000   \n",
       "\n",
       "name              All,bran Complete Wheat Flakes, 18 Oz.  ...  \\\n",
       "reviews_username                                          ...   \n",
       "00sab00                                              0.0  ...   \n",
       "01impala                                             0.0  ...   \n",
       "0325home                                             0.0  ...   \n",
       "06stidriver                                          0.0  ...   \n",
       "08dallas                                             0.0  ...   \n",
       "\n",
       "name              Vicks Vaporub, Regular, 3.53oz  \\\n",
       "reviews_username                                   \n",
       "00sab00                                 0.144658   \n",
       "01impala                                0.000000   \n",
       "0325home                                0.000000   \n",
       "06stidriver                             0.000000   \n",
       "08dallas                                0.000000   \n",
       "\n",
       "name              Voortman Sugar Free Fudge Chocolate Chip Cookies  \\\n",
       "reviews_username                                                     \n",
       "00sab00                                                        0.0   \n",
       "01impala                                                       0.0   \n",
       "0325home                                                       0.0   \n",
       "06stidriver                                                    0.0   \n",
       "08dallas                                                       0.0   \n",
       "\n",
       "name              Wagan Smartac 80watt Inverter With Usb  \\\n",
       "reviews_username                                           \n",
       "00sab00                                         0.046127   \n",
       "01impala                                        0.025403   \n",
       "0325home                                        0.000000   \n",
       "06stidriver                                     0.000000   \n",
       "08dallas                                        0.000000   \n",
       "\n",
       "name              Wallmount Server Cabinet (450mm, 9 RU)  \\\n",
       "reviews_username                                           \n",
       "00sab00                                              0.0   \n",
       "01impala                                             0.0   \n",
       "0325home                                             0.0   \n",
       "06stidriver                                          0.0   \n",
       "08dallas                                             0.0   \n",
       "\n",
       "name              Way Basics 3-Shelf Eco Narrow Bookcase Storage Shelf, Espresso - Formaldehyde Free - Lifetime Guarantee  \\\n",
       "reviews_username                                                                                                            \n",
       "00sab00                                                         0.0                                                         \n",
       "01impala                                                        0.0                                                         \n",
       "0325home                                                        0.0                                                         \n",
       "06stidriver                                                     0.0                                                         \n",
       "08dallas                                                        0.0                                                         \n",
       "\n",
       "name              WeatherTech 40647 14-15 Outlander Cargo Liners Behind 2nd Row, Black  \\\n",
       "reviews_username                                                                         \n",
       "00sab00                                                    0.010872                      \n",
       "01impala                                                   0.000000                      \n",
       "0325home                                                   0.000000                      \n",
       "06stidriver                                                0.000000                      \n",
       "08dallas                                                   0.000000                      \n",
       "\n",
       "name              Weleda Everon Lip Balm  \\\n",
       "reviews_username                           \n",
       "00sab00                              0.0   \n",
       "01impala                             0.0   \n",
       "0325home                             0.0   \n",
       "06stidriver                          0.0   \n",
       "08dallas                             0.0   \n",
       "\n",
       "name              Windex Original Glass Cleaner Refill 67.6oz (2 Liter)  \\\n",
       "reviews_username                                                          \n",
       "00sab00                                                    0.017847       \n",
       "01impala                                                   0.000000       \n",
       "0325home                                                   0.000000       \n",
       "06stidriver                                                0.000000       \n",
       "08dallas                                                   0.000000       \n",
       "\n",
       "name              Yes To Carrots Nourishing Body Wash  \\\n",
       "reviews_username                                        \n",
       "00sab00                                      0.000000   \n",
       "01impala                                     0.002394   \n",
       "0325home                                     0.000000   \n",
       "06stidriver                                  0.000000   \n",
       "08dallas                                     0.000000   \n",
       "\n",
       "name              Yes To Grapefruit Rejuvenating Body Wash  \n",
       "reviews_username                                            \n",
       "00sab00                                           0.000000  \n",
       "01impala                                          0.014489  \n",
       "0325home                                          0.000000  \n",
       "06stidriver                                       0.000000  \n",
       "08dallas                                          0.000000  \n",
       "\n",
       "[5 rows x 251 columns]"
      ]
     },
     "execution_count": 131,
     "metadata": {},
     "output_type": "execute_result"
    }
   ],
   "source": [
    "item_final_rating = np.multiply(item_predicted_ratings,dummy_train)\n",
    "item_final_rating.head()"
   ]
  },
  {
   "cell_type": "markdown",
   "metadata": {},
   "source": [
    "### Finding the top 20 recommendation for the *user*"
   ]
  },
  {
   "cell_type": "code",
   "execution_count": 132,
   "metadata": {},
   "outputs": [
    {
     "name": "stdout",
     "output_type": "stream",
     "text": [
      "dorothy w\n"
     ]
    }
   ],
   "source": [
    "user_input='dorothy w'\n",
    "print(user_input)"
   ]
  },
  {
   "cell_type": "code",
   "execution_count": 133,
   "metadata": {},
   "outputs": [
    {
     "data": {
      "text/plain": [
       "name\n",
       "Yes To Grapefruit Rejuvenating Body Wash                                                        0.0\n",
       "Fantasy Fields Lil' Sports Fan Step Stool - Teamson                                             0.0\n",
       "Heiress (dvd)                                                                                   0.0\n",
       "Head & Shoulders Dandruff Shampoo Ocean Lift 2 In 1                                             0.0\n",
       "Head & Shoulders Classic Clean Conditioner                                                      0.0\n",
       "Hawaiian Punch Berry Limeade Blast Juice                                                        0.0\n",
       "Happy Tot Apple and Butternut Squash                                                            0.0\n",
       "Greyson Vintage Industrial Occasional Cocktail Coffee Table - Antique Bronze - Baxton Studio    0.0\n",
       "Godzilla 3d Includes Digital Copy Ultraviolet 3d/2d Blu-Ray/dvd                                 0.0\n",
       "Germ Guardian174 Elite 3-In-1 Pet Pure True Hepa Air Purifier Ac4300bptca                       0.0\n",
       "Gain Original Scent Liquid Fabric Softener 129 Oz                                               0.0\n",
       "Fiskars174 Classic Stick Rotary Cutter (45 Mm)                                                  0.0\n",
       "Finish Quantum Dishwasher Detergent, Lemon Sparkle Scent, 45 Count                              0.0\n",
       "Finish Gelpacs Dishwasher Detergent, Orange Scent, 84ct                                         0.0\n",
       "Feit 60-Watt A19 Gu24 Base Led Light Bulb - Soft White                                          0.0\n",
       "Equals (blu-Ray)                                                                                0.0\n",
       "Cococare 100% Natural Castor Oil                                                                0.0\n",
       "Eagle Fat Free Sweetened Condensed Milk                                                         0.0\n",
       "Doc Mcstuffins: Friendship Is The Best Medicine                                                 0.0\n",
       "Disney174 Jake And The Neverland Pirates 4 Piece Bedding Set - Toddler                          0.0\n",
       "Name: dorothy w, dtype: float64"
      ]
     },
     "execution_count": 133,
     "metadata": {},
     "output_type": "execute_result"
    }
   ],
   "source": [
    "# Recommending the Top 5 products to the user.\n",
    "d = item_final_rating.loc[user_input].sort_values(ascending=False)[0:20]\n",
    "d"
   ]
  },
  {
   "cell_type": "markdown",
   "metadata": {},
   "source": [
    "# Evaluation - Item Item"
   ]
  },
  {
   "cell_type": "markdown",
   "metadata": {},
   "source": [
    "Evaluation will we same as you have seen above for the prediction. The only difference being, you will evaluate for the movie already rated by the user insead of predicting it for the movie not rated by the user. "
   ]
  },
  {
   "cell_type": "code",
   "execution_count": 134,
   "metadata": {},
   "outputs": [
    {
     "data": {
      "text/plain": [
       "(8257, 3)"
      ]
     },
     "execution_count": 134,
     "metadata": {},
     "output_type": "execute_result"
    }
   ],
   "source": [
    "common =  test[test.name.isin(train.name)]\n",
    "common.shape"
   ]
  },
  {
   "cell_type": "code",
   "execution_count": 135,
   "metadata": {},
   "outputs": [],
   "source": [
    "common_item_based_matrix = common.pivot_table(index='reviews_username', columns='name', values='reviews_rating').T"
   ]
  },
  {
   "cell_type": "code",
   "execution_count": 136,
   "metadata": {},
   "outputs": [
    {
     "data": {
      "text/plain": [
       "(197, 7941)"
      ]
     },
     "execution_count": 136,
     "metadata": {},
     "output_type": "execute_result"
    }
   ],
   "source": [
    "common_item_based_matrix.shape"
   ]
  },
  {
   "cell_type": "code",
   "execution_count": 137,
   "metadata": {},
   "outputs": [],
   "source": [
    "item_correlation_df = pd.DataFrame(item_correlation)"
   ]
  },
  {
   "cell_type": "code",
   "execution_count": 138,
   "metadata": {},
   "outputs": [
    {
     "data": {
      "text/html": [
       "<div>\n",
       "<style scoped>\n",
       "    .dataframe tbody tr th:only-of-type {\n",
       "        vertical-align: middle;\n",
       "    }\n",
       "\n",
       "    .dataframe tbody tr th {\n",
       "        vertical-align: top;\n",
       "    }\n",
       "\n",
       "    .dataframe thead th {\n",
       "        text-align: right;\n",
       "    }\n",
       "</style>\n",
       "<table border=\"1\" class=\"dataframe\">\n",
       "  <thead>\n",
       "    <tr style=\"text-align: right;\">\n",
       "      <th></th>\n",
       "      <th>0</th>\n",
       "      <th>1</th>\n",
       "      <th>2</th>\n",
       "      <th>3</th>\n",
       "      <th>4</th>\n",
       "      <th>5</th>\n",
       "      <th>6</th>\n",
       "      <th>7</th>\n",
       "      <th>8</th>\n",
       "      <th>9</th>\n",
       "      <th>...</th>\n",
       "      <th>241</th>\n",
       "      <th>242</th>\n",
       "      <th>243</th>\n",
       "      <th>244</th>\n",
       "      <th>245</th>\n",
       "      <th>246</th>\n",
       "      <th>247</th>\n",
       "      <th>248</th>\n",
       "      <th>249</th>\n",
       "      <th>250</th>\n",
       "    </tr>\n",
       "  </thead>\n",
       "  <tbody>\n",
       "    <tr>\n",
       "      <td>0</td>\n",
       "      <td>1.0</td>\n",
       "      <td>0.0</td>\n",
       "      <td>0.0</td>\n",
       "      <td>0.0</td>\n",
       "      <td>0.0</td>\n",
       "      <td>0.0</td>\n",
       "      <td>0.0</td>\n",
       "      <td>0.0</td>\n",
       "      <td>0.0</td>\n",
       "      <td>0.0</td>\n",
       "      <td>...</td>\n",
       "      <td>0.0</td>\n",
       "      <td>0.0</td>\n",
       "      <td>0.0</td>\n",
       "      <td>0.0</td>\n",
       "      <td>0.0</td>\n",
       "      <td>0.0</td>\n",
       "      <td>0.0</td>\n",
       "      <td>0.0</td>\n",
       "      <td>0.0</td>\n",
       "      <td>0.0</td>\n",
       "    </tr>\n",
       "  </tbody>\n",
       "</table>\n",
       "<p>1 rows × 251 columns</p>\n",
       "</div>"
      ],
      "text/plain": [
       "   0    1    2    3    4    5    6    7    8    9    ...  241  242  243  244  \\\n",
       "0  1.0  0.0  0.0  0.0  0.0  0.0  0.0  0.0  0.0  0.0  ...  0.0  0.0  0.0  0.0   \n",
       "\n",
       "   245  246  247  248  249  250  \n",
       "0  0.0  0.0  0.0  0.0  0.0  0.0  \n",
       "\n",
       "[1 rows x 251 columns]"
      ]
     },
     "execution_count": 138,
     "metadata": {},
     "output_type": "execute_result"
    }
   ],
   "source": [
    "item_correlation_df.head(1)"
   ]
  },
  {
   "cell_type": "code",
   "execution_count": 139,
   "metadata": {},
   "outputs": [
    {
     "data": {
      "text/html": [
       "<div>\n",
       "<style scoped>\n",
       "    .dataframe tbody tr th:only-of-type {\n",
       "        vertical-align: middle;\n",
       "    }\n",
       "\n",
       "    .dataframe tbody tr th {\n",
       "        vertical-align: top;\n",
       "    }\n",
       "\n",
       "    .dataframe thead th {\n",
       "        text-align: right;\n",
       "    }\n",
       "</style>\n",
       "<table border=\"1\" class=\"dataframe\">\n",
       "  <thead>\n",
       "    <tr style=\"text-align: right;\">\n",
       "      <th></th>\n",
       "      <th>0</th>\n",
       "      <th>1</th>\n",
       "      <th>2</th>\n",
       "      <th>3</th>\n",
       "      <th>4</th>\n",
       "      <th>5</th>\n",
       "      <th>6</th>\n",
       "      <th>7</th>\n",
       "      <th>8</th>\n",
       "      <th>9</th>\n",
       "      <th>...</th>\n",
       "      <th>241</th>\n",
       "      <th>242</th>\n",
       "      <th>243</th>\n",
       "      <th>244</th>\n",
       "      <th>245</th>\n",
       "      <th>246</th>\n",
       "      <th>247</th>\n",
       "      <th>248</th>\n",
       "      <th>249</th>\n",
       "      <th>250</th>\n",
       "    </tr>\n",
       "    <tr>\n",
       "      <th>name</th>\n",
       "      <th></th>\n",
       "      <th></th>\n",
       "      <th></th>\n",
       "      <th></th>\n",
       "      <th></th>\n",
       "      <th></th>\n",
       "      <th></th>\n",
       "      <th></th>\n",
       "      <th></th>\n",
       "      <th></th>\n",
       "      <th></th>\n",
       "      <th></th>\n",
       "      <th></th>\n",
       "      <th></th>\n",
       "      <th></th>\n",
       "      <th></th>\n",
       "      <th></th>\n",
       "      <th></th>\n",
       "      <th></th>\n",
       "      <th></th>\n",
       "      <th></th>\n",
       "    </tr>\n",
       "  </thead>\n",
       "  <tbody>\n",
       "    <tr>\n",
       "      <td>0.6 Cu. Ft. Letter A4 Size Waterproof 30 Min. Fire File Chest</td>\n",
       "      <td>1.0</td>\n",
       "      <td>0.0</td>\n",
       "      <td>0.0</td>\n",
       "      <td>0.0</td>\n",
       "      <td>0.0</td>\n",
       "      <td>0.0</td>\n",
       "      <td>0.0</td>\n",
       "      <td>0.0</td>\n",
       "      <td>0.0</td>\n",
       "      <td>0.0</td>\n",
       "      <td>...</td>\n",
       "      <td>0.0</td>\n",
       "      <td>0.0</td>\n",
       "      <td>0.0</td>\n",
       "      <td>0.0</td>\n",
       "      <td>0.0</td>\n",
       "      <td>0.0</td>\n",
       "      <td>0.0</td>\n",
       "      <td>0.0</td>\n",
       "      <td>0.0</td>\n",
       "      <td>0.0</td>\n",
       "    </tr>\n",
       "    <tr>\n",
       "      <td>100:Complete First Season (blu-Ray)</td>\n",
       "      <td>0.0</td>\n",
       "      <td>1.0</td>\n",
       "      <td>0.0</td>\n",
       "      <td>0.0</td>\n",
       "      <td>0.0</td>\n",
       "      <td>0.0</td>\n",
       "      <td>0.0</td>\n",
       "      <td>0.0</td>\n",
       "      <td>0.0</td>\n",
       "      <td>0.0</td>\n",
       "      <td>...</td>\n",
       "      <td>0.0</td>\n",
       "      <td>0.0</td>\n",
       "      <td>0.0</td>\n",
       "      <td>0.0</td>\n",
       "      <td>0.0</td>\n",
       "      <td>0.0</td>\n",
       "      <td>0.0</td>\n",
       "      <td>0.0</td>\n",
       "      <td>0.0</td>\n",
       "      <td>0.0</td>\n",
       "    </tr>\n",
       "    <tr>\n",
       "      <td>2017-2018 Brownline174 Duraflex 14-Month Planner 8 1/2 X 11 Black</td>\n",
       "      <td>0.0</td>\n",
       "      <td>0.0</td>\n",
       "      <td>0.0</td>\n",
       "      <td>0.0</td>\n",
       "      <td>0.0</td>\n",
       "      <td>0.0</td>\n",
       "      <td>0.0</td>\n",
       "      <td>0.0</td>\n",
       "      <td>0.0</td>\n",
       "      <td>0.0</td>\n",
       "      <td>...</td>\n",
       "      <td>0.0</td>\n",
       "      <td>0.0</td>\n",
       "      <td>0.0</td>\n",
       "      <td>0.0</td>\n",
       "      <td>0.0</td>\n",
       "      <td>0.0</td>\n",
       "      <td>0.0</td>\n",
       "      <td>0.0</td>\n",
       "      <td>0.0</td>\n",
       "      <td>0.0</td>\n",
       "    </tr>\n",
       "    <tr>\n",
       "      <td>2x Ultra Era with Oxi Booster, 50fl oz</td>\n",
       "      <td>0.0</td>\n",
       "      <td>0.0</td>\n",
       "      <td>0.0</td>\n",
       "      <td>1.0</td>\n",
       "      <td>0.0</td>\n",
       "      <td>0.0</td>\n",
       "      <td>0.0</td>\n",
       "      <td>0.0</td>\n",
       "      <td>0.0</td>\n",
       "      <td>0.0</td>\n",
       "      <td>...</td>\n",
       "      <td>0.0</td>\n",
       "      <td>0.0</td>\n",
       "      <td>0.0</td>\n",
       "      <td>0.0</td>\n",
       "      <td>0.0</td>\n",
       "      <td>0.0</td>\n",
       "      <td>0.0</td>\n",
       "      <td>0.0</td>\n",
       "      <td>0.0</td>\n",
       "      <td>0.0</td>\n",
       "    </tr>\n",
       "    <tr>\n",
       "      <td>42 Dual Drop Leaf Table with 2 Madrid Chairs\"</td>\n",
       "      <td>0.0</td>\n",
       "      <td>0.0</td>\n",
       "      <td>0.0</td>\n",
       "      <td>0.0</td>\n",
       "      <td>0.0</td>\n",
       "      <td>0.0</td>\n",
       "      <td>0.0</td>\n",
       "      <td>0.0</td>\n",
       "      <td>0.0</td>\n",
       "      <td>0.0</td>\n",
       "      <td>...</td>\n",
       "      <td>0.0</td>\n",
       "      <td>0.0</td>\n",
       "      <td>0.0</td>\n",
       "      <td>0.0</td>\n",
       "      <td>0.0</td>\n",
       "      <td>0.0</td>\n",
       "      <td>0.0</td>\n",
       "      <td>0.0</td>\n",
       "      <td>0.0</td>\n",
       "      <td>0.0</td>\n",
       "    </tr>\n",
       "  </tbody>\n",
       "</table>\n",
       "<p>5 rows × 251 columns</p>\n",
       "</div>"
      ],
      "text/plain": [
       "                                                    0    1    2    3    4    \\\n",
       "name                                                                          \n",
       "0.6 Cu. Ft. Letter A4 Size Waterproof 30 Min. F...  1.0  0.0  0.0  0.0  0.0   \n",
       "100:Complete First Season (blu-Ray)                 0.0  1.0  0.0  0.0  0.0   \n",
       "2017-2018 Brownline174 Duraflex 14-Month Planne...  0.0  0.0  0.0  0.0  0.0   \n",
       "2x Ultra Era with Oxi Booster, 50fl oz              0.0  0.0  0.0  1.0  0.0   \n",
       "42 Dual Drop Leaf Table with 2 Madrid Chairs\"       0.0  0.0  0.0  0.0  0.0   \n",
       "\n",
       "                                                    5    6    7    8    9    \\\n",
       "name                                                                          \n",
       "0.6 Cu. Ft. Letter A4 Size Waterproof 30 Min. F...  0.0  0.0  0.0  0.0  0.0   \n",
       "100:Complete First Season (blu-Ray)                 0.0  0.0  0.0  0.0  0.0   \n",
       "2017-2018 Brownline174 Duraflex 14-Month Planne...  0.0  0.0  0.0  0.0  0.0   \n",
       "2x Ultra Era with Oxi Booster, 50fl oz              0.0  0.0  0.0  0.0  0.0   \n",
       "42 Dual Drop Leaf Table with 2 Madrid Chairs\"       0.0  0.0  0.0  0.0  0.0   \n",
       "\n",
       "                                                    ...  241  242  243  244  \\\n",
       "name                                                ...                       \n",
       "0.6 Cu. Ft. Letter A4 Size Waterproof 30 Min. F...  ...  0.0  0.0  0.0  0.0   \n",
       "100:Complete First Season (blu-Ray)                 ...  0.0  0.0  0.0  0.0   \n",
       "2017-2018 Brownline174 Duraflex 14-Month Planne...  ...  0.0  0.0  0.0  0.0   \n",
       "2x Ultra Era with Oxi Booster, 50fl oz              ...  0.0  0.0  0.0  0.0   \n",
       "42 Dual Drop Leaf Table with 2 Madrid Chairs\"       ...  0.0  0.0  0.0  0.0   \n",
       "\n",
       "                                                    245  246  247  248  249  \\\n",
       "name                                                                          \n",
       "0.6 Cu. Ft. Letter A4 Size Waterproof 30 Min. F...  0.0  0.0  0.0  0.0  0.0   \n",
       "100:Complete First Season (blu-Ray)                 0.0  0.0  0.0  0.0  0.0   \n",
       "2017-2018 Brownline174 Duraflex 14-Month Planne...  0.0  0.0  0.0  0.0  0.0   \n",
       "2x Ultra Era with Oxi Booster, 50fl oz              0.0  0.0  0.0  0.0  0.0   \n",
       "42 Dual Drop Leaf Table with 2 Madrid Chairs\"       0.0  0.0  0.0  0.0  0.0   \n",
       "\n",
       "                                                    250  \n",
       "name                                                     \n",
       "0.6 Cu. Ft. Letter A4 Size Waterproof 30 Min. F...  0.0  \n",
       "100:Complete First Season (blu-Ray)                 0.0  \n",
       "2017-2018 Brownline174 Duraflex 14-Month Planne...  0.0  \n",
       "2x Ultra Era with Oxi Booster, 50fl oz              0.0  \n",
       "42 Dual Drop Leaf Table with 2 Madrid Chairs\"       0.0  \n",
       "\n",
       "[5 rows x 251 columns]"
      ]
     },
     "execution_count": 139,
     "metadata": {},
     "output_type": "execute_result"
    }
   ],
   "source": [
    "item_correlation_df['name'] = df_subtracted.index\n",
    "item_correlation_df.set_index('name',inplace=True)\n",
    "item_correlation_df.head()"
   ]
  },
  {
   "cell_type": "code",
   "execution_count": 140,
   "metadata": {},
   "outputs": [],
   "source": [
    "list_name = common.name.tolist()"
   ]
  },
  {
   "cell_type": "code",
   "execution_count": 141,
   "metadata": {},
   "outputs": [],
   "source": [
    "item_correlation_df.columns = df_subtracted.index.tolist()\n",
    "\n",
    "item_correlation_df_1 =  item_correlation_df[item_correlation_df.index.isin(list_name)]"
   ]
  },
  {
   "cell_type": "code",
   "execution_count": 142,
   "metadata": {},
   "outputs": [],
   "source": [
    "item_correlation_df_2 = item_correlation_df_1.T[item_correlation_df_1.T.index.isin(list_name)]\n",
    "\n",
    "item_correlation_df_3 = item_correlation_df_2.T"
   ]
  },
  {
   "cell_type": "code",
   "execution_count": 143,
   "metadata": {},
   "outputs": [
    {
     "data": {
      "text/html": [
       "<div>\n",
       "<style scoped>\n",
       "    .dataframe tbody tr th:only-of-type {\n",
       "        vertical-align: middle;\n",
       "    }\n",
       "\n",
       "    .dataframe tbody tr th {\n",
       "        vertical-align: top;\n",
       "    }\n",
       "\n",
       "    .dataframe thead th {\n",
       "        text-align: right;\n",
       "    }\n",
       "</style>\n",
       "<table border=\"1\" class=\"dataframe\">\n",
       "  <thead>\n",
       "    <tr style=\"text-align: right;\">\n",
       "      <th></th>\n",
       "      <th>0.6 Cu. Ft. Letter A4 Size Waterproof 30 Min. Fire File Chest</th>\n",
       "      <th>100:Complete First Season (blu-Ray)</th>\n",
       "      <th>2017-2018 Brownline174 Duraflex 14-Month Planner 8 1/2 X 11 Black</th>\n",
       "      <th>2x Ultra Era with Oxi Booster, 50fl oz</th>\n",
       "      <th>4C Grated Parmesan Cheese 100% Natural 8oz Shaker</th>\n",
       "      <th>Africa's Best No-Lye Dual Conditioning Relaxer System Super</th>\n",
       "      <th>Alex Cross (dvdvideo)</th>\n",
       "      <th>All,bran Complete Wheat Flakes, 18 Oz.</th>\n",
       "      <th>Ambi Complexion Cleansing Bar</th>\n",
       "      <th>Annie's Homegrown Deluxe Elbows &amp; Four Cheese Sauce</th>\n",
       "      <th>...</th>\n",
       "      <th>Vaseline Intensive Care Lip Therapy Cocoa Butter</th>\n",
       "      <th>Vicks Vaporub, Regular, 3.53oz</th>\n",
       "      <th>Voortman Sugar Free Fudge Chocolate Chip Cookies</th>\n",
       "      <th>Wagan Smartac 80watt Inverter With Usb</th>\n",
       "      <th>Way Basics 3-Shelf Eco Narrow Bookcase Storage Shelf, Espresso - Formaldehyde Free - Lifetime Guarantee</th>\n",
       "      <th>WeatherTech 40647 14-15 Outlander Cargo Liners Behind 2nd Row, Black</th>\n",
       "      <th>Weleda Everon Lip Balm</th>\n",
       "      <th>Windex Original Glass Cleaner Refill 67.6oz (2 Liter)</th>\n",
       "      <th>Yes To Carrots Nourishing Body Wash</th>\n",
       "      <th>Yes To Grapefruit Rejuvenating Body Wash</th>\n",
       "    </tr>\n",
       "    <tr>\n",
       "      <th>name</th>\n",
       "      <th></th>\n",
       "      <th></th>\n",
       "      <th></th>\n",
       "      <th></th>\n",
       "      <th></th>\n",
       "      <th></th>\n",
       "      <th></th>\n",
       "      <th></th>\n",
       "      <th></th>\n",
       "      <th></th>\n",
       "      <th></th>\n",
       "      <th></th>\n",
       "      <th></th>\n",
       "      <th></th>\n",
       "      <th></th>\n",
       "      <th></th>\n",
       "      <th></th>\n",
       "      <th></th>\n",
       "      <th></th>\n",
       "      <th></th>\n",
       "      <th></th>\n",
       "    </tr>\n",
       "  </thead>\n",
       "  <tbody>\n",
       "    <tr>\n",
       "      <td>0.6 Cu. Ft. Letter A4 Size Waterproof 30 Min. Fire File Chest</td>\n",
       "      <td>1.0</td>\n",
       "      <td>0.0</td>\n",
       "      <td>0.0</td>\n",
       "      <td>0.0</td>\n",
       "      <td>0.0</td>\n",
       "      <td>0.0</td>\n",
       "      <td>0.0</td>\n",
       "      <td>0.0</td>\n",
       "      <td>0.0</td>\n",
       "      <td>0.0</td>\n",
       "      <td>...</td>\n",
       "      <td>0.0</td>\n",
       "      <td>0.0</td>\n",
       "      <td>0.0</td>\n",
       "      <td>0.0</td>\n",
       "      <td>0.0</td>\n",
       "      <td>0.0</td>\n",
       "      <td>0.0</td>\n",
       "      <td>0.0</td>\n",
       "      <td>0.0</td>\n",
       "      <td>0.0</td>\n",
       "    </tr>\n",
       "    <tr>\n",
       "      <td>100:Complete First Season (blu-Ray)</td>\n",
       "      <td>0.0</td>\n",
       "      <td>1.0</td>\n",
       "      <td>0.0</td>\n",
       "      <td>0.0</td>\n",
       "      <td>0.0</td>\n",
       "      <td>0.0</td>\n",
       "      <td>0.0</td>\n",
       "      <td>0.0</td>\n",
       "      <td>0.0</td>\n",
       "      <td>0.0</td>\n",
       "      <td>...</td>\n",
       "      <td>0.0</td>\n",
       "      <td>0.0</td>\n",
       "      <td>0.0</td>\n",
       "      <td>0.0</td>\n",
       "      <td>0.0</td>\n",
       "      <td>0.0</td>\n",
       "      <td>0.0</td>\n",
       "      <td>0.0</td>\n",
       "      <td>0.0</td>\n",
       "      <td>0.0</td>\n",
       "    </tr>\n",
       "    <tr>\n",
       "      <td>2017-2018 Brownline174 Duraflex 14-Month Planner 8 1/2 X 11 Black</td>\n",
       "      <td>0.0</td>\n",
       "      <td>0.0</td>\n",
       "      <td>0.0</td>\n",
       "      <td>0.0</td>\n",
       "      <td>0.0</td>\n",
       "      <td>0.0</td>\n",
       "      <td>0.0</td>\n",
       "      <td>0.0</td>\n",
       "      <td>0.0</td>\n",
       "      <td>0.0</td>\n",
       "      <td>...</td>\n",
       "      <td>0.0</td>\n",
       "      <td>0.0</td>\n",
       "      <td>0.0</td>\n",
       "      <td>0.0</td>\n",
       "      <td>0.0</td>\n",
       "      <td>0.0</td>\n",
       "      <td>0.0</td>\n",
       "      <td>0.0</td>\n",
       "      <td>0.0</td>\n",
       "      <td>0.0</td>\n",
       "    </tr>\n",
       "    <tr>\n",
       "      <td>2x Ultra Era with Oxi Booster, 50fl oz</td>\n",
       "      <td>0.0</td>\n",
       "      <td>0.0</td>\n",
       "      <td>0.0</td>\n",
       "      <td>1.0</td>\n",
       "      <td>0.0</td>\n",
       "      <td>0.0</td>\n",
       "      <td>0.0</td>\n",
       "      <td>0.0</td>\n",
       "      <td>0.0</td>\n",
       "      <td>0.0</td>\n",
       "      <td>...</td>\n",
       "      <td>0.0</td>\n",
       "      <td>0.0</td>\n",
       "      <td>0.0</td>\n",
       "      <td>0.0</td>\n",
       "      <td>0.0</td>\n",
       "      <td>0.0</td>\n",
       "      <td>0.0</td>\n",
       "      <td>0.0</td>\n",
       "      <td>0.0</td>\n",
       "      <td>0.0</td>\n",
       "    </tr>\n",
       "    <tr>\n",
       "      <td>4C Grated Parmesan Cheese 100% Natural 8oz Shaker</td>\n",
       "      <td>0.0</td>\n",
       "      <td>0.0</td>\n",
       "      <td>0.0</td>\n",
       "      <td>0.0</td>\n",
       "      <td>0.0</td>\n",
       "      <td>0.0</td>\n",
       "      <td>0.0</td>\n",
       "      <td>0.0</td>\n",
       "      <td>0.0</td>\n",
       "      <td>0.0</td>\n",
       "      <td>...</td>\n",
       "      <td>0.0</td>\n",
       "      <td>0.0</td>\n",
       "      <td>0.0</td>\n",
       "      <td>0.0</td>\n",
       "      <td>0.0</td>\n",
       "      <td>0.0</td>\n",
       "      <td>0.0</td>\n",
       "      <td>0.0</td>\n",
       "      <td>0.0</td>\n",
       "      <td>0.0</td>\n",
       "    </tr>\n",
       "  </tbody>\n",
       "</table>\n",
       "<p>5 rows × 197 columns</p>\n",
       "</div>"
      ],
      "text/plain": [
       "                                                    0.6 Cu. Ft. Letter A4 Size Waterproof 30 Min. Fire File Chest  \\\n",
       "name                                                                                                                \n",
       "0.6 Cu. Ft. Letter A4 Size Waterproof 30 Min. F...                                                1.0               \n",
       "100:Complete First Season (blu-Ray)                                                               0.0               \n",
       "2017-2018 Brownline174 Duraflex 14-Month Planne...                                                0.0               \n",
       "2x Ultra Era with Oxi Booster, 50fl oz                                                            0.0               \n",
       "4C Grated Parmesan Cheese 100% Natural 8oz Shaker                                                 0.0               \n",
       "\n",
       "                                                    100:Complete First Season (blu-Ray)  \\\n",
       "name                                                                                      \n",
       "0.6 Cu. Ft. Letter A4 Size Waterproof 30 Min. F...                                  0.0   \n",
       "100:Complete First Season (blu-Ray)                                                 1.0   \n",
       "2017-2018 Brownline174 Duraflex 14-Month Planne...                                  0.0   \n",
       "2x Ultra Era with Oxi Booster, 50fl oz                                              0.0   \n",
       "4C Grated Parmesan Cheese 100% Natural 8oz Shaker                                   0.0   \n",
       "\n",
       "                                                    2017-2018 Brownline174 Duraflex 14-Month Planner 8 1/2 X 11 Black  \\\n",
       "name                                                                                                                    \n",
       "0.6 Cu. Ft. Letter A4 Size Waterproof 30 Min. F...                                                0.0                   \n",
       "100:Complete First Season (blu-Ray)                                                               0.0                   \n",
       "2017-2018 Brownline174 Duraflex 14-Month Planne...                                                0.0                   \n",
       "2x Ultra Era with Oxi Booster, 50fl oz                                                            0.0                   \n",
       "4C Grated Parmesan Cheese 100% Natural 8oz Shaker                                                 0.0                   \n",
       "\n",
       "                                                    2x Ultra Era with Oxi Booster, 50fl oz  \\\n",
       "name                                                                                         \n",
       "0.6 Cu. Ft. Letter A4 Size Waterproof 30 Min. F...                                     0.0   \n",
       "100:Complete First Season (blu-Ray)                                                    0.0   \n",
       "2017-2018 Brownline174 Duraflex 14-Month Planne...                                     0.0   \n",
       "2x Ultra Era with Oxi Booster, 50fl oz                                                 1.0   \n",
       "4C Grated Parmesan Cheese 100% Natural 8oz Shaker                                      0.0   \n",
       "\n",
       "                                                    4C Grated Parmesan Cheese 100% Natural 8oz Shaker  \\\n",
       "name                                                                                                    \n",
       "0.6 Cu. Ft. Letter A4 Size Waterproof 30 Min. F...                                                0.0   \n",
       "100:Complete First Season (blu-Ray)                                                               0.0   \n",
       "2017-2018 Brownline174 Duraflex 14-Month Planne...                                                0.0   \n",
       "2x Ultra Era with Oxi Booster, 50fl oz                                                            0.0   \n",
       "4C Grated Parmesan Cheese 100% Natural 8oz Shaker                                                 0.0   \n",
       "\n",
       "                                                    Africa's Best No-Lye Dual Conditioning Relaxer System Super  \\\n",
       "name                                                                                                              \n",
       "0.6 Cu. Ft. Letter A4 Size Waterproof 30 Min. F...                                                0.0             \n",
       "100:Complete First Season (blu-Ray)                                                               0.0             \n",
       "2017-2018 Brownline174 Duraflex 14-Month Planne...                                                0.0             \n",
       "2x Ultra Era with Oxi Booster, 50fl oz                                                            0.0             \n",
       "4C Grated Parmesan Cheese 100% Natural 8oz Shaker                                                 0.0             \n",
       "\n",
       "                                                    Alex Cross (dvdvideo)  \\\n",
       "name                                                                        \n",
       "0.6 Cu. Ft. Letter A4 Size Waterproof 30 Min. F...                    0.0   \n",
       "100:Complete First Season (blu-Ray)                                   0.0   \n",
       "2017-2018 Brownline174 Duraflex 14-Month Planne...                    0.0   \n",
       "2x Ultra Era with Oxi Booster, 50fl oz                                0.0   \n",
       "4C Grated Parmesan Cheese 100% Natural 8oz Shaker                     0.0   \n",
       "\n",
       "                                                    All,bran Complete Wheat Flakes, 18 Oz.  \\\n",
       "name                                                                                         \n",
       "0.6 Cu. Ft. Letter A4 Size Waterproof 30 Min. F...                                     0.0   \n",
       "100:Complete First Season (blu-Ray)                                                    0.0   \n",
       "2017-2018 Brownline174 Duraflex 14-Month Planne...                                     0.0   \n",
       "2x Ultra Era with Oxi Booster, 50fl oz                                                 0.0   \n",
       "4C Grated Parmesan Cheese 100% Natural 8oz Shaker                                      0.0   \n",
       "\n",
       "                                                    Ambi Complexion Cleansing Bar  \\\n",
       "name                                                                                \n",
       "0.6 Cu. Ft. Letter A4 Size Waterproof 30 Min. F...                            0.0   \n",
       "100:Complete First Season (blu-Ray)                                           0.0   \n",
       "2017-2018 Brownline174 Duraflex 14-Month Planne...                            0.0   \n",
       "2x Ultra Era with Oxi Booster, 50fl oz                                        0.0   \n",
       "4C Grated Parmesan Cheese 100% Natural 8oz Shaker                             0.0   \n",
       "\n",
       "                                                    Annie's Homegrown Deluxe Elbows & Four Cheese Sauce  \\\n",
       "name                                                                                                      \n",
       "0.6 Cu. Ft. Letter A4 Size Waterproof 30 Min. F...                                                0.0     \n",
       "100:Complete First Season (blu-Ray)                                                               0.0     \n",
       "2017-2018 Brownline174 Duraflex 14-Month Planne...                                                0.0     \n",
       "2x Ultra Era with Oxi Booster, 50fl oz                                                            0.0     \n",
       "4C Grated Parmesan Cheese 100% Natural 8oz Shaker                                                 0.0     \n",
       "\n",
       "                                                    ...  \\\n",
       "name                                                ...   \n",
       "0.6 Cu. Ft. Letter A4 Size Waterproof 30 Min. F...  ...   \n",
       "100:Complete First Season (blu-Ray)                 ...   \n",
       "2017-2018 Brownline174 Duraflex 14-Month Planne...  ...   \n",
       "2x Ultra Era with Oxi Booster, 50fl oz              ...   \n",
       "4C Grated Parmesan Cheese 100% Natural 8oz Shaker   ...   \n",
       "\n",
       "                                                    Vaseline Intensive Care Lip Therapy Cocoa Butter  \\\n",
       "name                                                                                                   \n",
       "0.6 Cu. Ft. Letter A4 Size Waterproof 30 Min. F...                                               0.0   \n",
       "100:Complete First Season (blu-Ray)                                                              0.0   \n",
       "2017-2018 Brownline174 Duraflex 14-Month Planne...                                               0.0   \n",
       "2x Ultra Era with Oxi Booster, 50fl oz                                                           0.0   \n",
       "4C Grated Parmesan Cheese 100% Natural 8oz Shaker                                                0.0   \n",
       "\n",
       "                                                    Vicks Vaporub, Regular, 3.53oz  \\\n",
       "name                                                                                 \n",
       "0.6 Cu. Ft. Letter A4 Size Waterproof 30 Min. F...                             0.0   \n",
       "100:Complete First Season (blu-Ray)                                            0.0   \n",
       "2017-2018 Brownline174 Duraflex 14-Month Planne...                             0.0   \n",
       "2x Ultra Era with Oxi Booster, 50fl oz                                         0.0   \n",
       "4C Grated Parmesan Cheese 100% Natural 8oz Shaker                              0.0   \n",
       "\n",
       "                                                    Voortman Sugar Free Fudge Chocolate Chip Cookies  \\\n",
       "name                                                                                                   \n",
       "0.6 Cu. Ft. Letter A4 Size Waterproof 30 Min. F...                                               0.0   \n",
       "100:Complete First Season (blu-Ray)                                                              0.0   \n",
       "2017-2018 Brownline174 Duraflex 14-Month Planne...                                               0.0   \n",
       "2x Ultra Era with Oxi Booster, 50fl oz                                                           0.0   \n",
       "4C Grated Parmesan Cheese 100% Natural 8oz Shaker                                                0.0   \n",
       "\n",
       "                                                    Wagan Smartac 80watt Inverter With Usb  \\\n",
       "name                                                                                         \n",
       "0.6 Cu. Ft. Letter A4 Size Waterproof 30 Min. F...                                     0.0   \n",
       "100:Complete First Season (blu-Ray)                                                    0.0   \n",
       "2017-2018 Brownline174 Duraflex 14-Month Planne...                                     0.0   \n",
       "2x Ultra Era with Oxi Booster, 50fl oz                                                 0.0   \n",
       "4C Grated Parmesan Cheese 100% Natural 8oz Shaker                                      0.0   \n",
       "\n",
       "                                                    Way Basics 3-Shelf Eco Narrow Bookcase Storage Shelf, Espresso - Formaldehyde Free - Lifetime Guarantee  \\\n",
       "name                                                                                                                                                          \n",
       "0.6 Cu. Ft. Letter A4 Size Waterproof 30 Min. F...                                                0.0                                                         \n",
       "100:Complete First Season (blu-Ray)                                                               0.0                                                         \n",
       "2017-2018 Brownline174 Duraflex 14-Month Planne...                                                0.0                                                         \n",
       "2x Ultra Era with Oxi Booster, 50fl oz                                                            0.0                                                         \n",
       "4C Grated Parmesan Cheese 100% Natural 8oz Shaker                                                 0.0                                                         \n",
       "\n",
       "                                                    WeatherTech 40647 14-15 Outlander Cargo Liners Behind 2nd Row, Black  \\\n",
       "name                                                                                                                       \n",
       "0.6 Cu. Ft. Letter A4 Size Waterproof 30 Min. F...                                                0.0                      \n",
       "100:Complete First Season (blu-Ray)                                                               0.0                      \n",
       "2017-2018 Brownline174 Duraflex 14-Month Planne...                                                0.0                      \n",
       "2x Ultra Era with Oxi Booster, 50fl oz                                                            0.0                      \n",
       "4C Grated Parmesan Cheese 100% Natural 8oz Shaker                                                 0.0                      \n",
       "\n",
       "                                                    Weleda Everon Lip Balm  \\\n",
       "name                                                                         \n",
       "0.6 Cu. Ft. Letter A4 Size Waterproof 30 Min. F...                     0.0   \n",
       "100:Complete First Season (blu-Ray)                                    0.0   \n",
       "2017-2018 Brownline174 Duraflex 14-Month Planne...                     0.0   \n",
       "2x Ultra Era with Oxi Booster, 50fl oz                                 0.0   \n",
       "4C Grated Parmesan Cheese 100% Natural 8oz Shaker                      0.0   \n",
       "\n",
       "                                                    Windex Original Glass Cleaner Refill 67.6oz (2 Liter)  \\\n",
       "name                                                                                                        \n",
       "0.6 Cu. Ft. Letter A4 Size Waterproof 30 Min. F...                                                0.0       \n",
       "100:Complete First Season (blu-Ray)                                                               0.0       \n",
       "2017-2018 Brownline174 Duraflex 14-Month Planne...                                                0.0       \n",
       "2x Ultra Era with Oxi Booster, 50fl oz                                                            0.0       \n",
       "4C Grated Parmesan Cheese 100% Natural 8oz Shaker                                                 0.0       \n",
       "\n",
       "                                                    Yes To Carrots Nourishing Body Wash  \\\n",
       "name                                                                                      \n",
       "0.6 Cu. Ft. Letter A4 Size Waterproof 30 Min. F...                                  0.0   \n",
       "100:Complete First Season (blu-Ray)                                                 0.0   \n",
       "2017-2018 Brownline174 Duraflex 14-Month Planne...                                  0.0   \n",
       "2x Ultra Era with Oxi Booster, 50fl oz                                              0.0   \n",
       "4C Grated Parmesan Cheese 100% Natural 8oz Shaker                                   0.0   \n",
       "\n",
       "                                                    Yes To Grapefruit Rejuvenating Body Wash  \n",
       "name                                                                                          \n",
       "0.6 Cu. Ft. Letter A4 Size Waterproof 30 Min. F...                                       0.0  \n",
       "100:Complete First Season (blu-Ray)                                                      0.0  \n",
       "2017-2018 Brownline174 Duraflex 14-Month Planne...                                       0.0  \n",
       "2x Ultra Era with Oxi Booster, 50fl oz                                                   0.0  \n",
       "4C Grated Parmesan Cheese 100% Natural 8oz Shaker                                        0.0  \n",
       "\n",
       "[5 rows x 197 columns]"
      ]
     },
     "execution_count": 143,
     "metadata": {},
     "output_type": "execute_result"
    }
   ],
   "source": [
    "item_correlation_df_3.head()"
   ]
  },
  {
   "cell_type": "code",
   "execution_count": 144,
   "metadata": {},
   "outputs": [
    {
     "data": {
      "text/plain": [
       "array([[0.        , 0.        , 0.        , ..., 0.        , 0.        ,\n",
       "        0.        ],\n",
       "       [0.        , 0.03482064, 0.02785651, ..., 0.        , 0.05747666,\n",
       "        0.        ],\n",
       "       [0.        , 0.        , 0.        , ..., 0.        , 0.        ,\n",
       "        0.        ],\n",
       "       ...,\n",
       "       [0.        , 0.        , 0.        , ..., 0.        , 0.02974552,\n",
       "        0.        ],\n",
       "       [0.        , 0.00399036, 0.00319229, ..., 0.        , 0.        ,\n",
       "        0.        ],\n",
       "       [0.        , 0.02414832, 0.01931866, ..., 0.        , 0.        ,\n",
       "        0.        ]])"
      ]
     },
     "execution_count": 144,
     "metadata": {},
     "output_type": "execute_result"
    }
   ],
   "source": [
    "item_correlation_df_3[item_correlation_df_3<0]=0\n",
    "\n",
    "common_item_predicted_ratings = np.dot(item_correlation_df_3, common_item_based_matrix.fillna(0))\n",
    "common_item_predicted_ratings\n"
   ]
  },
  {
   "cell_type": "code",
   "execution_count": 145,
   "metadata": {},
   "outputs": [
    {
     "data": {
      "text/plain": [
       "(197, 7941)"
      ]
     },
     "execution_count": 145,
     "metadata": {},
     "output_type": "execute_result"
    }
   ],
   "source": [
    "common_item_predicted_ratings.shape"
   ]
  },
  {
   "cell_type": "markdown",
   "metadata": {},
   "source": [
    "Dummy test will be used for evaluation. To evaluate, we will only make prediction on the movies rated by the user. So, this is marked as 1. This is just opposite of dummy_train"
   ]
  },
  {
   "cell_type": "code",
   "execution_count": 146,
   "metadata": {},
   "outputs": [],
   "source": [
    "dummy_test = common.copy()\n",
    "\n",
    "dummy_test['reviews_rating'] = dummy_test['reviews_rating'].apply(lambda x: 1 if x>=1 else 0)\n",
    "\n",
    "dummy_test = dummy_test.pivot_table(index='reviews_username', columns='name', values='reviews_rating').T.fillna(0)\n",
    "\n",
    "common_item_predicted_ratings = np.multiply(common_item_predicted_ratings,dummy_test)"
   ]
  },
  {
   "cell_type": "markdown",
   "metadata": {},
   "source": [
    "The products not rated is marked as 0 for evaluation. And make the item- item matrix representaion."
   ]
  },
  {
   "cell_type": "code",
   "execution_count": 147,
   "metadata": {},
   "outputs": [],
   "source": [
    "common_ = common.pivot_table(index='reviews_username', columns='name', values='reviews_rating').T"
   ]
  },
  {
   "cell_type": "code",
   "execution_count": 148,
   "metadata": {},
   "outputs": [
    {
     "name": "stdout",
     "output_type": "stream",
     "text": [
      "MinMaxScaler(feature_range=(1, 5))\n",
      "[[nan nan nan ... nan nan nan]\n",
      " [nan nan nan ... nan nan nan]\n",
      " [nan nan nan ... nan nan nan]\n",
      " ...\n",
      " [nan nan nan ... nan nan nan]\n",
      " [nan nan nan ... nan nan nan]\n",
      " [nan nan nan ... nan nan nan]]\n"
     ]
    }
   ],
   "source": [
    "from sklearn.preprocessing import MinMaxScaler\n",
    "from numpy import *\n",
    "\n",
    "X  = common_item_predicted_ratings.copy() \n",
    "X = X[X>0]\n",
    "\n",
    "scaler = MinMaxScaler(feature_range=(1, 5))\n",
    "print(scaler.fit(X))\n",
    "y = (scaler.transform(X))\n",
    "\n",
    "print(y)"
   ]
  },
  {
   "cell_type": "code",
   "execution_count": 149,
   "metadata": {},
   "outputs": [],
   "source": [
    "# Finding total non-NaN value\n",
    "total_non_nan = np.count_nonzero(~np.isnan(y))"
   ]
  },
  {
   "cell_type": "code",
   "execution_count": 150,
   "metadata": {},
   "outputs": [
    {
     "name": "stdout",
     "output_type": "stream",
     "text": [
      "3.5689995353976856\n"
     ]
    }
   ],
   "source": [
    "rmse = (sum(sum((common_ - y )**2))/total_non_nan)**0.5\n",
    "print(rmse)"
   ]
  },
  {
   "cell_type": "code",
   "execution_count": 195,
   "metadata": {},
   "outputs": [],
   "source": [
    "pickle.dump(user_final_rating, open('final_recommendation_system','wb'))"
   ]
  },
  {
   "cell_type": "markdown",
   "metadata": {},
   "source": [
    "### we see user based recommendation system is more useful than item based when compared with their rmse"
   ]
  },
  {
   "cell_type": "markdown",
   "metadata": {},
   "source": [
    "#### Conclusion :- After creating multiple models we found logistic regression to be the best suited model and user based recommendation to be best recommendation method. So we are using these to predict and recommend products for a specific user."
   ]
  },
  {
   "cell_type": "markdown",
   "metadata": {},
   "source": [
    "# Predicting the recommendation for the user dorothy w and then finding the sentiments for the products and recommending top 5 "
   ]
  },
  {
   "cell_type": "code",
   "execution_count": 200,
   "metadata": {},
   "outputs": [],
   "source": [
    "data = pickle.load(open('data','rb'))\n",
    "\n",
    "def predict_sentiment(reviews):\n",
    "    vectoriser= pickle.load(open('tfidf_vectoriser.sav','rb'))    \n",
    "    x_input = vectoriser.transform(reviews['reviews_text'])\n",
    "    model = pickle.load(open('final_model.sav','rb'))\n",
    "    y_pred= model.predict(x_input)\n",
    "    y_pred_series = pd.Series(y_pred)\n",
    "    out = round(y_pred_series.value_counts(normalize=True),2)\n",
    "    print (out)\n",
    "    try:\n",
    "        positive_percent = out['Positive']\n",
    "    except:\n",
    "        positive_percent = 0.0\n",
    "    return positive_percent\n",
    "\n",
    "\n",
    "def recommend_product(user):\n",
    "    product_sentiment_dict={}\n",
    "    user_final_rating = pickle.load(open(\"final_recommendation_system\",'rb'))\n",
    "    recommend_products = user_final_rating.loc[user].sort_values(ascending=False)[0:20]\n",
    "\n",
    "    for item in recommend_products.index:\n",
    "        reviews = data[data['name'] == item]\n",
    "        print(item)\n",
    "        positive_percent = predict_sentiment(reviews)\n",
    "        product_sentiment_dict[item] = positive_percent\n",
    "    sorted_dict = sorted(product_sentiment_dict.items(), key=lambda x: x[1], reverse=True)\n",
    "    top5 = []\n",
    "    for item in sorted_dict[:5]:\n",
    "        top5.append(item[0])\n",
    "    print(\"Top5 Products are\")\n",
    "    return top5"
   ]
  },
  {
   "cell_type": "code",
   "execution_count": 202,
   "metadata": {},
   "outputs": [
    {
     "name": "stdout",
     "output_type": "stream",
     "text": [
      "Yes To Grapefruit Rejuvenating Body Wash\n",
      "Positive    0.85\n",
      "Negative    0.15\n",
      "dtype: float64\n",
      "Fantasy Fields Lil' Sports Fan Step Stool - Teamson\n",
      "Positive    1.0\n",
      "dtype: float64\n",
      "Heiress (dvd)\n",
      "Positive    1.0\n",
      "dtype: float64\n",
      "Head & Shoulders Dandruff Shampoo Ocean Lift 2 In 1\n",
      "Positive    0.83\n",
      "Negative    0.17\n",
      "dtype: float64\n",
      "Head & Shoulders Classic Clean Conditioner\n",
      "Positive    0.97\n",
      "Negative    0.03\n",
      "dtype: float64\n",
      "Hawaiian Punch Berry Limeade Blast Juice\n",
      "Positive    0.95\n",
      "Negative    0.05\n",
      "dtype: float64\n",
      "Happy Tot Apple and Butternut Squash\n",
      "Positive    1.0\n",
      "dtype: float64\n",
      "Greyson Vintage Industrial Occasional Cocktail Coffee Table - Antique Bronze - Baxton Studio\n",
      "Positive    1.0\n",
      "dtype: float64\n",
      "Godzilla 3d Includes Digital Copy Ultraviolet 3d/2d Blu-Ray/dvd\n",
      "Positive    0.9\n",
      "Negative    0.1\n",
      "dtype: float64\n",
      "Germ Guardian174 Elite 3-In-1 Pet Pure True Hepa Air Purifier Ac4300bptca\n",
      "Positive    1.0\n",
      "dtype: float64\n",
      "Gain Original Scent Liquid Fabric Softener 129 Oz\n",
      "Positive    1.0\n",
      "dtype: float64\n",
      "Fiskars174 Classic Stick Rotary Cutter (45 Mm)\n",
      "Positive    0.8\n",
      "Negative    0.2\n",
      "dtype: float64\n",
      "Finish Quantum Dishwasher Detergent, Lemon Sparkle Scent, 45 Count\n",
      "Positive    0.91\n",
      "Negative    0.09\n",
      "dtype: float64\n",
      "Finish Gelpacs Dishwasher Detergent, Orange Scent, 84ct\n",
      "Positive    0.88\n",
      "Negative    0.12\n",
      "dtype: float64\n",
      "Feit 60-Watt A19 Gu24 Base Led Light Bulb - Soft White\n",
      "Positive    0.62\n",
      "Negative    0.38\n",
      "dtype: float64\n",
      "Equals (blu-Ray)\n",
      "Positive    0.85\n",
      "Negative    0.15\n",
      "dtype: float64\n",
      "Cococare 100% Natural Castor Oil\n",
      "Positive    1.0\n",
      "dtype: float64\n",
      "Eagle Fat Free Sweetened Condensed Milk\n",
      "Positive    0.93\n",
      "Negative    0.07\n",
      "dtype: float64\n",
      "Doc Mcstuffins: Friendship Is The Best Medicine\n",
      "Positive    1.0\n",
      "dtype: float64\n",
      "Disney174 Jake And The Neverland Pirates 4 Piece Bedding Set - Toddler\n",
      "Positive    1.0\n",
      "dtype: float64\n",
      "Top5 Products are\n"
     ]
    },
    {
     "data": {
      "text/plain": [
       "[\"Fantasy Fields Lil' Sports Fan Step Stool - Teamson\",\n",
       " 'Heiress (dvd)',\n",
       " 'Happy Tot Apple and Butternut Squash',\n",
       " 'Greyson Vintage Industrial Occasional Cocktail Coffee Table - Antique Bronze - Baxton Studio',\n",
       " 'Germ Guardian174 Elite 3-In-1 Pet Pure True Hepa Air Purifier Ac4300bptca']"
      ]
     },
     "execution_count": 202,
     "metadata": {},
     "output_type": "execute_result"
    }
   ],
   "source": [
    "recommend_product(\"dorothy w\")"
   ]
  },
  {
   "cell_type": "code",
   "execution_count": null,
   "metadata": {},
   "outputs": [],
   "source": []
  }
 ],
 "metadata": {
  "kernelspec": {
   "display_name": "Python 3",
   "language": "python",
   "name": "python3"
  },
  "language_info": {
   "codemirror_mode": {
    "name": "ipython",
    "version": 3
   },
   "file_extension": ".py",
   "mimetype": "text/x-python",
   "name": "python",
   "nbconvert_exporter": "python",
   "pygments_lexer": "ipython3",
   "version": "3.7.4"
  }
 },
 "nbformat": 4,
 "nbformat_minor": 2
}
